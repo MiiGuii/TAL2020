{
 "cells": [
  {
   "cell_type": "markdown",
   "metadata": {},
   "source": [
    "# Tutorial 2 - Extracción de noticias en medios de prensa internacionales\n",
    "\n",
    "Ejemplo aplicado al medio: https://7news.com.au/news\n",
    "\n",
    "sintáxis del lenguaje XPath: https://www.w3schools.com/xml/xpath_syntax.asp\n",
    "\n",
    "Richard Vera"
   ]
  },
  {
   "cell_type": "markdown",
   "metadata": {},
   "source": [
    "## Parte 1: Crawling\n",
    "\n",
    "Recopilación de las URLs que contienen noticias de prensa\n",
    "\n",
    "### 1. URL _seed_"
   ]
  },
  {
   "cell_type": "markdown",
   "metadata": {},
   "source": [
    "Obtengo todas las noticias de politica de \"elnacional\" de venezuela"
   ]
  },
  {
   "cell_type": "code",
   "execution_count": 1,
   "metadata": {},
   "outputs": [],
   "source": [
    "SEED_CRAWL = 'https://www.elnacional.com/politica/page/'"
   ]
  },
  {
   "cell_type": "markdown",
   "metadata": {},
   "source": [
    "Para iniciar el proceso de crawling, necesitamos una página inicial que llamamos 'SEED'. Es la página que contiene una lista de enlaces hacia noticias."
   ]
  },
  {
   "cell_type": "markdown",
   "metadata": {},
   "source": [
    "### 2. Class _Crawler_\n",
    "\n",
    "La clase _Crawler_ se encarga de enviar una consulta HTTP (GET) a la pagina SEED.  Luego analiza la respuesta HTML para obtener los enlaces HTML.\n",
    "\n",
    "Se requiere definir la ruta HTML para obtener los enlaces que corresponden a las noticias de prensa."
   ]
  },
  {
   "cell_type": "code",
   "execution_count": 2,
   "metadata": {},
   "outputs": [],
   "source": [
    "QUERY_URL = \"//div[@class='td-ss-main-content']//h3//a/@href\""
   ]
  },
  {
   "cell_type": "code",
   "execution_count": 3,
   "metadata": {},
   "outputs": [
    {
     "data": {
      "text/plain": [
       "\"//a[@class='last']\""
      ]
     },
     "execution_count": 3,
     "metadata": {},
     "output_type": "execute_result"
    }
   ],
   "source": [
    "LAST = \"//a[@class='last']\"\n",
    "LAST"
   ]
  },
  {
   "cell_type": "markdown",
   "metadata": {},
   "source": [
    "Para consultar y analizar la pagina SEED, se utiliza una serie de librerias y se selecciona al azar un navegador web."
   ]
  },
  {
   "cell_type": "code",
   "execution_count": 4,
   "metadata": {},
   "outputs": [],
   "source": [
    "import random\n",
    "import requests\n",
    "from requests_html import HTMLSession\n",
    "from requests_html import HTML\n",
    "import os\n",
    "import json\n",
    "import validators"
   ]
  },
  {
   "cell_type": "code",
   "execution_count": 5,
   "metadata": {},
   "outputs": [],
   "source": [
    "class Crawler:\n",
    "    \n",
    "    USER_AGENT_LIST = [\n",
    "        \"Mozilla/5.0 (Windows NT 6.1; WOW64) AppleWebKit/537.1 (KHTML, like Gecko) Chrome/22.0.1207.1 Safari/537.1\",\n",
    "        \"Mozilla/5.0 (X11; CrOS i686 2268.111.0) AppleWebKit/536.11 (KHTML, like Gecko) Chrome/20.0.1132.57 Safari/536.11\",\n",
    "        \"Mozilla/5.0 (Windows NT 6.1; WOW64) AppleWebKit/536.6 (KHTML, like Gecko) Chrome/20.0.1092.0 Safari/536.6\",\n",
    "        \"Mozilla/5.0 (Windows NT 6.2) AppleWebKit/536.6 (KHTML, like Gecko) Chrome/20.0.1090.0 Safari/536.6\",\n",
    "        \"Mozilla/5.0 (Windows NT 6.2; WOW64) AppleWebKit/537.1 (KHTML, like Gecko) Chrome/19.77.34.5 Safari/537.1\",\n",
    "        \"Mozilla/5.0 (X11; Linux x86_64) AppleWebKit/536.5 (KHTML, like Gecko) Chrome/19.0.1084.9 Safari/536.5\",\n",
    "        \"Mozilla/5.0 (Windows NT 6.0) AppleWebKit/536.5 (KHTML, like Gecko) Chrome/19.0.1084.36 Safari/536.5\",\n",
    "        \"Mozilla/5.0 (Windows NT 6.1; WOW64) AppleWebKit/536.3 (KHTML, like Gecko) Chrome/19.0.1063.0 Safari/536.3\",\n",
    "        \"Mozilla/5.0 (Windows NT 5.1) AppleWebKit/536.3 (KHTML, like Gecko) Chrome/19.0.1063.0 Safari/536.3\",\n",
    "        \"Mozilla/5.0 (Macintosh; Intel Mac OS X 10_8_0) AppleWebKit/536.3 (KHTML, like Gecko) Chrome/19.0.1063.0 Safari/536.3\",\n",
    "        \"Mozilla/5.0 (Windows NT 6.2) AppleWebKit/536.3 (KHTML, like Gecko) Chrome/19.0.1062.0 Safari/536.3\",\n",
    "        \"Mozilla/5.0 (Windows NT 6.1; WOW64) AppleWebKit/536.3 (KHTML, like Gecko) Chrome/19.0.1062.0 Safari/536.3\",\n",
    "        \"Mozilla/5.0 (Windows NT 6.2) AppleWebKit/536.3 (KHTML, like Gecko) Chrome/19.0.1061.1 Safari/536.3\",\n",
    "        \"Mozilla/5.0 (Windows NT 6.1; WOW64) AppleWebKit/536.3 (KHTML, like Gecko) Chrome/19.0.1061.1 Safari/536.3\",\n",
    "        \"Mozilla/5.0 (Windows NT 6.1) AppleWebKit/536.3 (KHTML, like Gecko) Chrome/19.0.1061.1 Safari/536.3\",\n",
    "        \"Mozilla/5.0 (Windows NT 6.2) AppleWebKit/536.3 (KHTML, like Gecko) Chrome/19.0.1061.0 Safari/536.3\",\n",
    "        \"Mozilla/5.0 (X11; Linux x86_64) AppleWebKit/535.24 (KHTML, like Gecko) Chrome/19.0.1055.1 Safari/535.24\",\n",
    "        \"Mozilla/5.0 (Windows NT 6.2; WOW64) AppleWebKit/535.24 (KHTML, like Gecko) Chrome/19.0.1055.1 Safari/535.24\"\n",
    "]\n",
    "\n",
    "    #ruta XPATH hacia los enlaces que queremos recopilar\n",
    "    query_extract_all_href=QUERY_URL\n",
    "\n",
    "    #variable que permite listar todos los enlaces recopilado\n",
    "    all_json_to_send = []\n",
    "    \n",
    "    def _init_(self):\n",
    "        pass\n",
    "    \n",
    "    def start_request(self,url):\n",
    "        session = HTMLSession()\n",
    "        header = dict()\n",
    "        header['user-agent'] = random.choice(self.USER_AGENT_LIST)\n",
    "        response = session.get(url,headers=header)        \n",
    "        return response\n",
    "    \n",
    "    def parse(self, response):\n",
    "        #self.all_json_to_send = []\n",
    "        all_extracted_href = response.html.xpath(self.query_extract_all_href)\n",
    "        for href in all_extracted_href:\n",
    "            json_to_send= dict()\n",
    "            json_to_send[\"url\"]=href\n",
    "            self.all_json_to_send.append(json_to_send)"
   ]
  },
  {
   "cell_type": "markdown",
   "metadata": {},
   "source": [
    "### 3. Crawling y parsing"
   ]
  },
  {
   "cell_type": "code",
   "execution_count": 6,
   "metadata": {},
   "outputs": [
    {
     "data": {
      "text/plain": [
       "32767"
      ]
     },
     "execution_count": 6,
     "metadata": {},
     "output_type": "execute_result"
    }
   ],
   "source": [
    "import numpy as np\n",
    "ii16 = np.iinfo(np.int16)\n",
    "ii16.max"
   ]
  },
  {
   "cell_type": "code",
   "execution_count": 18,
   "metadata": {},
   "outputs": [
    {
     "name": "stdout",
     "output_type": "stream",
     "text": [
      "[{'url': <Element 'a' href='https://www.elnacional.com/politica/page/1993/' class=('last',) title='1,993'>}, {'url': <Element 'a' href='https://www.elnacional.com/politica/page/1993/' class=('last',) title='1,993'>}, {'url': <Element 'a' href='https://www.elnacional.com/politica/page/1993/' class=('last',) title='1,993'>}, {'url': <Element 'a' href='https://www.elnacional.com/politica/page/1993/' class=('last',) title='1,993'>}, {'url': <Element 'a' href='https://www.elnacional.com/politica/page/1993/' class=('last',) title='1,993'>}, {'url': <Element 'a' href='https://www.elnacional.com/politica/page/1993/' class=('last',) title='1,993'>}, {'url': <Element 'a' href='https://www.elnacional.com/politica/page/1993/' class=('last',) title='1,993'>}, {'url': <Element 'a' href='https://www.elnacional.com/politica/page/1993/' class=('last',) title='1,993'>}, {'url': <Element 'a' href='https://www.elnacional.com/politica/page/1993/' class=('last',) title='1,993'>}, {'url': <Element 'a' href='https://www.elnacional.com/politica/page/1993/' class=('last',) title='1,993'>}, {'url': <Element 'a' href='https://www.elnacional.com/politica/page/1993/' class=('last',) title='1,993'>}, {'url': <Element 'a' href='https://www.elnacional.com/politica/page/1993/' class=('last',) title='1,993'>}]\n"
     ]
    }
   ],
   "source": [
    "crawler = Crawler()\n",
    "crawler.query_extract_all_href = LAST\n",
    "SEED_CRAWL_AUX = \"\"\n",
    "response = crawler.start_request(\"https://www.elnacional.com/politica/page/1/\")\n",
    "crawler.parse(response)\n",
    "print (crawler.all_json_to_send[0]['url'])\n",
    "last_page = int(crawler.all_json_to_send[0]['url'].text.replace(\",\",\"\"))\n",
    "crawler.query_extract_all_href = QUERY_URL\n",
    "crawler.all_json_to_send = []\n",
    "##for i in range (last_page):\n",
    "##    SEED_CRAWL_AUX = SEED_CRAWL+str(i+1)+\"/\"\n",
    "##    response = crawler.start_request(SEED_CRAWL_AUX)\n",
    "##    crawler.parse(response)\n",
    "##    print(i)"
   ]
  },
  {
   "cell_type": "code",
   "execution_count": 8,
   "metadata": {
    "scrolled": true
   },
   "outputs": [
    {
     "data": {
      "text/plain": [
       "[{'url': 'https://www.elnacional.com/venezuela/el-gobierno-de-argentina-no-apoyo-el-pedido-del-grupo-de-lima-para-que-haya-elecciones-libres-en-venezuela/'},\n",
       " {'url': 'https://www.elnacional.com/venezuela/carlos-alvarado-dio-positivo-por-coronavirus-y-esta-aislado-desde-hace-11-dias/'},\n",
       " {'url': 'https://www.elnacional.com/venezuela/espana-enviar-emisarios-a-venezuela-no-implica-el-blanqueo-de-la-dictadura/'},\n",
       " {'url': 'https://www.elnacional.com/venezuela/an-juramento-a-los-integrantes-del-comite-organizador-de-la-consulta-popular/'},\n",
       " {'url': 'https://www.elnacional.com/venezuela/an-exigio-a-la-fanb-la-expulsion-de-grupos-irregulares-de-los-territorios-indigenas/'},\n",
       " {'url': 'https://www.elnacional.com/venezuela/asamblea-nacional-aprobo-acuerdo-que-declara-inconstitucional-e-inexistente-la-ley-antibloqueo/'},\n",
       " {'url': 'https://www.elnacional.com/venezuela/regimen-de-maduro-hostiga-a-familiares-de-funcionarios-de-juan-guaido/'},\n",
       " {'url': 'https://www.elnacional.com/venezuela/michael-kozak-el-mundo-debe-apoyar-una-restauracion-de-la-democracia-en-venezuela/'},\n",
       " {'url': 'https://www.elnacional.com/venezuela/venezolanos-con-el-pasaporte-vencido-pueden-participar-en-la-loteria-de-visas-2022/'},\n",
       " {'url': 'https://www.elnacional.com/venezuela/juan-eleazar-figallo-revelo-la-razon-de-su-ausencia-en-el-programa-el-solidario/'},\n",
       " {'url': 'https://www.elnacional.com/venezuela/grupo-de-lima-discutira-las-graves-violaciones-de-ddhh-cometidas-en-venezuela/'},\n",
       " {'url': 'https://www.elnacional.com/venezuela/politica/regimen-comenzo-auditorias-de-las-maquinas-de-votacion-para-las-parlamentarias/'},\n",
       " {'url': 'https://www.elnacional.com/venezuela/human-rights-watch-y-johns-hopkins-maduro-abusa-de-los-retornados/'},\n",
       " {'url': 'https://www.elnacional.com/venezuela/el-sebin-allana-residencia-de-director-del-correo-del-caroni/'},\n",
       " {'url': 'https://www.elnacional.com/venezuela/la-union-europea-a-diputado-expulsado-de-primero-justicia-no-hay-condiciones-para-unas-elecciones-libres/'},\n",
       " {'url': 'https://www.elnacional.com/venezuela/politikafe-de-la-ucab-abordara-los-retos-de-la-sociedad-civil-en-venezuela/'},\n",
       " {'url': 'https://www.elnacional.com/venezuela/ue-insta-a-borrell-a-continuar-facilitando-el-dialogo-en-venezuela/'},\n",
       " {'url': 'https://www.elnacional.com/venezuela/borges-ley-antibloqueo-es-la-oficializacion-del-crimen-organizado-en-el-pais/'},\n",
       " {'url': 'https://www.elnacional.com/venezuela/maduro-dice-que-probaran-en-venezuela-una-vacuna-china-contra-el-covid-19/'},\n",
       " {'url': 'https://www.elnacional.com/venezuela/embajador-de-espana-todo-lo-que-pase-en-venezuela-es-importante-para-nosotros/'},\n",
       " {'url': 'https://www.elnacional.com/venezuela/rafael-ramirez-critico-ley-antibloqueo-no-es-mas-que-una-ley-del-saqueo/'},\n",
       " {'url': 'https://www.elnacional.com/venezuela/alberto-fernandez-sobre-venezuela-los-problemas-de-derechos-humanos-no-tienen-ideologia-si-se-violan-se-violan/'},\n",
       " {'url': 'https://www.elnacional.com/venezuela/colombia-rechazo-las-acusaciones-conspirativas-de-nicolas-maduro/'},\n",
       " {'url': 'https://www.elnacional.com/venezuela/josep-borrell-la-situacion-de-venezuela-es-insostenible/'},\n",
       " {'url': 'https://www.elnacional.com/venezuela/lideres-politicos-alertan-regimen-de-maduro-pretende-rematar-venezuela/'},\n",
       " {'url': 'https://www.elnacional.com/venezuela/guaido-instalo-consejo-nacional-de-defensa-judicial-de-la-republica/'},\n",
       " {'url': 'https://www.elnacional.com/venezuela/an-denuncio-incremento-de-la-represion-en-las-protestas/'},\n",
       " {'url': 'https://www.elnacional.com/venezuela/maduro-asegura-que-colombia-prepara-mercenarios-para-invadir-venezuela/'},\n",
       " {'url': 'https://www.elnacional.com/venezuela/infobae-el-regimen-de-maduro-censura-hasta-por-los-estados-de-whatsapp/'},\n",
       " {'url': 'https://www.elnacional.com/venezuela/fuerte-cruce-de-opiniones-en-programa-argentino-por-venezuela-no-podemos-defender-ese-sistema-perverso/'},\n",
       " {'url': 'https://www.elnacional.com/venezuela/tsj-de-maduro-anulo-acusacion-contra-imputados-por-muerte-del-capitan-acosta-arevalo/'},\n",
       " {'url': 'https://www.elnacional.com/venezuela/iran-hezbola-y-maduro-convirtieron-a-venezuela-en-centro-del-terrorismo-internacional/'},\n",
       " {'url': 'https://www.elnacional.com/venezuela/maduro-creo-un-centro-internacional-de-inversiones-para-atraer-capitales/'},\n",
       " {'url': 'https://www.elnacional.com/venezuela/guaido-con-la-ley-antibloqueo-el-dictador-pretende-ganar-control/'},\n",
       " {'url': 'https://www.elnacional.com/venezuela/impidieron-que-un-constituyente-participara-en-el-debate-de-la-ley-antibloqueo/'},\n",
       " {'url': 'https://www.elnacional.com/venezuela/fiscalia-de-bogota-confirma-que-no-existe-una-orden-de-captura-contra-ortega-diaz/'},\n",
       " {'url': 'https://www.elnacional.com/venezuela/se-garantiza-transparencia-cne-presento-las-maquinas-de-votacion-para-las-parlamentarias/'},\n",
       " {'url': 'https://www.elnacional.com/venezuela/fallecio-el-general-raul-salazar-exministro-de-defensa-del-gobierno-de-chavez/'},\n",
       " {'url': 'https://www.elnacional.com/bbc-news-mundo/vacuna-rusa-contra-el-coronavirus-que-se-sabe-del-plan-de-maduro-que-convierte-a-venezuela-en-el-primer-pais-de-america-latina-en-probar-la-sputnik-v/'},\n",
       " {'url': 'https://www.elnacional.com/venezuela/dante-rivas-anuncio-que-se-contagio-de-covid-19/'},\n",
       " {'url': 'https://www.elnacional.com/venezuela/los-puntos-mas-controversiales-de-la-ley-antibloqueo-aprobada-por-la-anc/'},\n",
       " {'url': 'https://www.elnacional.com/venezuela/el-mensaje-de-guaido-tras-el-reencuentro-de-marrero-con-su-familia/'},\n",
       " {'url': 'https://www.elnacional.com/venezuela/embajada-virtual-de-ee-uu-en-venezuela-celebro-libertad-de-roberto-marrero/'},\n",
       " {'url': 'https://www.elnacional.com/venezuela/simonovis-bajo-el-radar-empresario-ruso-por-desfalcar-el-patrimonio-de-venezuela/'},\n",
       " {'url': 'https://www.elnacional.com/venezuela/constituyente-aprobo-ley-antibloqueo-que-busca-eludir-sanciones/'},\n",
       " {'url': 'https://www.elnacional.com/venezuela/anularon-acusacion-contra-los-implicados-en-la-muerte-de-fernando-alban/'},\n",
       " {'url': 'https://www.elnacional.com/venezuela/presencia-de-tarek-william-saab-en-reunion-en-la-cancilleria-sorprendio-a-la-embajadora-de-la-ue/'},\n",
       " {'url': 'https://www.elnacional.com/venezuela/alex-la-espia-de-maduro-que-detuvieron-en-colombia/'},\n",
       " {'url': 'https://www.elnacional.com/venezuela/maquinas-de-votacion-para-el-6d-estan-en-el-pais/'},\n",
       " {'url': 'https://www.elnacional.com/venezuela/argentina-afirmo-que-no-se-dejara-amedrentar-por-denunciar-violaciones-de-dd-hh-en-venezuela/'},\n",
       " {'url': 'https://www.elnacional.com/venezuela/autopsia-verbal-la-nueva-herramienta-para-documentar-muertes-por-covid-19-en-venezuela/'},\n",
       " {'url': 'https://www.elnacional.com/venezuela/personal-medico-protesto-frente-al-ministerio-de-salud-por-mejores-condiciones/'},\n",
       " {'url': 'https://www.elnacional.com/venezuela/politica/la-gran-convocatoria-es-a-rechazar-el-fraude-guaido-pide-movilizacion-para-rescatar-la-democracia/'},\n",
       " {'url': 'https://www.elnacional.com/venezuela/arreaza-madrugo-para-expresar-su-preocupacion-por-la-integridad-fisica-de-saab/'},\n",
       " {'url': 'https://www.elnacional.com/venezuela/frente-de-entendimiento-nacional-rechaza-proyecto-de-ley-antibloqueo/'},\n",
       " {'url': 'https://www.elnacional.com/venezuela/exigen-justicia-en-el-sebin-a-dos-anos-de-la-muerte-de-fernando-alban/'},\n",
       " {'url': 'https://www.elnacional.com/venezuela/ee-uu-ofrece-recompensa-de-5-millones-de-dolares-para-llevar-ante-la-justicia-a-samark-lopez/'},\n",
       " {'url': 'https://www.elnacional.com/venezuela/centro-carter-no-hay-condiciones-para-unas-elecciones-transparentes-en-venezuela/'},\n",
       " {'url': 'https://www.elnacional.com/venezuela/comision-de-bachelet-pudo-ingresar-a-la-sede-de-la-dgcim-en-boleita/'},\n",
       " {'url': 'https://www.elnacional.com/venezuela/es-una-intervencion-humanitaria-la-unica-salida-a-la-crisis-de-venezuela/'},\n",
       " {'url': 'https://www.elnacional.com/venezuela/guaido-agradecio-el-apoyo-de-argentina-en-la-onu/'},\n",
       " {'url': 'https://www.elnacional.com/venezuela/maduro-dice-que-la-ley-antibloqueo-dara-nuevas-perspectivas-economicas/'},\n",
       " {'url': 'https://www.elnacional.com/venezuela/maria-corina-machado-el-rostro-femenino-de-la-politica-venezolana/'},\n",
       " {'url': 'https://www.elnacional.com/venezuela/michael-kozak-no-puede-haber-elecciones-justas-mientras-los-jueces-sigan-las-ordenes-de-maduro/'},\n",
       " {'url': 'https://www.elnacional.com/venezuela/la-violacion-de-derechos-humanos-por-que-se-acentua-la-soledad-regional-de-maduro/'},\n",
       " {'url': 'https://www.elnacional.com/venezuela/la-respuesta-de-luis-parra-al-polemico-video-en-el-que-se-le-ve-contando-un-fajo-de-billetes-en-europa/'},\n",
       " {'url': 'https://www.elnacional.com/venezuela/alberto-fernandez-analizo-personalmente-con-michelle-bachelet-los-informes-de-dd-hh-sobre-venezuela/'},\n",
       " {'url': 'https://www.elnacional.com/venezuela/la-reaccion-de-guaido-tras-filtrarse-video-de-luis-parra-contando-un-fajo-de-euros/'},\n",
       " {'url': 'https://www.elnacional.com/venezuela/josep-borrell-a-nicolas-maduro-lo-tratamos-como-a-aleksandr-lukashenko/'},\n",
       " {'url': 'https://www.elnacional.com/venezuela/borrell-el-g4-me-pidio-que-contactara-al-regimen-de-maduro/'}]"
      ]
     },
     "execution_count": 8,
     "metadata": {},
     "output_type": "execute_result"
    }
   ],
   "source": [
    "crawler.all_json_to_send"
   ]
  },
  {
   "cell_type": "markdown",
   "metadata": {},
   "source": [
    "### 4. Testing"
   ]
  },
  {
   "cell_type": "markdown",
   "metadata": {},
   "source": [
    "Para verificar que el crawler funciona, implementamos dos tests:"
   ]
  },
  {
   "cell_type": "code",
   "execution_count": 9,
   "metadata": {},
   "outputs": [],
   "source": [
    "#el crawler debe devolver una lista no vacia\n",
    "assert(len(crawler.all_json_to_send)>0) "
   ]
  },
  {
   "cell_type": "code",
   "execution_count": 10,
   "metadata": {},
   "outputs": [],
   "source": [
    "#lo que devuelve el crawler deben ser URLs correctas\n",
    "assert validators.url(crawler.all_json_to_send[0][\"url\"])"
   ]
  },
  {
   "cell_type": "markdown",
   "metadata": {},
   "source": [
    "## Parte 2: Scraping\n",
    "\n",
    "Recopilación del contenido y de metadatos (título, fecha) de las noticias de prensa"
   ]
  },
  {
   "cell_type": "markdown",
   "metadata": {},
   "source": [
    "### 1. URL _seed_ "
   ]
  },
  {
   "cell_type": "code",
   "execution_count": 11,
   "metadata": {},
   "outputs": [],
   "source": [
    "SEED_SCRAP = 'https://www.elnacional.com/venezuela/la-union-europea-no-puede-avalar-un-fraude-en-diciembre-ni-seis-meses-despues/'"
   ]
  },
  {
   "cell_type": "markdown",
   "metadata": {},
   "source": [
    "Para iniciar el proceso de scraping, necesitamos una página inicial que llamamos 'SEED'. Es la página que contiene una noticia.\n"
   ]
  },
  {
   "cell_type": "markdown",
   "metadata": {},
   "source": [
    "### 2. Class _Scraper_\n",
    "\n",
    "La clase _Scraper_ se encarga de enviar una consulta HTTP (GET) a la pagina SEED. Luego analiza la respuesta HTML para obtener el contenido de la noticia y sus metadatos.\n",
    "\n",
    "Se requiere definir la ruta HTML para obtener los datos que nos interesan."
   ]
  },
  {
   "cell_type": "code",
   "execution_count": 12,
   "metadata": {},
   "outputs": [],
   "source": [
    "QUERY_TITLE = \"//h1[@class='entry-title']\"\n",
    "QUERY_CONTENT =  \"//div[@class='td-post-content']//p\"\n",
    "QUERY_DATE = \"//span[@class='td-post-date']//time\""
   ]
  },
  {
   "cell_type": "code",
   "execution_count": 13,
   "metadata": {},
   "outputs": [],
   "source": [
    "import json\n",
    "import w3lib.html\n",
    "import random\n",
    "import os\n",
    "import datetime\n",
    "import dateutil\n",
    "import requests\n",
    "import string\n",
    "import calendar\n",
    "import html\n",
    "import locale \n",
    "from requests_html import HTMLSession"
   ]
  },
  {
   "cell_type": "code",
   "execution_count": 14,
   "metadata": {},
   "outputs": [],
   "source": [
    "class Scraper:\n",
    "    \n",
    "    USER_AGENT_LIST = [\n",
    "        \"Mozilla/5.0 (Windows NT 6.1; WOW64) AppleWebKit/537.1 (KHTML, like Gecko) Chrome/22.0.1207.1 Safari/537.1\",\n",
    "        \"Mozilla/5.0 (X11; CrOS i686 2268.111.0) AppleWebKit/536.11 (KHTML, like Gecko) Chrome/20.0.1132.57 Safari/536.11\",\n",
    "        \"Mozilla/5.0 (Windows NT 6.1; WOW64) AppleWebKit/536.6 (KHTML, like Gecko) Chrome/20.0.1092.0 Safari/536.6\",\n",
    "        \"Mozilla/5.0 (Windows NT 6.2) AppleWebKit/536.6 (KHTML, like Gecko) Chrome/20.0.1090.0 Safari/536.6\",\n",
    "        \"Mozilla/5.0 (Windows NT 6.2; WOW64) AppleWebKit/537.1 (KHTML, like Gecko) Chrome/19.77.34.5 Safari/537.1\",\n",
    "        \"Mozilla/5.0 (X11; Linux x86_64) AppleWebKit/536.5 (KHTML, like Gecko) Chrome/19.0.1084.9 Safari/536.5\",\n",
    "        \"Mozilla/5.0 (Windows NT 6.0) AppleWebKit/536.5 (KHTML, like Gecko) Chrome/19.0.1084.36 Safari/536.5\",\n",
    "        \"Mozilla/5.0 (Windows NT 6.1; WOW64) AppleWebKit/536.3 (KHTML, like Gecko) Chrome/19.0.1063.0 Safari/536.3\",\n",
    "        \"Mozilla/5.0 (Windows NT 5.1) AppleWebKit/536.3 (KHTML, like Gecko) Chrome/19.0.1063.0 Safari/536.3\",\n",
    "        \"Mozilla/5.0 (Macintosh; Intel Mac OS X 10_8_0) AppleWebKit/536.3 (KHTML, like Gecko) Chrome/19.0.1063.0 Safari/536.3\",\n",
    "        \"Mozilla/5.0 (Windows NT 6.2) AppleWebKit/536.3 (KHTML, like Gecko) Chrome/19.0.1062.0 Safari/536.3\",\n",
    "        \"Mozilla/5.0 (Windows NT 6.1; WOW64) AppleWebKit/536.3 (KHTML, like Gecko) Chrome/19.0.1062.0 Safari/536.3\",\n",
    "        \"Mozilla/5.0 (Windows NT 6.2) AppleWebKit/536.3 (KHTML, like Gecko) Chrome/19.0.1061.1 Safari/536.3\",\n",
    "        \"Mozilla/5.0 (Windows NT 6.1; WOW64) AppleWebKit/536.3 (KHTML, like Gecko) Chrome/19.0.1061.1 Safari/536.3\",\n",
    "        \"Mozilla/5.0 (Windows NT 6.1) AppleWebKit/536.3 (KHTML, like Gecko) Chrome/19.0.1061.1 Safari/536.3\",\n",
    "        \"Mozilla/5.0 (Windows NT 6.2) AppleWebKit/536.3 (KHTML, like Gecko) Chrome/19.0.1061.0 Safari/536.3\",\n",
    "        \"Mozilla/5.0 (X11; Linux x86_64) AppleWebKit/535.24 (KHTML, like Gecko) Chrome/19.0.1055.1 Safari/535.24\",\n",
    "        \"Mozilla/5.0 (Windows NT 6.2; WOW64) AppleWebKit/535.24 (KHTML, like Gecko) Chrome/19.0.1055.1 Safari/535.24\"\n",
    "    ]\n",
    "\n",
    "    query_extract_title = QUERY_TITLE\n",
    "    query_extract_text =  QUERY_CONTENT\n",
    "    query_extract_date = QUERY_DATE\n",
    "\n",
    "    def _init_(self):\n",
    "        pass\n",
    "\n",
    "    #no cambiar    \n",
    "    def start_request(self,url):\n",
    "        headers = {'user-agent':random.choice(self.USER_AGENT_LIST) }\n",
    "        session = HTMLSession()\n",
    "        response = session.get(url,headers=headers)        \n",
    "        return response\n",
    "    \n",
    "    #no cambiar\n",
    "    def clean_text(self, html_text):\n",
    "        text_without_tags = w3lib.html.remove_tags(html_text)\n",
    "        text_without_escape_chars = w3lib.html.replace_escape_chars(text_without_tags)\n",
    "        text_without_escape_chars = html.unescape(text_without_escape_chars)\n",
    "        text_without_whitespace = text_without_escape_chars.strip()\n",
    "        return text_without_whitespace\n",
    "\n",
    "    #no cambiar\n",
    "    def replace_month_name_to_number(self,date_string):\n",
    "        lower_string = date_string.lower()\n",
    "        for month_id in range(1, 13):\n",
    "            if(lower_string.find(calendar.month_name[month_id].lower())!=-1):\n",
    "                if(month_id>=10):\n",
    "                    return (lower_string.replace(calendar.month_name[month_id].lower(),str(month_id)))\n",
    "                else:\n",
    "                    return (lower_string.replace(calendar.month_name[month_id].lower(),\"0\"+str(month_id)))\n",
    "            if(lower_string.find(calendar.month_abbr[month_id].lower())!=-1):\n",
    "                if(month_id>=10):\n",
    "                    return (lower_string.replace(calendar.month_abbr[month_id].lower(),str(month_id)))\n",
    "                else:\n",
    "                    return (lower_string.replace(calendar.month_abbr[month_id].lower(),\"0\"+str(month_id)))\n",
    "                    \n",
    "    #se puede cambiar\n",
    "    def format_date(self,date):\n",
    "        #date_with_noise = date.split(\":\")[1]\n",
    "        #date_without_noise = date_with_noise[:len(date_with_noise)-2].rstrip().lstrip()\n",
    "        #only_date_with_numbers = self.replace_month_name_to_number(date_without_noise)\n",
    "        #temp_date = datetime.datetime.strptime(only_date_with_numbers, '%m %d, %Y')\n",
    "        date = dateutil.parser.parse(date)\n",
    "        date = datetime.date.strftime(date, \"%Y-%m-%d\")\n",
    "        return(date)\n",
    "    \n",
    "    #se puede cambiar\n",
    "    def parse(self, response):\n",
    "        self.news_text = []\n",
    "        self.message_to_send = []\n",
    "        self.scraped_url = response.url\n",
    "        self.news_title = response.html.xpath(self.query_extract_title)[0].text\n",
    "        self.date = response.html.xpath(self.query_extract_date)[0].text\n",
    "\n",
    "        self.news_title = self.clean_text(self.news_title)\n",
    "        self.date = self.clean_text(self.date)\n",
    "        self.date = self.format_date(self.date)\n",
    "        \n",
    "        news_text_extracted_response = response.html.xpath(self.query_extract_text)\n",
    "        for part_of_body in news_text_extracted_response:\n",
    "            stripped_html_tags = w3lib.html.remove_tags(part_of_body.text)\n",
    "            text_cleaned = self.clean_text(stripped_html_tags)\n",
    "            self.news_text.append(text_cleaned)     "
   ]
  },
  {
   "cell_type": "markdown",
   "metadata": {},
   "source": [
    "### 3. Scraping"
   ]
  },
  {
   "cell_type": "code",
   "execution_count": 15,
   "metadata": {},
   "outputs": [],
   "source": [
    "scraper = Scraper()\n",
    "response =scraper.start_request(SEED_SCRAP)"
   ]
  },
  {
   "cell_type": "code",
   "execution_count": 16,
   "metadata": {
    "scrolled": true
   },
   "outputs": [],
   "source": [
    "scraper.parse(response)"
   ]
  },
  {
   "cell_type": "code",
   "execution_count": 17,
   "metadata": {},
   "outputs": [
    {
     "data": {
      "text/plain": [
       "'“La Unión Europea no puede avalar un fraude en diciembre ni seis meses después”'"
      ]
     },
     "execution_count": 17,
     "metadata": {},
     "output_type": "execute_result"
    }
   ],
   "source": [
    "scraper.news_title"
   ]
  },
  {
   "cell_type": "code",
   "execution_count": 18,
   "metadata": {},
   "outputs": [
    {
     "data": {
      "text/plain": [
       "'2020-10-07'"
      ]
     },
     "execution_count": 18,
     "metadata": {},
     "output_type": "execute_result"
    }
   ],
   "source": [
    "scraper.date"
   ]
  },
  {
   "cell_type": "code",
   "execution_count": 19,
   "metadata": {},
   "outputs": [
    {
     "data": {
      "text/plain": [
       "['El eurodiputado venezolano Leopoldo López Gil increpó a Josep Borrell, alto representante para Asuntos Exteriores y Política de Seguridad de la Unión Europea, en la sesión plenaria del Parlamento Europeo por los contactos que tuvo con el régimen de Nicolás Maduro.',\n",
       " '“El objetivo último de la dictadura de Maduro es mantenerse a toda costa en el poder. Concertar con ese régimen de manera secreta es ingenuo. La observación electoral emanada de nuestra institución no puede avalar un fraude electoral convocado para diciembre ni para seis meses después”, enfatizó.',\n",
       " '“Como alto representante de la Unión Europea una de sus responsabilidades es asegurar la coherencia de la acción exterior”, enfatizó.',\n",
       " '“¿Enviaría usted una misión a Bielorrusia una misión para negociar con ese régimen las elecciones organizadas por el propio Lukashenko?”, preguntó.',\n",
       " '“¿Existen garantías para que se puedan llevar a cabo unas elecciones transparentes y democráticas en Venezuela?”, agregó.',\n",
       " 'Dijo que anteponer las elecciones legislativas a las parlamentarias era absurdo.',\n",
       " 'De los contactos con el régimen de Maduro, Borrell dijo que los hizo en acuerdo con el G4, el grupo de partidos que sirve de base política a Juan Guaidó, formado por Voluntad Popular, Acción Democrática, Primero Justicia y Un Nuevo Tiempo.',\n",
       " '“Créanme que no me he lanzado al ruedo como un espontáneo. Empecé a hacerlo porque así me lo pidió el G4, dirigido por el presidente Guaidó, para que trasladase al régimen las condiciones mínimas que la oposición consideraba necesarias para participar en un proceso creíble”, afirmó.',\n",
       " '“Así lo hice, y durante todo el mes de agosto he mantenido contactos por videoconferencia como telefónicos tanto con el G4 como con otros líderes de la oposición, y por supuesto con el gobierno del señor Maduro, y de todo ello he hecho declaraciones públicas, tanto en foros formales como en la reunión ministerial del Grupo Internacional de Contacto que tuvo lugar el 17 de septiembre y el Consejo de Asuntos Exteriores del 21 de septiembre”, aseguró.',\n",
       " 'Dijo que en agosto emitió un comunicado donde señaló que en las elecciones parlamentarias convocadas para el 6 de diciembre no se daban las condiciones para considerarlas como libres y participativas, “pero al mismo tiempo insistí, tanto al gobierno como a la oposición, intentar encontrar una aproximación de sus posiciones para hacer posibles unas elecciones donde la Unión Europea pudiera participar como observador”.',\n",
       " 'Borrell dijo que toda la información fue pública. Explicó que, aunque Guaidó como otros líderes consideraban imposible un aplazamiento de las elecciones, “no estaban en contra de que se intentase prolongar el plazo electoral para seguir negociando y la posibilidad de una posibilidad electoral de nuestra parte, que solo podía ocurrir si se diesen las condiciones necesarias para ello”.']"
      ]
     },
     "execution_count": 19,
     "metadata": {},
     "output_type": "execute_result"
    }
   ],
   "source": [
    "scraper.news_text"
   ]
  },
  {
   "cell_type": "markdown",
   "metadata": {},
   "source": [
    "### 4. Testing"
   ]
  },
  {
   "cell_type": "code",
   "execution_count": 20,
   "metadata": {},
   "outputs": [],
   "source": [
    "# Una función que verifica que las fechas tienen el formato correcto YYYY-MM-DD\n",
    "def validate(date_text):\n",
    "    try:\n",
    "        datetime.datetime.strptime(date_text, \"%Y-%m-%d\")\n",
    "        return True\n",
    "    except:\n",
    "        print(\"La fecha no tiene el formato correcto, año-mes-dia\")\n",
    "        return False"
   ]
  },
  {
   "cell_type": "code",
   "execution_count": 21,
   "metadata": {},
   "outputs": [],
   "source": [
    "#Verificamos que el scraper devuelve algo y que las fechas tienen un formato correcto\n",
    "assert(len(scraper.news_title)>0)\n",
    "assert(len(scraper.news_text)>0)\n",
    "assert(validate(scraper.date))"
   ]
  },
  {
   "cell_type": "code",
   "execution_count": null,
   "metadata": {},
   "outputs": [],
   "source": []
  }
 ],
 "metadata": {
  "kernelspec": {
   "display_name": "Python 3",
   "language": "python",
   "name": "python3"
  },
  "language_info": {
   "codemirror_mode": {
    "name": "ipython",
    "version": 3
   },
   "file_extension": ".py",
   "mimetype": "text/x-python",
   "name": "python",
   "nbconvert_exporter": "python",
   "pygments_lexer": "ipython3",
   "version": "3.8.6"
  }
 },
 "nbformat": 4,
 "nbformat_minor": 2
}
