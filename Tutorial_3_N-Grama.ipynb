{
 "cells": [
  {
   "cell_type": "markdown",
   "metadata": {},
   "source": [
    "## 3. Trabajo práctico\n"
   ]
  },
  {
   "cell_type": "markdown",
   "metadata": {},
   "source": [
    "### Parte 1\n",
    "Aprender modelos de lenguaje N-Grama (N=3, N=4 o N=5) para distintos medios de prensa\n",
    "\n",
    "- ¿Se puede observar algunas diferencias relevantes en los modelos de lenguaje de cada medio?\n",
    "- ¿Se podría identificar sesgos ideológicos utilizando estos modelos de lenguaje?"
   ]
  },
  {
   "cell_type": "markdown",
   "metadata": {},
   "source": [
    "### CNN Chile"
   ]
  },
  {
   "cell_type": "code",
   "execution_count": 1,
   "metadata": {},
   "outputs": [
    {
     "data": {
      "text/html": [
       "<div>\n",
       "<style scoped>\n",
       "    .dataframe tbody tr th:only-of-type {\n",
       "        vertical-align: middle;\n",
       "    }\n",
       "\n",
       "    .dataframe tbody tr th {\n",
       "        vertical-align: top;\n",
       "    }\n",
       "\n",
       "    .dataframe thead th {\n",
       "        text-align: right;\n",
       "    }\n",
       "</style>\n",
       "<table border=\"1\" class=\"dataframe\">\n",
       "  <thead>\n",
       "    <tr style=\"text-align: right;\">\n",
       "      <th></th>\n",
       "      <th>Unnamed: 0</th>\n",
       "      <th>country</th>\n",
       "      <th>media_outlet</th>\n",
       "      <th>url</th>\n",
       "      <th>title</th>\n",
       "      <th>body</th>\n",
       "      <th>date</th>\n",
       "    </tr>\n",
       "  </thead>\n",
       "  <tbody>\n",
       "    <tr>\n",
       "      <th>0</th>\n",
       "      <td>0</td>\n",
       "      <td>chile</td>\n",
       "      <td>cnnchile</td>\n",
       "      <td>https://www.cnnchile.com/pais/caso-ambar-confi...</td>\n",
       "      <td>Caso Ámbar: Fiscalía confirma que cadáver fue ...</td>\n",
       "      <td>La Fiscalía confirmó este jueves el hallazgo d...</td>\n",
       "      <td>2020-08-06</td>\n",
       "    </tr>\n",
       "    <tr>\n",
       "      <th>1</th>\n",
       "      <td>1</td>\n",
       "      <td>chile</td>\n",
       "      <td>cnnchile</td>\n",
       "      <td>https://www.cnnchile.com/pais/parlamentarios-b...</td>\n",
       "      <td>Parlamentarios latinoamericanos piden a Bachel...</td>\n",
       "      <td>Un grupo de parlamentarios de distintas nacion...</td>\n",
       "      <td>2020-08-06</td>\n",
       "    </tr>\n",
       "    <tr>\n",
       "      <th>2</th>\n",
       "      <td>2</td>\n",
       "      <td>chile</td>\n",
       "      <td>cnnchile</td>\n",
       "      <td>https://www.cnnchile.com/pais/caso-ambar-detie...</td>\n",
       "      <td>Caso Ámbar: Detienen a la madre y su pareja po...</td>\n",
       "      <td>La Policía de Investigaciones (PDI) de Villa A...</td>\n",
       "      <td>2020-08-06</td>\n",
       "    </tr>\n",
       "    <tr>\n",
       "      <th>3</th>\n",
       "      <td>3</td>\n",
       "      <td>chile</td>\n",
       "      <td>cnnchile</td>\n",
       "      <td>https://www.cnnchile.com/pais/diputados-rn-pro...</td>\n",
       "      <td>Diputados RN presentan proyecto para regular r...</td>\n",
       "      <td>(Agencia Uno) – Luego de jurar y hacer oficial...</td>\n",
       "      <td>2020-08-06</td>\n",
       "    </tr>\n",
       "    <tr>\n",
       "      <th>4</th>\n",
       "      <td>4</td>\n",
       "      <td>chile</td>\n",
       "      <td>cnnchile</td>\n",
       "      <td>https://www.cnnchile.com/pais/diputado-mellado...</td>\n",
       "      <td>Mellado (RN) por crisis en La Araucanía: “¿Qui...</td>\n",
       "      <td>(Agencia Uno) – Cómo “insólito” calificó el di...</td>\n",
       "      <td>2020-08-06</td>\n",
       "    </tr>\n",
       "    <tr>\n",
       "      <th>...</th>\n",
       "      <td>...</td>\n",
       "      <td>...</td>\n",
       "      <td>...</td>\n",
       "      <td>...</td>\n",
       "      <td>...</td>\n",
       "      <td>...</td>\n",
       "      <td>...</td>\n",
       "    </tr>\n",
       "    <tr>\n",
       "      <th>16467</th>\n",
       "      <td>13351</td>\n",
       "      <td>chile</td>\n",
       "      <td>cnnchile</td>\n",
       "      <td>https://www.cnnchile.com/deportes/croacia-derr...</td>\n",
       "      <td>Croacia derrotó a Dinamarca y pasó a cuartos d...</td>\n",
       "      <td>Croacia y Dinamarca, al igual que el partido e...</td>\n",
       "      <td>2018-07-01</td>\n",
       "    </tr>\n",
       "    <tr>\n",
       "      <th>16468</th>\n",
       "      <td>13352</td>\n",
       "      <td>chile</td>\n",
       "      <td>cnnchile</td>\n",
       "      <td>https://www.cnnchile.com/deportes/espana-cayo-...</td>\n",
       "      <td>España cayó ante Rusia y queda eliminada del M...</td>\n",
       "      <td>¿Qué pasó? En un nuevo encuentro por el Mundia...</td>\n",
       "      <td>2018-07-01</td>\n",
       "    </tr>\n",
       "    <tr>\n",
       "      <th>16469</th>\n",
       "      <td>13353</td>\n",
       "      <td>chile</td>\n",
       "      <td>cnnchile</td>\n",
       "      <td>https://www.cnnchile.com/deportes/los-argentin...</td>\n",
       "      <td>Los argentinos que darán “un paso al costado” ...</td>\n",
       "      <td>¿Qué pasó? Este sábado 30 de junio la selecció...</td>\n",
       "      <td>2018-06-30</td>\n",
       "    </tr>\n",
       "    <tr>\n",
       "      <th>16470</th>\n",
       "      <td>13354</td>\n",
       "      <td>chile</td>\n",
       "      <td>cnnchile</td>\n",
       "      <td>https://www.cnnchile.com/deportes/uruguay-avan...</td>\n",
       "      <td>Uruguay avanza a cuartos de final y deja atrás...</td>\n",
       "      <td>Uruguay avanzó a los cuartos de final de Rusia...</td>\n",
       "      <td>2018-06-30</td>\n",
       "    </tr>\n",
       "    <tr>\n",
       "      <th>16471</th>\n",
       "      <td>13355</td>\n",
       "      <td>chile</td>\n",
       "      <td>cnnchile</td>\n",
       "      <td>https://www.cnnchile.com/deportes/los-mejores-...</td>\n",
       "      <td>Los mejores memes que dejó el partido entre Ar...</td>\n",
       "      <td>¿Qué pasó? Este sábado 30 de junio se vivió el...</td>\n",
       "      <td>2018-06-30</td>\n",
       "    </tr>\n",
       "  </tbody>\n",
       "</table>\n",
       "<p>16472 rows × 7 columns</p>\n",
       "</div>"
      ],
      "text/plain": [
       "       Unnamed: 0 country  media_outlet  \\\n",
       "0               0    chile     cnnchile   \n",
       "1               1    chile     cnnchile   \n",
       "2               2    chile     cnnchile   \n",
       "3               3    chile     cnnchile   \n",
       "4               4    chile     cnnchile   \n",
       "...           ...      ...          ...   \n",
       "16467       13351    chile     cnnchile   \n",
       "16468       13352    chile     cnnchile   \n",
       "16469       13353    chile     cnnchile   \n",
       "16470       13354    chile     cnnchile   \n",
       "16471       13355    chile     cnnchile   \n",
       "\n",
       "                                                     url  \\\n",
       "0      https://www.cnnchile.com/pais/caso-ambar-confi...   \n",
       "1      https://www.cnnchile.com/pais/parlamentarios-b...   \n",
       "2      https://www.cnnchile.com/pais/caso-ambar-detie...   \n",
       "3      https://www.cnnchile.com/pais/diputados-rn-pro...   \n",
       "4      https://www.cnnchile.com/pais/diputado-mellado...   \n",
       "...                                                  ...   \n",
       "16467  https://www.cnnchile.com/deportes/croacia-derr...   \n",
       "16468  https://www.cnnchile.com/deportes/espana-cayo-...   \n",
       "16469  https://www.cnnchile.com/deportes/los-argentin...   \n",
       "16470  https://www.cnnchile.com/deportes/uruguay-avan...   \n",
       "16471  https://www.cnnchile.com/deportes/los-mejores-...   \n",
       "\n",
       "                                                   title  \\\n",
       "0      Caso Ámbar: Fiscalía confirma que cadáver fue ...   \n",
       "1      Parlamentarios latinoamericanos piden a Bachel...   \n",
       "2      Caso Ámbar: Detienen a la madre y su pareja po...   \n",
       "3      Diputados RN presentan proyecto para regular r...   \n",
       "4      Mellado (RN) por crisis en La Araucanía: “¿Qui...   \n",
       "...                                                  ...   \n",
       "16467  Croacia derrotó a Dinamarca y pasó a cuartos d...   \n",
       "16468  España cayó ante Rusia y queda eliminada del M...   \n",
       "16469  Los argentinos que darán “un paso al costado” ...   \n",
       "16470  Uruguay avanza a cuartos de final y deja atrás...   \n",
       "16471  Los mejores memes que dejó el partido entre Ar...   \n",
       "\n",
       "                                                    body        date  \n",
       "0      La Fiscalía confirmó este jueves el hallazgo d...  2020-08-06  \n",
       "1      Un grupo de parlamentarios de distintas nacion...  2020-08-06  \n",
       "2      La Policía de Investigaciones (PDI) de Villa A...  2020-08-06  \n",
       "3      (Agencia Uno) – Luego de jurar y hacer oficial...  2020-08-06  \n",
       "4      (Agencia Uno) – Cómo “insólito” calificó el di...  2020-08-06  \n",
       "...                                                  ...         ...  \n",
       "16467  Croacia y Dinamarca, al igual que el partido e...  2018-07-01  \n",
       "16468  ¿Qué pasó? En un nuevo encuentro por el Mundia...  2018-07-01  \n",
       "16469  ¿Qué pasó? Este sábado 30 de junio la selecció...  2018-06-30  \n",
       "16470  Uruguay avanzó a los cuartos de final de Rusia...  2018-06-30  \n",
       "16471  ¿Qué pasó? Este sábado 30 de junio se vivió el...  2018-06-30  \n",
       "\n",
       "[16472 rows x 7 columns]"
      ]
     },
     "execution_count": 1,
     "metadata": {},
     "output_type": "execute_result"
    }
   ],
   "source": [
    "from gensim.models import word2vec\n",
    "import pandas as pd\n",
    "\n",
    "DATASET=\"/home/luciano/Tratamiento_Lenguaje/INFO082_2020/datasets/CNNCHILE_RAW.csv\" #ej: nprnews-eeuu.csv, radionewzealand.csv\n",
    "\n",
    "df_CNN = pd.read_csv(DATASET,sep=',',error_bad_lines=False)\n",
    "df_CNN"
   ]
  },
  {
   "cell_type": "code",
   "execution_count": 2,
   "metadata": {},
   "outputs": [
    {
     "data": {
      "text/plain": [
       "0        La Fiscalía confirmó este jueves el hallazgo d...\n",
       "1        Un grupo de parlamentarios de distintas nacion...\n",
       "2        La Policía de Investigaciones (PDI) de Villa A...\n",
       "3        (Agencia Uno) – Luego de jurar y hacer oficial...\n",
       "4        (Agencia Uno) – Cómo “insólito” calificó el di...\n",
       "                               ...                        \n",
       "16467    Croacia y Dinamarca, al igual que el partido e...\n",
       "16468    ¿Qué pasó? En un nuevo encuentro por el Mundia...\n",
       "16469    ¿Qué pasó? Este sábado 30 de junio la selecció...\n",
       "16470    Uruguay avanzó a los cuartos de final de Rusia...\n",
       "16471    ¿Qué pasó? Este sábado 30 de junio se vivió el...\n",
       "Name: body, Length: 16472, dtype: object"
      ]
     },
     "execution_count": 2,
     "metadata": {},
     "output_type": "execute_result"
    }
   ],
   "source": [
    "df_short = df_CNN['body']\n",
    "df_short"
   ]
  },
  {
   "cell_type": "code",
   "execution_count": 3,
   "metadata": {},
   "outputs": [],
   "source": [
    "data = []\n",
    "for news in df_short:\n",
    "    if(type(news)!= float):\n",
    "        data.append(news.split())"
   ]
  },
  {
   "cell_type": "code",
   "execution_count": 7,
   "metadata": {},
   "outputs": [
    {
     "data": {
      "text/plain": [
       "16281"
      ]
     },
     "execution_count": 7,
     "metadata": {},
     "output_type": "execute_result"
    }
   ],
   "source": [
    "data\n",
    "len(data)"
   ]
  },
  {
   "cell_type": "code",
   "execution_count": 5,
   "metadata": {},
   "outputs": [],
   "source": [
    "from nltk.corpus import reuters\n",
    "from nltk import bigrams, trigrams\n",
    "from collections import Counter, defaultdict\n",
    "\n",
    "\n",
    "# Create a placeholder for model\n",
    "model = defaultdict(lambda: defaultdict(lambda: 0))\n",
    "\n",
    "# Count frequency of co-occurance  \n",
    "for sentence in data:\n",
    "    for w1, w2, w3 in trigrams(sentence, pad_right=True, pad_left=True):\n",
    "        model[(w1, w2)][w3] += 1\n",
    " \n",
    "# Let's transform the counts to probabilities\n",
    "for w1_w2 in model:\n",
    "    total_count = float(sum(model[w1_w2].values()))\n",
    "    for w3 in model[w1_w2]:\n",
    "        model[w1_w2][w3] /= total_count"
   ]
  },
  {
   "cell_type": "code",
   "execution_count": 16,
   "metadata": {},
   "outputs": [
    {
     "data": {
      "text/plain": [
       "{'y': 0.1096938775510204,\n",
       " 'intrafamiliar,': 0.002551020408163265,\n",
       " 'en': 0.08418367346938775,\n",
       " 'fascista.': 0.002551020408163265,\n",
       " 'venga': 0.00510204081632653,\n",
       " 'ya': 0.002551020408163265,\n",
       " 'contra': 0.09693877551020408,\n",
       " 'retrocedan': 0.002551020408163265,\n",
       " 'pare': 0.002551020408163265,\n",
       " 'que': 0.07142857142857142,\n",
       " 'sexual': 0.015306122448979591,\n",
       " 'política': 0.007653061224489796,\n",
       " 'es': 0.01020408163265306,\n",
       " 'va': 0.002551020408163265,\n",
       " 'e': 0.00510204081632653,\n",
       " 'hacia': 0.030612244897959183,\n",
       " 'de': 0.15306122448979592,\n",
       " 'constitutiva': 0.002551020408163265,\n",
       " 'basada': 0.002551020408163265,\n",
       " 'no': 0.02295918367346939,\n",
       " 'intrafamiliar': 0.002551020408163265,\n",
       " 'machista': 0.015306122448979591,\n",
       " 'del': 0.007653061224489796,\n",
       " 'intrafamiliar”.': 0.002551020408163265,\n",
       " 'definitivamente': 0.002551020408163265,\n",
       " 'siempre': 0.002551020408163265,\n",
       " 'cualquiera': 0.002551020408163265,\n",
       " 'tuviera': 0.002551020408163265,\n",
       " 'policial': 0.03571428571428571,\n",
       " 'machista”': 0.002551020408163265,\n",
       " 'y,': 0.01020408163265306,\n",
       " 'intentó': 0.002551020408163265,\n",
       " 'política,': 0.002551020408163265,\n",
       " 'solo': 0.00510204081632653,\n",
       " 'retrocedemos”,': 0.002551020408163265,\n",
       " 'como': 0.007653061224489796,\n",
       " 'a': 0.002551020408163265,\n",
       " '“pero': 0.002551020408163265,\n",
       " 'o': 0.015306122448979591,\n",
       " 'hay': 0.002551020408163265,\n",
       " 'estructural': 0.002551020408163265,\n",
       " 'verbal”.': 0.002551020408163265,\n",
       " 'intrafamiliar.': 0.002551020408163265,\n",
       " 'machista.': 0.00510204081632653,\n",
       " 'político': 0.00510204081632653,\n",
       " '“representa': 0.002551020408163265,\n",
       " 'callen': 0.002551020408163265,\n",
       " 'sigue': 0.002551020408163265,\n",
       " 'tuvo': 0.012755102040816327,\n",
       " 'se': 0.002551020408163265,\n",
       " 'policial”.': 0.002551020408163265,\n",
       " 'durante': 0.007653061224489796,\n",
       " 'una': 0.002551020408163265,\n",
       " 'nunca': 0.00510204081632653,\n",
       " 'sexual,': 0.007653061224489796,\n",
       " 'psicológica': 0.002551020408163265,\n",
       " 'han': 0.002551020408163265,\n",
       " 'gana': 0.002551020408163265,\n",
       " 'histórica': 0.00510204081632653,\n",
       " 'policial.': 0.007653061224489796,\n",
       " 'puso': 0.002551020408163265,\n",
       " 'sexual.': 0.00510204081632653,\n",
       " 'antisemita”.': 0.002551020408163265,\n",
       " 'con': 0.017857142857142856,\n",
       " 'porque': 0.00510204081632653,\n",
       " 'extrema,': 0.002551020408163265,\n",
       " 'cometida': 0.002551020408163265,\n",
       " 'machista,': 0.002551020408163265,\n",
       " 'doméstica,': 0.002551020408163265,\n",
       " 'más': 0.002551020408163265,\n",
       " 'policial,': 0.002551020408163265,\n",
       " 'un': 0.002551020408163265,\n",
       " 'cuando': 0.00510204081632653,\n",
       " 'racial': 0.002551020408163265,\n",
       " 'haya': 0.002551020408163265,\n",
       " 'doméstica': 0.00510204081632653,\n",
       " 'criminal': 0.002551020408163265,\n",
       " 'doméstica”.': 0.002551020408163265,\n",
       " 'fuera': 0.002551020408163265,\n",
       " 'Protestas': 0.002551020408163265,\n",
       " 'demuestran': 0.007653061224489796,\n",
       " 'colombiana': 0.002551020408163265,\n",
       " 'inmediata': 0.002551020408163265,\n",
       " 'comenzó': 0.007653061224489796,\n",
       " 'fue': 0.007653061224489796,\n",
       " 'estalló': 0.00510204081632653,\n",
       " 'escaló': 0.002551020408163265,\n",
       " 'doméstica.': 0.002551020408163265,\n",
       " '–mediante': 0.002551020408163265,\n",
       " 'intradomiciliaria,': 0.002551020408163265,\n",
       " 'interpersonal)”,': 0.002551020408163265,\n",
       " 'armada.': 0.002551020408163265,\n",
       " 'emocional': 0.01020408163265306,\n",
       " 'emocional”,': 0.002551020408163265,\n",
       " 'ha': 0.002551020408163265,\n",
       " 'escolar.': 0.002551020408163265,\n",
       " 'étnica': 0.002551020408163265,\n",
       " 'ejercida': 0.002551020408163265,\n",
       " 'dentro': 0.002551020408163265}"
      ]
     },
     "execution_count": 16,
     "metadata": {},
     "output_type": "execute_result"
    }
   ],
   "source": [
    "dict(model[\"la\",\"violencia\"])"
   ]
  },
  {
   "cell_type": "markdown",
   "metadata": {},
   "source": [
    "### CadenaSER España"
   ]
  },
  {
   "cell_type": "code",
   "execution_count": 17,
   "metadata": {},
   "outputs": [
    {
     "data": {
      "text/html": [
       "<div>\n",
       "<style scoped>\n",
       "    .dataframe tbody tr th:only-of-type {\n",
       "        vertical-align: middle;\n",
       "    }\n",
       "\n",
       "    .dataframe tbody tr th {\n",
       "        vertical-align: top;\n",
       "    }\n",
       "\n",
       "    .dataframe thead th {\n",
       "        text-align: right;\n",
       "    }\n",
       "</style>\n",
       "<table border=\"1\" class=\"dataframe\">\n",
       "  <thead>\n",
       "    <tr style=\"text-align: right;\">\n",
       "      <th></th>\n",
       "      <th>Unnamed: 0</th>\n",
       "      <th>country</th>\n",
       "      <th>media_outlet</th>\n",
       "      <th>url</th>\n",
       "      <th>title</th>\n",
       "      <th>body</th>\n",
       "      <th>date</th>\n",
       "    </tr>\n",
       "  </thead>\n",
       "  <tbody>\n",
       "    <tr>\n",
       "      <th>0</th>\n",
       "      <td>0</td>\n",
       "      <td>espana</td>\n",
       "      <td>cadenaser</td>\n",
       "      <td>https://cadenaser.com/ser/2011/05/05/politica/...</td>\n",
       "      <td>Mourinho hace campaña en Asturias</td>\n",
       "      <td>Dicen los cursis y los amigos del tópico qu...</td>\n",
       "      <td>2011-05-05</td>\n",
       "    </tr>\n",
       "    <tr>\n",
       "      <th>1</th>\n",
       "      <td>1</td>\n",
       "      <td>espana</td>\n",
       "      <td>cadenaser</td>\n",
       "      <td>https://cadenaser.com/ser/2011/05/05/politica/...</td>\n",
       "      <td>Pistoletazo de salida... esta vez no es tópico</td>\n",
       "      <td>Esta noche a las doce o, como dicen los textos...</td>\n",
       "      <td>2011-05-05</td>\n",
       "    </tr>\n",
       "    <tr>\n",
       "      <th>2</th>\n",
       "      <td>2</td>\n",
       "      <td>espana</td>\n",
       "      <td>cadenaser</td>\n",
       "      <td>https://cadenaser.com/ser/2011/05/05/politica/...</td>\n",
       "      <td>Cuenta atrás</td>\n",
       "      <td>Comienza la cuenta atrás de unas elecciones...</td>\n",
       "      <td>2011-05-05</td>\n",
       "    </tr>\n",
       "    <tr>\n",
       "      <th>3</th>\n",
       "      <td>3</td>\n",
       "      <td>espana</td>\n",
       "      <td>cadenaser</td>\n",
       "      <td>https://cadenaser.com/ser/2011/05/05/politica/...</td>\n",
       "      <td>Incògnites en l’inici de campanya</td>\n",
       "      <td>Aconseguiran els socialistes catalans manten...</td>\n",
       "      <td>2011-05-05</td>\n",
       "    </tr>\n",
       "    <tr>\n",
       "      <th>4</th>\n",
       "      <td>4</td>\n",
       "      <td>espana</td>\n",
       "      <td>cadenaser</td>\n",
       "      <td>https://cadenaser.com/ser/2011/05/05/politica/...</td>\n",
       "      <td>Incógnitas en el inicio de campaña</td>\n",
       "      <td>¿Conseguirán los socialistas catalanes mante...</td>\n",
       "      <td>2011-05-05</td>\n",
       "    </tr>\n",
       "    <tr>\n",
       "      <th>...</th>\n",
       "      <td>...</td>\n",
       "      <td>...</td>\n",
       "      <td>...</td>\n",
       "      <td>...</td>\n",
       "      <td>...</td>\n",
       "      <td>...</td>\n",
       "      <td>...</td>\n",
       "    </tr>\n",
       "    <tr>\n",
       "      <th>14373</th>\n",
       "      <td>10479</td>\n",
       "      <td>espana</td>\n",
       "      <td>cadenaser</td>\n",
       "      <td>https://cadenaser.com/ser/2005/07/19/economia/...</td>\n",
       "      <td>Hewlett-Packard planea recortar 14.500 empleos...</td>\n",
       "      <td>La compañía informática Hewlett-Packard planea...</td>\n",
       "      <td>2005-07-19 14:26</td>\n",
       "    </tr>\n",
       "    <tr>\n",
       "      <th>14374</th>\n",
       "      <td>10480</td>\n",
       "      <td>espana</td>\n",
       "      <td>cadenaser</td>\n",
       "      <td>https://cadenaser.com/ser/2005/07/19/economia/...</td>\n",
       "      <td>El Estado obtuvo un déficit hasta junio de 1.1...</td>\n",
       "      <td>El Estado tuvo en los seis primeros meses del ...</td>\n",
       "      <td>2005-07-19 14:09</td>\n",
       "    </tr>\n",
       "    <tr>\n",
       "      <th>14375</th>\n",
       "      <td>10481</td>\n",
       "      <td>espana</td>\n",
       "      <td>cadenaser</td>\n",
       "      <td>https://cadenaser.com/ser/2005/07/19/economia/...</td>\n",
       "      <td>France Télécom reconoce que estudia lanzar una...</td>\n",
       "      <td>France Télécom ha reconocido que está estudian...</td>\n",
       "      <td>2005-07-19 10:42</td>\n",
       "    </tr>\n",
       "    <tr>\n",
       "      <th>14376</th>\n",
       "      <td>10482</td>\n",
       "      <td>espana</td>\n",
       "      <td>cadenaser</td>\n",
       "      <td>https://cadenaser.com/ser/2005/07/19/economia/...</td>\n",
       "      <td>Bankinter incrementó su beneficio un 9,69% en ...</td>\n",
       "      <td>El Grupo Bankinter aumentó su beneficio neto a...</td>\n",
       "      <td>2005-07-19 08:40</td>\n",
       "    </tr>\n",
       "    <tr>\n",
       "      <th>14377</th>\n",
       "      <td>10483</td>\n",
       "      <td>espana</td>\n",
       "      <td>cadenaser</td>\n",
       "      <td>https://cadenaser.com/ser/2005/07/18/economia/...</td>\n",
       "      <td>20.000 remolacheros rechazan en Bruselas la re...</td>\n",
       "      <td>Cientos de agricultores españoles se manifesta...</td>\n",
       "      <td>2005-07-18 17:36</td>\n",
       "    </tr>\n",
       "  </tbody>\n",
       "</table>\n",
       "<p>14378 rows × 7 columns</p>\n",
       "</div>"
      ],
      "text/plain": [
       "       Unnamed: 0 country  media_outlet  \\\n",
       "0               0   espana    cadenaser   \n",
       "1               1   espana    cadenaser   \n",
       "2               2   espana    cadenaser   \n",
       "3               3   espana    cadenaser   \n",
       "4               4   espana    cadenaser   \n",
       "...           ...      ...          ...   \n",
       "14373       10479   espana    cadenaser   \n",
       "14374       10480   espana    cadenaser   \n",
       "14375       10481   espana    cadenaser   \n",
       "14376       10482   espana    cadenaser   \n",
       "14377       10483   espana    cadenaser   \n",
       "\n",
       "                                                     url  \\\n",
       "0      https://cadenaser.com/ser/2011/05/05/politica/...   \n",
       "1      https://cadenaser.com/ser/2011/05/05/politica/...   \n",
       "2      https://cadenaser.com/ser/2011/05/05/politica/...   \n",
       "3      https://cadenaser.com/ser/2011/05/05/politica/...   \n",
       "4      https://cadenaser.com/ser/2011/05/05/politica/...   \n",
       "...                                                  ...   \n",
       "14373  https://cadenaser.com/ser/2005/07/19/economia/...   \n",
       "14374  https://cadenaser.com/ser/2005/07/19/economia/...   \n",
       "14375  https://cadenaser.com/ser/2005/07/19/economia/...   \n",
       "14376  https://cadenaser.com/ser/2005/07/19/economia/...   \n",
       "14377  https://cadenaser.com/ser/2005/07/18/economia/...   \n",
       "\n",
       "                                                   title  \\\n",
       "0                      Mourinho hace campaña en Asturias   \n",
       "1         Pistoletazo de salida... esta vez no es tópico   \n",
       "2                                           Cuenta atrás   \n",
       "3                      Incògnites en l’inici de campanya   \n",
       "4                     Incógnitas en el inicio de campaña   \n",
       "...                                                  ...   \n",
       "14373  Hewlett-Packard planea recortar 14.500 empleos...   \n",
       "14374  El Estado obtuvo un déficit hasta junio de 1.1...   \n",
       "14375  France Télécom reconoce que estudia lanzar una...   \n",
       "14376  Bankinter incrementó su beneficio un 9,69% en ...   \n",
       "14377  20.000 remolacheros rechazan en Bruselas la re...   \n",
       "\n",
       "                                                    body              date  \n",
       "0         Dicen los cursis y los amigos del tópico qu...        2011-05-05  \n",
       "1      Esta noche a las doce o, como dicen los textos...        2011-05-05  \n",
       "2         Comienza la cuenta atrás de unas elecciones...        2011-05-05  \n",
       "3        Aconseguiran els socialistes catalans manten...        2011-05-05  \n",
       "4        ¿Conseguirán los socialistas catalanes mante...        2011-05-05  \n",
       "...                                                  ...               ...  \n",
       "14373  La compañía informática Hewlett-Packard planea...  2005-07-19 14:26  \n",
       "14374  El Estado tuvo en los seis primeros meses del ...  2005-07-19 14:09  \n",
       "14375  France Télécom ha reconocido que está estudian...  2005-07-19 10:42  \n",
       "14376  El Grupo Bankinter aumentó su beneficio neto a...  2005-07-19 08:40  \n",
       "14377  Cientos de agricultores españoles se manifesta...  2005-07-18 17:36  \n",
       "\n",
       "[14378 rows x 7 columns]"
      ]
     },
     "execution_count": 17,
     "metadata": {},
     "output_type": "execute_result"
    }
   ],
   "source": [
    "DATASET2=\"/home/luciano/Tratamiento_Lenguaje/INFO082_2020/datasets/CADENASER_RAW.csv\" #ej: nprnews-eeuu.csv, radionewzealand.csv\n",
    "\n",
    "df_CDS = pd.read_csv(DATASET2,sep=',',error_bad_lines=False)\n",
    "df_CDS"
   ]
  },
  {
   "cell_type": "code",
   "execution_count": 18,
   "metadata": {},
   "outputs": [
    {
     "data": {
      "text/plain": [
       "0           Dicen los cursis y los amigos del tópico qu...\n",
       "1        Esta noche a las doce o, como dicen los textos...\n",
       "2           Comienza la cuenta atrás de unas elecciones...\n",
       "3          Aconseguiran els socialistes catalans manten...\n",
       "4          ¿Conseguirán los socialistas catalanes mante...\n",
       "                               ...                        \n",
       "14373    La compañía informática Hewlett-Packard planea...\n",
       "14374    El Estado tuvo en los seis primeros meses del ...\n",
       "14375    France Télécom ha reconocido que está estudian...\n",
       "14376    El Grupo Bankinter aumentó su beneficio neto a...\n",
       "14377    Cientos de agricultores españoles se manifesta...\n",
       "Name: body, Length: 14378, dtype: object"
      ]
     },
     "execution_count": 18,
     "metadata": {},
     "output_type": "execute_result"
    }
   ],
   "source": [
    "df_short2 = df_CDS['body']\n",
    "df_short2"
   ]
  },
  {
   "cell_type": "code",
   "execution_count": 19,
   "metadata": {},
   "outputs": [],
   "source": [
    "data2 = []\n",
    "for news in df_short2:\n",
    "    if(type(news)!= float):\n",
    "        data2.append(news.split())"
   ]
  },
  {
   "cell_type": "code",
   "execution_count": 20,
   "metadata": {},
   "outputs": [],
   "source": [
    "from nltk.corpus import reuters\n",
    "from nltk import bigrams, trigrams\n",
    "from collections import Counter, defaultdict\n",
    "\n",
    "\n",
    "# Create a placeholder for model\n",
    "model = defaultdict(lambda: defaultdict(lambda: 0))\n",
    "\n",
    "# Count frequency of co-occurance  \n",
    "for sentence in data2:\n",
    "    for w1, w2, w3 in trigrams(sentence, pad_right=True, pad_left=True):\n",
    "        model[(w1, w2)][w3] += 1\n",
    " \n",
    "# Let's transform the counts to probabilities\n",
    "for w1_w2 in model:\n",
    "    total_count = float(sum(model[w1_w2].values()))\n",
    "    for w3 in model[w1_w2]:\n",
    "        model[w1_w2][w3] /= total_count"
   ]
  },
  {
   "cell_type": "code",
   "execution_count": 24,
   "metadata": {},
   "outputs": [
    {
     "data": {
      "text/plain": [
       "{',': 0.005376344086021506,\n",
       " 'machista.': 0.03225806451612903,\n",
       " 'y': 0.10215053763440861,\n",
       " 'de': 0.26881720430107525,\n",
       " 'machista,': 0.03763440860215054,\n",
       " 'hacia': 0.005376344086021506,\n",
       " 'machista': 0.053763440860215055,\n",
       " 'creo': 0.005376344086021506,\n",
       " 'interna': 0.005376344086021506,\n",
       " 'en': 0.15053763440860216,\n",
       " 'doméstica,': 0.010752688172043012,\n",
       " 'del': 0.021505376344086023,\n",
       " 'que': 0.010752688172043012,\n",
       " 'callejera': 0.005376344086021506,\n",
       " 'el': 0.010752688172043012,\n",
       " 'es': 0.010752688172043012,\n",
       " 'iniciado': 0.005376344086021506,\n",
       " 'sobre': 0.010752688172043012,\n",
       " 'política': 0.005376344086021506,\n",
       " 'contra': 0.016129032258064516,\n",
       " 'durante': 0.005376344086021506,\n",
       " 'policial': 0.03763440860215054,\n",
       " 'sexual': 0.026881720430107527,\n",
       " 'o': 0.010752688172043012,\n",
       " 'racista': 0.010752688172043012,\n",
       " 'no': 0.005376344086021506,\n",
       " 'institucional,': 0.005376344086021506,\n",
       " 'ocurrida': 0.005376344086021506,\n",
       " 'policial,': 0.005376344086021506,\n",
       " 'intercomunitaria': 0.005376344086021506,\n",
       " '\"meridianamente': 0.005376344086021506,\n",
       " 'policial.': 0.005376344086021506,\n",
       " 'social.': 0.005376344086021506,\n",
       " 'racial\",': 0.005376344086021506,\n",
       " 'desenfrenada': 0.005376344086021506,\n",
       " 'se': 0.005376344086021506,\n",
       " 'tuvo': 0.005376344086021506,\n",
       " 'oficial': 0.005376344086021506,\n",
       " 'registrada': 0.005376344086021506,\n",
       " 'física': 0.005376344086021506,\n",
       " 'antisemita\".': 0.005376344086021506,\n",
       " 'ha': 0.005376344086021506,\n",
       " 'empleada,': 0.005376344086021506,\n",
       " 'e': 0.005376344086021506,\n",
       " 'procede': 0.005376344086021506,\n",
       " 'ejercida,': 0.005376344086021506,\n",
       " 'como': 0.005376344086021506,\n",
       " 'después': 0.005376344086021506,\n",
       " 'sin': 0.010752688172043012}"
      ]
     },
     "execution_count": 24,
     "metadata": {},
     "output_type": "execute_result"
    }
   ],
   "source": [
    "dict(model[\"la\",\"violencia\"])"
   ]
  },
  {
   "cell_type": "markdown",
   "metadata": {},
   "source": [
    "- ¿Se puede observar algunas diferencias relevantes en los modelos de lenguaje de cada medio?\n",
    "\n",
    "En ambos modelos no se lograron identificas grandes diferencias, pese a que son medios de distintos paises, ambos son de una misma ideologia politica. Si se hubiera escogido un dataset de otra ideologia politica, se huibieran encontrado diferencias, al momento de buscar las probabilidades entre ciertas palabras.\n",
    "\n",
    "- ¿Se podría identificar sesgos ideológicos utilizando estos modelos de lenguaje?\n",
    "\n",
    "Si, ya que al buscar conexiones en ciertas palabras, la probabilidad encontrada, da como resultado, frases que en ciertos medios noticiosos, no se comentan, o mencionan en sus noticias."
   ]
  },
  {
   "cell_type": "markdown",
   "metadata": {},
   "source": [
    "### Parte 2"
   ]
  },
  {
   "cell_type": "markdown",
   "metadata": {},
   "source": [
    "2) Aprender distintos <i>word embeddings</i> utilizando distintos medios de prensa como datasets de entrenamiento\n",
    "\n",
    "- ¿Se puede observar algunas diferencias relevantes?\n",
    "- ¿Se podría identificar sesgos ideológicos utilizando estos word embeddings?"
   ]
  },
  {
   "cell_type": "markdown",
   "metadata": {},
   "source": [
    "### Reino Unido"
   ]
  },
  {
   "cell_type": "code",
   "execution_count": 25,
   "metadata": {},
   "outputs": [],
   "source": [
    "from gensim.models import word2vec\n",
    "import pandas as pd"
   ]
  },
  {
   "cell_type": "code",
   "execution_count": 30,
   "metadata": {},
   "outputs": [],
   "source": [
    "DATASET=\"/home/luciano/Tratamiento_Lenguaje/INFO082_2020/datasets/itv-reinounido.csv\" #ej: nprnews-eeuu.csv, radionewzealand.csv\n",
    "df = pd.read_csv(DATASET,delimiter=\"|\")\n",
    "df_10000=df.head(1000)"
   ]
  },
  {
   "cell_type": "code",
   "execution_count": 31,
   "metadata": {},
   "outputs": [],
   "source": [
    "# preprocesar la columna \"text\" para tener un dataset de entrenamiento (lista de tokens)\n",
    "import spacy\n",
    "\n",
    "nlp = spacy.load('en_core_web_sm')\n",
    "spacy_stopwords = spacy.lang.en.stop_words.STOP_WORDS\n"
   ]
  },
  {
   "cell_type": "code",
   "execution_count": 32,
   "metadata": {},
   "outputs": [],
   "source": [
    "train_dataset=\"\"\n",
    "\n",
    "for index,row in df_10000.iterrows():\n",
    "    # Text of the news\n",
    "    text=row[1]\n",
    "    \n",
    "    #preprocesamiento spacy\n",
    "    doc = nlp(text)\n",
    "    \n",
    "    for token in doc:\n",
    "        #print(str(token).lower()+str(token.pos_))\n",
    "        if (str(token.pos_)!=\"SPACE\" and str(token.pos_)!=\"PUNCT\"):\n",
    "            train_dataset=train_dataset+str(token).lower()+\" \"\n",
    "\n",
    "    #break"
   ]
  },
  {
   "cell_type": "code",
   "execution_count": 33,
   "metadata": {},
   "outputs": [],
   "source": [
    "import codecs\n",
    "\n",
    "file = codecs.open(\"train_dataset.txt\", \"w\", \"utf-8\")\n",
    "file.write(train_dataset)\n",
    "file.close()"
   ]
  },
  {
   "cell_type": "code",
   "execution_count": 34,
   "metadata": {},
   "outputs": [],
   "source": [
    "with open('train_dataset.txt', 'w') as file: # Use file to refer to the file object\n",
    "    file.write(train_dataset)"
   ]
  },
  {
   "cell_type": "code",
   "execution_count": 35,
   "metadata": {},
   "outputs": [],
   "source": [
    "#training word2vec\n",
    "\n",
    "tokens = word2vec.Text8Corpus('train_dataset.txt')\n",
    "\n",
    "model = word2vec.Word2Vec(tokens,size=200,hs=1)"
   ]
  },
  {
   "cell_type": "code",
   "execution_count": 36,
   "metadata": {},
   "outputs": [
    {
     "name": "stdout",
     "output_type": "stream",
     "text": [
      "Word2Vec(vocab=7349, size=200, alpha=0.025)\n"
     ]
    }
   ],
   "source": [
    "print(model)"
   ]
  },
  {
   "cell_type": "code",
   "execution_count": 37,
   "metadata": {},
   "outputs": [
    {
     "data": {
      "text/plain": [
       "[('man', 0.7888662815093994),\n",
       " ('mother', 0.6850552558898926),\n",
       " ('father', 0.6776027083396912),\n",
       " ('elphicke', 0.6494646072387695),\n",
       " ('tweets', 0.6451895833015442)]"
      ]
     },
     "execution_count": 37,
     "metadata": {},
     "output_type": "execute_result"
    }
   ],
   "source": [
    "model.wv.most_similar(positive=['woman'],topn=5)"
   ]
  },
  {
   "cell_type": "code",
   "execution_count": 38,
   "metadata": {},
   "outputs": [
    {
     "data": {
      "text/plain": [
       "[('woman', 0.7888662815093994),\n",
       " ('father', 0.747191309928894),\n",
       " ('old', 0.7191991806030273),\n",
       " ('mother', 0.6544510722160339),\n",
       " ('boy', 0.6344282031059265)]"
      ]
     },
     "execution_count": 38,
     "metadata": {},
     "output_type": "execute_result"
    }
   ],
   "source": [
    "model.wv.most_similar(positive=['man'],topn=5)"
   ]
  },
  {
   "cell_type": "code",
   "execution_count": 39,
   "metadata": {},
   "outputs": [],
   "source": [
    "model.save(\"itv_reinounido_wordembedding\")"
   ]
  },
  {
   "cell_type": "markdown",
   "metadata": {},
   "source": [
    "### EEUU"
   ]
  },
  {
   "cell_type": "code",
   "execution_count": 40,
   "metadata": {},
   "outputs": [],
   "source": [
    "DATASET=\"/home/luciano/Tratamiento_Lenguaje/INFO082_2020/datasets/nprnews-eeuu.csv\" #ej: nprnews-eeuu.csv, radionewzealand.csv\n",
    "df = pd.read_csv(DATASET,delimiter=\"|\")\n",
    "df_10000=df.head(1000)"
   ]
  },
  {
   "cell_type": "code",
   "execution_count": 41,
   "metadata": {},
   "outputs": [],
   "source": [
    "# preprocesar la columna \"text\" para tener un dataset de entrenamiento (lista de tokens)\n",
    "import spacy\n",
    "\n",
    "nlp = spacy.load('en_core_web_sm')\n",
    "spacy_stopwords = spacy.lang.en.stop_words.STOP_WORDS\n"
   ]
  },
  {
   "cell_type": "code",
   "execution_count": 42,
   "metadata": {},
   "outputs": [],
   "source": [
    "train_dataset=\"\"\n",
    "\n",
    "for index,row in df_10000.iterrows():\n",
    "    # Text of the news\n",
    "    text=row[1]\n",
    "    \n",
    "    #preprocesamiento spacy\n",
    "    doc = nlp(text)\n",
    "    \n",
    "    for token in doc:\n",
    "        #print(str(token).lower()+str(token.pos_))\n",
    "        if (str(token.pos_)!=\"SPACE\" and str(token.pos_)!=\"PUNCT\"):\n",
    "            train_dataset=train_dataset+str(token).lower()+\" \"\n",
    "\n",
    "    #break"
   ]
  },
  {
   "cell_type": "code",
   "execution_count": 43,
   "metadata": {},
   "outputs": [],
   "source": [
    "import codecs\n",
    "\n",
    "file = codecs.open(\"train_dataset2.txt\", \"w\", \"utf-8\")\n",
    "file.write(train_dataset)\n",
    "file.close()"
   ]
  },
  {
   "cell_type": "code",
   "execution_count": 44,
   "metadata": {},
   "outputs": [],
   "source": [
    "with open('train_dataset2.txt', 'w') as file: # Use file to refer to the file object\n",
    "    file.write(train_dataset)"
   ]
  },
  {
   "cell_type": "code",
   "execution_count": 45,
   "metadata": {},
   "outputs": [],
   "source": [
    "#training word2vec\n",
    "\n",
    "tokens = word2vec.Text8Corpus('train_dataset2.txt')\n",
    "\n",
    "model = word2vec.Word2Vec(tokens,size=200,hs=1)"
   ]
  },
  {
   "cell_type": "code",
   "execution_count": 46,
   "metadata": {},
   "outputs": [
    {
     "name": "stdout",
     "output_type": "stream",
     "text": [
      "Word2Vec(vocab=11386, size=200, alpha=0.025)\n"
     ]
    }
   ],
   "source": [
    "print(model)"
   ]
  },
  {
   "cell_type": "code",
   "execution_count": 47,
   "metadata": {},
   "outputs": [
    {
     "data": {
      "text/plain": [
       "[('man', 0.7258182168006897),\n",
       " ('panther', 0.6934775114059448),\n",
       " ('teenager', 0.687659740447998),\n",
       " ('friend', 0.6540080308914185),\n",
       " ('mother', 0.646639883518219)]"
      ]
     },
     "execution_count": 47,
     "metadata": {},
     "output_type": "execute_result"
    }
   ],
   "source": [
    "model.wv.most_similar(positive=['woman'],topn=5)"
   ]
  },
  {
   "cell_type": "code",
   "execution_count": 48,
   "metadata": {},
   "outputs": [
    {
     "data": {
      "text/plain": [
       "[('woman', 0.7258182168006897),\n",
       " ('panther', 0.7195667028427124),\n",
       " ('shot', 0.7109360098838806),\n",
       " ('thao', 0.6809190511703491),\n",
       " ('shirt', 0.6522157192230225)]"
      ]
     },
     "execution_count": 48,
     "metadata": {},
     "output_type": "execute_result"
    }
   ],
   "source": [
    "model.wv.most_similar(positive=['man'],topn=5)"
   ]
  },
  {
   "cell_type": "code",
   "execution_count": 50,
   "metadata": {},
   "outputs": [],
   "source": [
    "model.save(\"euu_wordembedding\")"
   ]
  },
  {
   "cell_type": "code",
   "execution_count": null,
   "metadata": {},
   "outputs": [],
   "source": []
  }
 ],
 "metadata": {
  "kernelspec": {
   "display_name": "Python 3",
   "language": "python",
   "name": "python3"
  },
  "language_info": {
   "codemirror_mode": {
    "name": "ipython",
    "version": 3
   },
   "file_extension": ".py",
   "mimetype": "text/x-python",
   "name": "python",
   "nbconvert_exporter": "python",
   "pygments_lexer": "ipython3",
   "version": "3.8.5"
  }
 },
 "nbformat": 4,
 "nbformat_minor": 4
}
