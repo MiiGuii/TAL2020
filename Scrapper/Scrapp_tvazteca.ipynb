{
 "cells": [
  {
   "cell_type": "code",
   "execution_count": 1,
   "metadata": {},
   "outputs": [],
   "source": [
    "SEED_CRAWL = 'https://www.tvazteca.com/aztecanoticias/politica/notas'"
   ]
  },
  {
   "cell_type": "code",
   "execution_count": 2,
   "metadata": {},
   "outputs": [],
   "source": [
    "QUERY_URL = \"//li[@class='List3Columns-items-item']/div/div/a/@href\""
   ]
  },
  {
   "cell_type": "code",
   "execution_count": 3,
   "metadata": {},
   "outputs": [],
   "source": [
    "import random\n",
    "import requests\n",
    "from requests_html import HTMLSession\n",
    "from requests_html import HTML\n",
    "import os\n",
    "import json\n",
    "import validators"
   ]
  },
  {
   "cell_type": "code",
   "execution_count": 4,
   "metadata": {},
   "outputs": [],
   "source": [
    "class Crawler:\n",
    "    \n",
    "    USER_AGENT_LIST = [\n",
    "        \"Mozilla/5.0 (Windows NT 6.1; WOW64) AppleWebKit/537.1 (KHTML, like Gecko) Chrome/22.0.1207.1 Safari/537.1\",\n",
    "        \"Mozilla/5.0 (X11; CrOS i686 2268.111.0) AppleWebKit/536.11 (KHTML, like Gecko) Chrome/20.0.1132.57 Safari/536.11\",\n",
    "        \"Mozilla/5.0 (Windows NT 6.1; WOW64) AppleWebKit/536.6 (KHTML, like Gecko) Chrome/20.0.1092.0 Safari/536.6\",\n",
    "        \"Mozilla/5.0 (Windows NT 6.2) AppleWebKit/536.6 (KHTML, like Gecko) Chrome/20.0.1090.0 Safari/536.6\",\n",
    "        \"Mozilla/5.0 (Windows NT 6.2; WOW64) AppleWebKit/537.1 (KHTML, like Gecko) Chrome/19.77.34.5 Safari/537.1\",\n",
    "        \"Mozilla/5.0 (X11; Linux x86_64) AppleWebKit/536.5 (KHTML, like Gecko) Chrome/19.0.1084.9 Safari/536.5\",\n",
    "        \"Mozilla/5.0 (Windows NT 6.0) AppleWebKit/536.5 (KHTML, like Gecko) Chrome/19.0.1084.36 Safari/536.5\",\n",
    "        \"Mozilla/5.0 (Windows NT 6.1; WOW64) AppleWebKit/536.3 (KHTML, like Gecko) Chrome/19.0.1063.0 Safari/536.3\",\n",
    "        \"Mozilla/5.0 (Windows NT 5.1) AppleWebKit/536.3 (KHTML, like Gecko) Chrome/19.0.1063.0 Safari/536.3\",\n",
    "        \"Mozilla/5.0 (Macintosh; Intel Mac OS X 10_8_0) AppleWebKit/536.3 (KHTML, like Gecko) Chrome/19.0.1063.0 Safari/536.3\",\n",
    "        \"Mozilla/5.0 (Windows NT 6.2) AppleWebKit/536.3 (KHTML, like Gecko) Chrome/19.0.1062.0 Safari/536.3\",\n",
    "        \"Mozilla/5.0 (Windows NT 6.1; WOW64) AppleWebKit/536.3 (KHTML, like Gecko) Chrome/19.0.1062.0 Safari/536.3\",\n",
    "        \"Mozilla/5.0 (Windows NT 6.2) AppleWebKit/536.3 (KHTML, like Gecko) Chrome/19.0.1061.1 Safari/536.3\",\n",
    "        \"Mozilla/5.0 (Windows NT 6.1; WOW64) AppleWebKit/536.3 (KHTML, like Gecko) Chrome/19.0.1061.1 Safari/536.3\",\n",
    "        \"Mozilla/5.0 (Windows NT 6.1) AppleWebKit/536.3 (KHTML, like Gecko) Chrome/19.0.1061.1 Safari/536.3\",\n",
    "        \"Mozilla/5.0 (Windows NT 6.2) AppleWebKit/536.3 (KHTML, like Gecko) Chrome/19.0.1061.0 Safari/536.3\",\n",
    "        \"Mozilla/5.0 (X11; Linux x86_64) AppleWebKit/535.24 (KHTML, like Gecko) Chrome/19.0.1055.1 Safari/535.24\",\n",
    "        \"Mozilla/5.0 (Windows NT 6.2; WOW64) AppleWebKit/535.24 (KHTML, like Gecko) Chrome/19.0.1055.1 Safari/535.24\"\n",
    "]\n",
    "\n",
    "    \n",
    "    query_extract_all_href=QUERY_URL\n",
    "\n",
    "    \n",
    "    all_json_to_send = []\n",
    "    \n",
    "    def _init_(self):\n",
    "        pass\n",
    "    \n",
    "    def start_request(self,url):\n",
    "        session = HTMLSession()\n",
    "        header = dict()\n",
    "        header['user-agent'] = random.choice(self.USER_AGENT_LIST)\n",
    "        response = session.get(url,headers=header)        \n",
    "        return response\n",
    "    \n",
    "    def parse(self, response):\n",
    "        self.all_json_to_send = []\n",
    "        all_extracted_href = response.html.xpath(self.query_extract_all_href)\n",
    "        for href in all_extracted_href:\n",
    "            json_to_send= dict()\n",
    "            json_to_send[\"url\"]=href\n",
    "            self.all_json_to_send.append(json_to_send)"
   ]
  },
  {
   "cell_type": "code",
   "execution_count": 5,
   "metadata": {},
   "outputs": [],
   "source": [
    "crawler = Crawler()\n",
    "\n",
    "response = crawler.start_request(SEED_CRAWL)"
   ]
  },
  {
   "cell_type": "code",
   "execution_count": 6,
   "metadata": {},
   "outputs": [
    {
     "data": {
      "text/plain": [
       "<Response [200]>"
      ]
     },
     "execution_count": 6,
     "metadata": {},
     "output_type": "execute_result"
    }
   ],
   "source": [
    "response"
   ]
  },
  {
   "cell_type": "code",
   "execution_count": 7,
   "metadata": {},
   "outputs": [],
   "source": [
    "crawler.parse(response)"
   ]
  },
  {
   "cell_type": "code",
   "execution_count": 8,
   "metadata": {},
   "outputs": [
    {
     "data": {
      "text/plain": [
       "[{'url': 'https://www.tvazteca.com/aztecanoticias/notas/pri-candidatos-diputados-examen-convocatoria-especiales'},\n",
       " {'url': 'https://www.tvazteca.com/aztecanoticias/notas/mexico-condena-el-uso-de-armas-quimicas-y-de-destruccion-masiva-en-siria'},\n",
       " {'url': 'https://www.tvazteca.com/aztecanoticias/notas/urge-goan-a-que-se-aclare-origen-del-mega-apagon-del-pasado-28-de-diciembre'},\n",
       " {'url': 'https://www.tvazteca.com/aztecanoticias/notas/buscaran-448-diputados-su-reeleccion-en-proximas-elecciones-especiales'},\n",
       " {'url': 'https://www.tvazteca.com/aztecanoticias/notas/presidente-del-pan-abre-las-puertas-a-candidatos-rechazados-de-morena'},\n",
       " {'url': 'https://www.tvazteca.com/aztecanoticias/notas/atencion-estos-son-los-descuentos-para-el-pago-de-tenencia-y-predial-en-la-cdmx'},\n",
       " {'url': 'https://www.tvazteca.com/aztecanoticias/notas/mexico-lugar-13-en-el-numero-de-aplicacion-de-vacunas-contra-covid-19-especiales'},\n",
       " {'url': 'https://www.tvazteca.com/aztecanoticias/notas/maestros-campeche-chiapas-vacunados-despues-adultos-mayores-amlo-especiales'},\n",
       " {'url': 'https://www.tvazteca.com/aztecanoticias/notas/medico-que-se-salto-la-fila-en-el-edomex-perdio-a-un-hermano-amlo-especiales'},\n",
       " {'url': 'https://www.tvazteca.com/aztecanoticias/notas/lopez-obrador-indica-que-plan-de-vacunacion-depende-de-acceso-dosis-especiales'},\n",
       " {'url': 'https://www.tvazteca.com/aztecanoticias/notas/video-andres-manuel-lopez-obrador-llama-realizar-deporte-2021-especiales'},\n",
       " {'url': 'https://www.tvazteca.com/aztecanoticias/notas/biden-segob-preve-cambios-politica-migratoria-mexico-eeuu-especiales'},\n",
       " {'url': 'https://www.tvazteca.com/aztecanoticias/notas/marcelo-ebrard-inaugura-reunion-de-embajadores-y-consules-especiales'},\n",
       " {'url': 'https://www.tvazteca.com/aztecanoticias/notas/tatiana-clouthier-toma-posesion-como-secretaria-de-economia-especiales'},\n",
       " {'url': 'https://www.tvazteca.com/aztecanoticias/notas/morena-nuevo-spot-vacuna-covid-19-mexico-ine-video-especiales'},\n",
       " {'url': 'https://www.tvazteca.com/aztecanoticias/notas/ine-niega-medidas-cautelares-spot-morena-vacuna-pan-especiales'},\n",
       " {'url': 'https://www.tvazteca.com/aztecanoticias/notas/no-habra-romerias-con-motivo-de-dia-de-reyes-en-la-capital-sheinbaum'},\n",
       " {'url': 'https://www.tvazteca.com/aztecanoticias/notas/quien-es-julian-assange-amlo-ofrece-asilo-politico-mexico-especiales'},\n",
       " {'url': 'https://www.tvazteca.com/aztecanoticias/notas/continua-la-atencion-de-denuncias-de-irregularidades-en-la-aplicacion-de-vacunas-contra-el-covid-19'},\n",
       " {'url': 'https://www.tvazteca.com/aztecanoticias/notas/niega-amlo-intromision-eleccion-candidato-morena-guerrero-especiales'},\n",
       " {'url': 'https://www.tvazteca.com/aztecanoticias/notas/cdmx-edomex-esta-pasando-lo-peor-covid-19-amlo-especiales'},\n",
       " {'url': 'https://www.tvazteca.com/aztecanoticias/notas/amlo-universidades-publicas-combatir-corrupcion-eliminar-cuotas-especiales'},\n",
       " {'url': 'https://www.tvazteca.com/aztecanoticias/notas/amlo-indulto-julian-assange-ofrece-asilo-politico-mexico-especiales'},\n",
       " {'url': 'https://www.tvazteca.com/aztecanoticias/notas/pedro-kumamoto-va-por-alcaldia-de-zapopan-jalisco-especiales'},\n",
       " {'url': 'https://www.tvazteca.com/aztecanoticias/notas/alianza-federalista-sancion-carta-apocrifa-cfe-tamaulipas-apagon-especiales'},\n",
       " {'url': 'https://www.tvazteca.com/aztecanoticias/notas/todavia-hay-mucho-gasto-superfluo-2021-habra-mas-austeridad-amlo-especiales'},\n",
       " {'url': 'https://www.tvazteca.com/aztecanoticias/notas/manuel-velasco-senador-esposo-anahi-rbd-positivo-covid-19-especiales'},\n",
       " {'url': 'https://www.tvazteca.com/aztecanoticias/notas/embajadores-consules-reunion-virtual-mexico-ebrard-especiales'},\n",
       " {'url': 'https://www.tvazteca.com/aztecanoticias/notas/regreso-seguro-aulas-prudente-comunidad-escolar-sep-esteban-moctezuma-especiales'},\n",
       " {'url': 'https://www.tvazteca.com/aztecanoticias/notas/amlo-finales-marzo-habremos-recuperado-todos-los-empleos-perdidos-pandemia-coronavirus-especiales'},\n",
       " {'url': 'https://www.tvazteca.com/aztecanoticias/notas/amlo-el-2021-sera-el-ano-oficial-de-la-independencia-especiales'},\n",
       " {'url': 'https://www.tvazteca.com/aztecanoticias/notas/responde-directora-de-centro-medico-siglo-xxi-a-denuncia-de-doctora-especiales'},\n",
       " {'url': 'https://www.tvazteca.com/aztecanoticias/notas/lopez-obrador-siembre-un-ahuehuete-en-homenaje-a-los-fallecidos-por-covid-19-especiales'},\n",
       " {'url': 'https://www.tvazteca.com/aztecanoticias/notas/derechos-humanos-aborto-no-se-consultan-legisladoras-responden-a-amlo-especiales'},\n",
       " {'url': 'https://www.tvazteca.com/aztecanoticias/notas/en-mexico-avanza-la-gobernabilidad-asegura-sanchez-cordero-especiales'},\n",
       " {'url': 'https://www.tvazteca.com/aztecanoticias/notas/ine-pide-retirar-spot-morena-tumor-maligno-prian-video-especiales'},\n",
       " {'url': 'https://www.tvazteca.com/aztecanoticias/notas/preve-amlo-que-abril-ya-esten-vacunados-mayoria-mexicanos-especiales'},\n",
       " {'url': 'https://www.tvazteca.com/aztecanoticias/notas/a-los-que-se-saltan-la-fila-pare-recibir-la-vacuna-les-va-a-dar-mucha-verguenza-amlo-especiales'},\n",
       " {'url': 'https://www.tvazteca.com/aztecanoticias/notas/amlo-pide-consulta-tema-despenalizar-aborto-mujeres-mexico-especiales'},\n",
       " {'url': 'https://www.tvazteca.com/aztecanoticias/notas/lopez-obrador-dice-que-solo-aumentara-3-3-el-tabaco-refrescos-y-gasolina-especiales'},\n",
       " {'url': 'https://www.tvazteca.com/aztecanoticias/notas/mexico-enfrenta-tres-grandes-problemas-pandemia-economia-y-violencia-dice-amlo-especiales'},\n",
       " {'url': 'https://www.tvazteca.com/aztecanoticias/notas/video-golpean-funcionario-alcaldia-alvaro-obregon-extorsion-especiales'},\n",
       " {'url': 'https://www.tvazteca.com/aztecanoticias/notas/donara-morena-50-por-ciento-de-prerrogativas-para-vacuna-covid-19'},\n",
       " {'url': 'https://www.tvazteca.com/aztecanoticias/notas/designa-morena-a-candidatos-para-competir-por-guerrero-michoacan-y-sinaloa-en-2021'},\n",
       " {'url': 'https://www.tvazteca.com/aztecanoticias/notas/imss-vacuna-a-7-mil-728-medicos-y-enfermeras-6-dias-especiales'},\n",
       " {'url': 'https://www.tvazteca.com/aztecanoticias/notas/mexico-precompra-77-4-millones-de-dosis-de-vacuna-aztrazeneca-oxford-covid-19-especiales'},\n",
       " {'url': 'https://www.tvazteca.com/aztecanoticias/notas/versiones-contradictorias-cfe-pc-tamaulipas-apagon-especiales'},\n",
       " {'url': 'https://www.tvazteca.com/aztecanoticias/notas/mexico-cierra-2020-con-mas-de-30-mil-sismos-especiales'},\n",
       " {'url': 'https://www.tvazteca.com/aztecanoticias/notas/lopez-obrador-presume-segundo-lugar-aprobacion-mundial-encuesta-especiales'},\n",
       " {'url': 'https://www.tvazteca.com/aztecanoticias/notas/mexico-recibe-tercer-envio-de-vacunas-contra-covid-19-especiales'}]"
      ]
     },
     "execution_count": 8,
     "metadata": {},
     "output_type": "execute_result"
    }
   ],
   "source": [
    "crawler.all_json_to_send"
   ]
  },
  {
   "cell_type": "code",
   "execution_count": 9,
   "metadata": {},
   "outputs": [
    {
     "data": {
      "text/plain": [
       "50"
      ]
     },
     "execution_count": 9,
     "metadata": {},
     "output_type": "execute_result"
    }
   ],
   "source": [
    "len (crawler.all_json_to_send)"
   ]
  },
  {
   "cell_type": "code",
   "execution_count": 10,
   "metadata": {},
   "outputs": [],
   "source": [
    "assert(len(crawler.all_json_to_send)>0)"
   ]
  },
  {
   "cell_type": "code",
   "execution_count": 11,
   "metadata": {},
   "outputs": [],
   "source": [
    "assert validators.url(crawler.all_json_to_send[0][\"url\"])"
   ]
  },
  {
   "cell_type": "code",
   "execution_count": 23,
   "metadata": {},
   "outputs": [],
   "source": [
    "SEED_SCRAP = 'https://www.tvazteca.com/aztecanoticias/notas/buscaran-448-diputados-su-reeleccion-en-proximas-elecciones-especiales'"
   ]
  },
  {
   "cell_type": "code",
   "execution_count": 24,
   "metadata": {},
   "outputs": [],
   "source": [
    "QUERY_TITLE = \"//article[@class='Page-mainContent']/h1\"\n",
    "QUERY_CONTENT =  \"//div[@class='RichTextArticleBody-body']/p\"\n",
    "QUERY_DATE = \"//meta[@property='article:published_time']/@content\""
   ]
  },
  {
   "cell_type": "code",
   "execution_count": 25,
   "metadata": {},
   "outputs": [],
   "source": [
    "import json\n",
    "import w3lib.html\n",
    "import random\n",
    "import os\n",
    "import datetime\n",
    "import dateutil\n",
    "import requests\n",
    "import string\n",
    "import calendar\n",
    "import html\n",
    "import locale\n",
    "import re\n",
    "from requests_html import HTMLSession"
   ]
  },
  {
   "cell_type": "code",
   "execution_count": 26,
   "metadata": {},
   "outputs": [],
   "source": [
    "class Scraper:\n",
    "    \n",
    "    USER_AGENT_LIST = [\n",
    "        \"Mozilla/5.0 (Windows NT 6.1; WOW64) AppleWebKit/537.1 (KHTML, like Gecko) Chrome/22.0.1207.1 Safari/537.1\",\n",
    "        \"Mozilla/5.0 (X11; CrOS i686 2268.111.0) AppleWebKit/536.11 (KHTML, like Gecko) Chrome/20.0.1132.57 Safari/536.11\",\n",
    "        \"Mozilla/5.0 (Windows NT 6.1; WOW64) AppleWebKit/536.6 (KHTML, like Gecko) Chrome/20.0.1092.0 Safari/536.6\",\n",
    "        \"Mozilla/5.0 (Windows NT 6.2) AppleWebKit/536.6 (KHTML, like Gecko) Chrome/20.0.1090.0 Safari/536.6\",\n",
    "        \"Mozilla/5.0 (Windows NT 6.2; WOW64) AppleWebKit/537.1 (KHTML, like Gecko) Chrome/19.77.34.5 Safari/537.1\",\n",
    "        \"Mozilla/5.0 (X11; Linux x86_64) AppleWebKit/536.5 (KHTML, like Gecko) Chrome/19.0.1084.9 Safari/536.5\",\n",
    "        \"Mozilla/5.0 (Windows NT 6.0) AppleWebKit/536.5 (KHTML, like Gecko) Chrome/19.0.1084.36 Safari/536.5\",\n",
    "        \"Mozilla/5.0 (Windows NT 6.1; WOW64) AppleWebKit/536.3 (KHTML, like Gecko) Chrome/19.0.1063.0 Safari/536.3\",\n",
    "        \"Mozilla/5.0 (Windows NT 5.1) AppleWebKit/536.3 (KHTML, like Gecko) Chrome/19.0.1063.0 Safari/536.3\",\n",
    "        \"Mozilla/5.0 (Macintosh; Intel Mac OS X 10_8_0) AppleWebKit/536.3 (KHTML, like Gecko) Chrome/19.0.1063.0 Safari/536.3\",\n",
    "        \"Mozilla/5.0 (Windows NT 6.2) AppleWebKit/536.3 (KHTML, like Gecko) Chrome/19.0.1062.0 Safari/536.3\",\n",
    "        \"Mozilla/5.0 (Windows NT 6.1; WOW64) AppleWebKit/536.3 (KHTML, like Gecko) Chrome/19.0.1062.0 Safari/536.3\",\n",
    "        \"Mozilla/5.0 (Windows NT 6.2) AppleWebKit/536.3 (KHTML, like Gecko) Chrome/19.0.1061.1 Safari/536.3\",\n",
    "        \"Mozilla/5.0 (Windows NT 6.1; WOW64) AppleWebKit/536.3 (KHTML, like Gecko) Chrome/19.0.1061.1 Safari/536.3\",\n",
    "        \"Mozilla/5.0 (Windows NT 6.1) AppleWebKit/536.3 (KHTML, like Gecko) Chrome/19.0.1061.1 Safari/536.3\",\n",
    "        \"Mozilla/5.0 (Windows NT 6.2) AppleWebKit/536.3 (KHTML, like Gecko) Chrome/19.0.1061.0 Safari/536.3\",\n",
    "        \"Mozilla/5.0 (X11; Linux x86_64) AppleWebKit/535.24 (KHTML, like Gecko) Chrome/19.0.1055.1 Safari/535.24\",\n",
    "        \"Mozilla/5.0 (Windows NT 6.2; WOW64) AppleWebKit/535.24 (KHTML, like Gecko) Chrome/19.0.1055.1 Safari/535.24\"\n",
    "    ]\n",
    "\n",
    "    query_extract_title = QUERY_TITLE\n",
    "    query_extract_text =  QUERY_CONTENT\n",
    "    query_extract_date = QUERY_DATE\n",
    "\n",
    "    def _init_(self):\n",
    "        pass\n",
    "\n",
    "       \n",
    "    def start_request(self,url):\n",
    "        headers = {'user-agent':random.choice(self.USER_AGENT_LIST) }\n",
    "        session = HTMLSession()\n",
    "        response = session.get(url,headers=headers)        \n",
    "        return response\n",
    "    \n",
    "    \n",
    "    def clean_text(self, html_text):\n",
    "        text_without_tags = w3lib.html.remove_tags(html_text)\n",
    "        text_without_escape_chars = w3lib.html.replace_escape_chars(text_without_tags)\n",
    "        text_without_escape_chars = html.unescape(text_without_escape_chars)\n",
    "        text_without_whitespace = text_without_escape_chars.strip()\n",
    "        return text_without_whitespace\n",
    "\n",
    "    \n",
    "    def replace_month_name_to_number(self,date_string):\n",
    "        lower_string = date_string.lower()\n",
    "        for month_id in range(1, 13):\n",
    "            if(lower_string.find(calendar.month_name[month_id].lower())!=-1):\n",
    "                if(month_id>=10):\n",
    "                    return (lower_string.replace(calendar.month_name[month_id].lower(),str(month_id)))\n",
    "                else:\n",
    "                    return (lower_string.replace(calendar.month_name[month_id].lower(),\"0\"+str(month_id)))\n",
    "            if(lower_string.find(calendar.month_abbr[month_id].lower())!=-1):\n",
    "                if(month_id>=10):\n",
    "                    return (lower_string.replace(calendar.month_abbr[month_id].lower(),str(month_id)))\n",
    "                else:\n",
    "                    return (lower_string.replace(calendar.month_abbr[month_id].lower(),\"0\"+str(month_id)))\n",
    "                    \n",
    "    \n",
    "    def format_date(self,date):\n",
    "        date = dateutil.parser.parse(date)\n",
    "        date = datetime.date.strftime(date, \"%Y-%m-%d\")\n",
    "        return(date)\n",
    "    \n",
    "    \n",
    "    def parse(self, response):\n",
    "        self.news_text = []\n",
    "        self.message_to_send = []\n",
    "        self.scraped_url = response.url\n",
    "        self.news_title = response.html.xpath(self.query_extract_title)[0].text\n",
    "        self.date = response.html.xpath(self.query_extract_date)[0]\n",
    "        self.news_title = self.clean_text(self.news_title)\n",
    "        self.date = self.clean_text(self.date)\n",
    "        self.date = self.format_date(self.date)\n",
    "        news_text_extracted_response = response.html.xpath(self.query_extract_text)\n",
    "        for part_of_body in news_text_extracted_response:\n",
    "            stripped_html_tags = w3lib.html.remove_tags(part_of_body.text)\n",
    "            text_cleaned = self.clean_text(stripped_html_tags)\n",
    "            if (len(text_cleaned) != 0 and (not(\"TE PODRÍA INTERESAR:\" in text_cleaned))):\n",
    "                self.news_text.append(text_cleaned)"
   ]
  },
  {
   "cell_type": "code",
   "execution_count": 27,
   "metadata": {},
   "outputs": [],
   "source": [
    "scraper = Scraper()\n",
    "response =scraper.start_request(SEED_SCRAP)"
   ]
  },
  {
   "cell_type": "code",
   "execution_count": 28,
   "metadata": {},
   "outputs": [],
   "source": [
    "scraper.parse(response)"
   ]
  },
  {
   "cell_type": "code",
   "execution_count": 29,
   "metadata": {},
   "outputs": [
    {
     "data": {
      "text/plain": [
       "'Buscarán 448 diputados elección consecutiva en próximos comicios'"
      ]
     },
     "execution_count": 29,
     "metadata": {},
     "output_type": "execute_result"
    }
   ],
   "source": [
    "scraper.news_title"
   ]
  },
  {
   "cell_type": "code",
   "execution_count": 30,
   "metadata": {},
   "outputs": [
    {
     "data": {
      "text/plain": [
       "'2021-01-05'"
      ]
     },
     "execution_count": 30,
     "metadata": {},
     "output_type": "execute_result"
    }
   ],
   "source": [
    "scraper.date"
   ]
  },
  {
   "cell_type": "code",
   "execution_count": 31,
   "metadata": {},
   "outputs": [
    {
     "data": {
      "text/plain": [
       "['La Cámara de Diputados informó que de los 500 legisladores, 448 presentaron su carta de intención para buscar reelegirse en el próximo proceso electoral, es decir más del 90 por ciento de los legisladores.',\n",
       " 'En un comunicado, se indicó que hasta las 12:00 horas de la noche de ayer, la Secretaría General había recibido 448 cartas de intención, de los cuales 444 están en funciones, tres solicitaron licencia y uno más es un suplente que no ha tomado posesión.',\n",
       " 'TE RECOMENDAMOS:¿Cómo pueden los Reyes Magos entregar tantos juguetes en una noche?',\n",
       " '“De esta manera, se dio cumplimiento a la resolución del Tribunal Electoral del Poder Judicial de la Federación, que marcó esta fecha y hora como plazo para dicha recepción”, señaló.',\n",
       " 'La lista dada a conocer por la Cámara de Diputados señala que de los 252 legisladores con los que actualmente cuenta la fracción de Morena, 232 buscarán la reelección.',\n",
       " 'Entre los diputados de Morena está Abelina López, quien en octubre reconoció en tribuna haber pagado un soborno de 20 mil pesos para obtener un proceso abreviado. Asimismo, Alfonso Ramírez Cuéllar, Dolores Padierna, Pablo Gómez, Porfirio Muñoz Ledo, Aleida Alavez y Ricardo del Sol, entre otros.',\n",
       " 'Por el Partido Acción Nacional harán lo propio 64 de 77 legisladores actualmente en funciones. Se trata de Adriana Dávila, Carlos Alberto Valenzuela, Éctor Jaime, Felipe Fernando Macías, Hernán Salinas, Jorge Arturo Espadas, Jorge Luis Preciado, Jorge Romero, José Elías Lixa y el actual coordinador parlamentario Juan Carlos Romero Hicks.',\n",
       " 'De los 48 integrantes de la fracción parlamentaria del PRI buscarán la reelección 44, entre quienes se encuentran Ana Lilia Herrera, Anilú Ingram, Brasil Acosta, Carlos Pavón y Enrique Ochoa Reza, entre otros.']"
      ]
     },
     "execution_count": 31,
     "metadata": {},
     "output_type": "execute_result"
    }
   ],
   "source": [
    "scraper.news_text"
   ]
  },
  {
   "cell_type": "code",
   "execution_count": 32,
   "metadata": {},
   "outputs": [],
   "source": [
    "def validate(date_text):\n",
    "    try:\n",
    "        datetime.datetime.strptime(date_text, \"%Y-%m-%d\")\n",
    "        return True\n",
    "    except:\n",
    "        print(\"La fecha no tiene el formato correcto, año-mes-dia\")\n",
    "        return False\n",
    "\n",
    "    \n",
    "def test_news_title_has_text(news_title):\n",
    "    regex_string_only_numbers = r'^[0-9\\.\\ ]*$'\n",
    "    news_text_is_only_number_query = re.match(regex_string_only_numbers,news_title)\n",
    "    if(news_text_is_only_number_query is None):\n",
    "        return True\n",
    "    else:\n",
    "        return False\n",
    "\n",
    "    \n",
    "def test_news_text_has_text(news_text):\n",
    "    joined_text =   \" \".join(news_text)\n",
    "    regex_string_only_numbers = r'^[0-9\\.\\ ]*$'\n",
    "    news_text_is_only_number_query = re.match(regex_string_only_numbers,joined_text)\n",
    "    if(news_text_is_only_number_query is None):\n",
    "        return True\n",
    "    else:\n",
    "        return False\n",
    "\n",
    "        \n",
    "def test_news_title_length(news_title):\n",
    "    words_of_news_title = news_title.split(\" \")\n",
    "    len_of_each_news_title_word = list(map(len,words_of_news_title))\n",
    "    avg_of_news_words = sum(len_of_each_news_title_word)/len(len_of_each_news_title_word)\n",
    "    if(avg_of_news_words >= 1.5):\n",
    "        return True\n",
    "    else:\n",
    "        return False\n",
    "\n",
    "    \n",
    "def test_news_text_length(news_text):\n",
    "    len_of_each_news_text_words = []\n",
    "    for paragraph in news_text:\n",
    "        splited_words = paragraph.split(\" \")\n",
    "        len_of_each_news_text_words.extend(list(map(len,splited_words)))\n",
    "    avg_of_news_words = sum(len_of_each_news_text_words)/len(len_of_each_news_text_words)\n",
    "    if(avg_of_news_words >= 1.5):\n",
    "        return True\n",
    "    else:\n",
    "        return False"
   ]
  },
  {
   "cell_type": "code",
   "execution_count": 33,
   "metadata": {},
   "outputs": [],
   "source": [
    "assert(len(scraper.news_title)>0)\n",
    "assert(len(scraper.news_text)>0)\n",
    "assert(validate(scraper.date))\n",
    "assert(isinstance(scraper.news_title,str))\n",
    "assert(isinstance(scraper.news_text,list)) \n",
    "assert(scraper.news_title.find(\"<script>\")==-1)\n",
    "assert(scraper.news_title.find(\"</script>\")==-1)\n",
    "for text_piece in scraper.news_text:\n",
    "    assert(text_piece.find(\"<script>\")==-1)\n",
    "    assert(text_piece.find(\"</script>\")==-1)\n",
    "assert(test_news_title_has_text(scraper.news_title))\n",
    "assert(test_news_text_has_text(scraper.news_text))\n",
    "assert(test_news_title_length(scraper.news_title))\n",
    "assert(test_news_text_length(scraper.news_text)) "
   ]
  },
  {
   "cell_type": "code",
   "execution_count": null,
   "metadata": {},
   "outputs": [],
   "source": []
  }
 ],
 "metadata": {
  "kernelspec": {
   "display_name": "Python 3",
   "language": "python",
   "name": "python3"
  },
  "language_info": {
   "codemirror_mode": {
    "name": "ipython",
    "version": 3
   },
   "file_extension": ".py",
   "mimetype": "text/x-python",
   "name": "python",
   "nbconvert_exporter": "python",
   "pygments_lexer": "ipython3",
   "version": "3.8.6"
  }
 },
 "nbformat": 4,
 "nbformat_minor": 4
}
