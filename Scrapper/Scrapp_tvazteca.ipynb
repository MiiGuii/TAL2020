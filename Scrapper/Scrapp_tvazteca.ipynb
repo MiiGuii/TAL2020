{
 "cells": [
  {
   "cell_type": "code",
   "execution_count": 23,
   "metadata": {},
   "outputs": [],
   "source": [
    "SEED_CRAWL = 'https://www.tvazteca.com/aztecanoticias/internacional/notas?0000016c-2029-d3ba-ab7e-22392cca000c-page=1'"
   ]
  },
  {
   "cell_type": "code",
   "execution_count": 24,
   "metadata": {},
   "outputs": [],
   "source": [
    "QUERY_URL = \"//li[@class='List3Columns-items-item']/div/div/a/@href\""
   ]
  },
  {
   "cell_type": "code",
   "execution_count": 25,
   "metadata": {},
   "outputs": [],
   "source": [
    "import random\n",
    "import requests\n",
    "from requests_html import HTMLSession\n",
    "from requests_html import HTML\n",
    "import os\n",
    "import json\n",
    "import validators"
   ]
  },
  {
   "cell_type": "code",
   "execution_count": 26,
   "metadata": {},
   "outputs": [],
   "source": [
    "class Crawler:\n",
    "    \n",
    "    USER_AGENT_LIST = [\n",
    "        \"Mozilla/5.0 (Windows NT 6.1; WOW64) AppleWebKit/537.1 (KHTML, like Gecko) Chrome/22.0.1207.1 Safari/537.1\",\n",
    "        \"Mozilla/5.0 (X11; CrOS i686 2268.111.0) AppleWebKit/536.11 (KHTML, like Gecko) Chrome/20.0.1132.57 Safari/536.11\",\n",
    "        \"Mozilla/5.0 (Windows NT 6.1; WOW64) AppleWebKit/536.6 (KHTML, like Gecko) Chrome/20.0.1092.0 Safari/536.6\",\n",
    "        \"Mozilla/5.0 (Windows NT 6.2) AppleWebKit/536.6 (KHTML, like Gecko) Chrome/20.0.1090.0 Safari/536.6\",\n",
    "        \"Mozilla/5.0 (Windows NT 6.2; WOW64) AppleWebKit/537.1 (KHTML, like Gecko) Chrome/19.77.34.5 Safari/537.1\",\n",
    "        \"Mozilla/5.0 (X11; Linux x86_64) AppleWebKit/536.5 (KHTML, like Gecko) Chrome/19.0.1084.9 Safari/536.5\",\n",
    "        \"Mozilla/5.0 (Windows NT 6.0) AppleWebKit/536.5 (KHTML, like Gecko) Chrome/19.0.1084.36 Safari/536.5\",\n",
    "        \"Mozilla/5.0 (Windows NT 6.1; WOW64) AppleWebKit/536.3 (KHTML, like Gecko) Chrome/19.0.1063.0 Safari/536.3\",\n",
    "        \"Mozilla/5.0 (Windows NT 5.1) AppleWebKit/536.3 (KHTML, like Gecko) Chrome/19.0.1063.0 Safari/536.3\",\n",
    "        \"Mozilla/5.0 (Macintosh; Intel Mac OS X 10_8_0) AppleWebKit/536.3 (KHTML, like Gecko) Chrome/19.0.1063.0 Safari/536.3\",\n",
    "        \"Mozilla/5.0 (Windows NT 6.2) AppleWebKit/536.3 (KHTML, like Gecko) Chrome/19.0.1062.0 Safari/536.3\",\n",
    "        \"Mozilla/5.0 (Windows NT 6.1; WOW64) AppleWebKit/536.3 (KHTML, like Gecko) Chrome/19.0.1062.0 Safari/536.3\",\n",
    "        \"Mozilla/5.0 (Windows NT 6.2) AppleWebKit/536.3 (KHTML, like Gecko) Chrome/19.0.1061.1 Safari/536.3\",\n",
    "        \"Mozilla/5.0 (Windows NT 6.1; WOW64) AppleWebKit/536.3 (KHTML, like Gecko) Chrome/19.0.1061.1 Safari/536.3\",\n",
    "        \"Mozilla/5.0 (Windows NT 6.1) AppleWebKit/536.3 (KHTML, like Gecko) Chrome/19.0.1061.1 Safari/536.3\",\n",
    "        \"Mozilla/5.0 (Windows NT 6.2) AppleWebKit/536.3 (KHTML, like Gecko) Chrome/19.0.1061.0 Safari/536.3\",\n",
    "        \"Mozilla/5.0 (X11; Linux x86_64) AppleWebKit/535.24 (KHTML, like Gecko) Chrome/19.0.1055.1 Safari/535.24\",\n",
    "        \"Mozilla/5.0 (Windows NT 6.2; WOW64) AppleWebKit/535.24 (KHTML, like Gecko) Chrome/19.0.1055.1 Safari/535.24\"\n",
    "]\n",
    "\n",
    "    \n",
    "    query_extract_all_href=QUERY_URL\n",
    "\n",
    "    \n",
    "    all_json_to_send = []\n",
    "    \n",
    "    def _init_(self):\n",
    "        pass\n",
    "    \n",
    "    def start_request(self,url):\n",
    "        session = HTMLSession()\n",
    "        header = dict()\n",
    "        header['user-agent'] = random.choice(self.USER_AGENT_LIST)\n",
    "        response = session.get(url,headers=header)        \n",
    "        return response\n",
    "    \n",
    "    def parse(self, response):\n",
    "        self.all_json_to_send = []\n",
    "        all_extracted_href = response.html.xpath(self.query_extract_all_href)\n",
    "        for href in all_extracted_href:\n",
    "            json_to_send= dict()\n",
    "            json_to_send[\"url\"]=href\n",
    "            self.all_json_to_send.append(json_to_send)"
   ]
  },
  {
   "cell_type": "code",
   "execution_count": 27,
   "metadata": {},
   "outputs": [],
   "source": [
    "crawler = Crawler()\n",
    "\n",
    "response = crawler.start_request(SEED_CRAWL)"
   ]
  },
  {
   "cell_type": "code",
   "execution_count": 28,
   "metadata": {},
   "outputs": [
    {
     "data": {
      "text/plain": [
       "<Response [200]>"
      ]
     },
     "execution_count": 28,
     "metadata": {},
     "output_type": "execute_result"
    }
   ],
   "source": [
    "response"
   ]
  },
  {
   "cell_type": "code",
   "execution_count": 29,
   "metadata": {},
   "outputs": [],
   "source": [
    "crawler.parse(response)"
   ]
  },
  {
   "cell_type": "code",
   "execution_count": 30,
   "metadata": {},
   "outputs": [
    {
     "data": {
      "text/plain": [
       "[{'url': 'https://www.tvazteca.com/aztecanoticias/notas/restricciones-frontera-mexico-eua-extienden-21-febrero-covid-19-especiales'},\n",
       " {'url': 'https://www.tvazteca.com/aztecanoticias/notas/gorilas-zoologico-san-diego-positivo-covid-19-coronavirus-especiales'},\n",
       " {'url': 'https://www.tvazteca.com/aztecanoticias/notas/el-salvador-multa-aerolinea-viajar-pasajera-covid-19-especiales'},\n",
       " {'url': 'https://www.tvazteca.com/aztecanoticias/notas/mujer-asegura-nieve-cayo-espana-plastico-video-especiales'},\n",
       " {'url': 'https://www.tvazteca.com/aztecanoticias/notas/renuncia-secretario-seguridad-nacional-estados-unidos-chad-wolf-especiales'},\n",
       " {'url': 'https://www.tvazteca.com/aztecanoticias/notas/joe-biden-vacuna-covid-19-segunda-dosis-especiales'},\n",
       " {'url': 'https://www.tvazteca.com/aztecanoticias/notas/vacuna-sinovac-covid-19-brasil-eficacia-coronavac-60-pruebas-estudio-especiales'},\n",
       " {'url': 'https://www.tvazteca.com/aztecanoticias/notas/hombre-agredio-migrante-metro-madrid-detenido-especiales'},\n",
       " {'url': 'https://www.tvazteca.com/aztecanoticias/notas/estados-unidos-incluye-cuba-lista-paises-financian-terrorismo-especiales'},\n",
       " {'url': 'https://www.tvazteca.com/aztecanoticias/notas/fbi-advierte-sobre-protestas-armadas-durante-toma-de-posesion-de-joe-biden-especiales'},\n",
       " {'url': 'https://www.tvazteca.com/aztecanoticias/notas/ahora-pga-abandona-a-trump-golf-campos-especiales'},\n",
       " {'url': 'https://www.tvazteca.com/aztecanoticias/notas/beijing-autoriza-llegada-de-expertos-de-la-oms-especiales'},\n",
       " {'url': 'https://www.tvazteca.com/aztecanoticias/notas/acciones-twitter-se-desploman-tras-suspenden-cuenta-de-trump-especiales'},\n",
       " {'url': 'https://www.tvazteca.com/aztecanoticias/notas/arnold-schwarzenegger-compara-ataque-al-capitolio-con-violencia-nazi-especiales'},\n",
       " {'url': 'https://www.tvazteca.com/aztecanoticias/notas/democratas-acusan-a-trump-de-incitacion-a-la-insurreccion-especiales'},\n",
       " {'url': 'https://www.tvazteca.com/aztecanoticias/notas/entrega-de-medalla-seria-uno-de-los-ultimos-actos-presidenciales-de-trump-especiales'},\n",
       " {'url': 'https://www.tvazteca.com/aztecanoticias/notas/william-burns-sera-nuevo-jefe-cia-gobierno-joe-biden-especiales'},\n",
       " {'url': 'https://www.tvazteca.com/aztecanoticias/notas/papa-francisco-permite-a-mujeres-leer-en-las-liturgias-pero-no-ser-sacerdotes-especiales'}]"
      ]
     },
     "execution_count": 30,
     "metadata": {},
     "output_type": "execute_result"
    }
   ],
   "source": [
    "crawler.all_json_to_send"
   ]
  },
  {
   "cell_type": "code",
   "execution_count": 31,
   "metadata": {},
   "outputs": [
    {
     "data": {
      "text/plain": [
       "18"
      ]
     },
     "execution_count": 31,
     "metadata": {},
     "output_type": "execute_result"
    }
   ],
   "source": [
    "len (crawler.all_json_to_send)"
   ]
  },
  {
   "cell_type": "code",
   "execution_count": 32,
   "metadata": {},
   "outputs": [],
   "source": [
    "assert(len(crawler.all_json_to_send)>0)"
   ]
  },
  {
   "cell_type": "code",
   "execution_count": 33,
   "metadata": {},
   "outputs": [],
   "source": [
    "assert validators.url(crawler.all_json_to_send[0][\"url\"])"
   ]
  },
  {
   "cell_type": "code",
   "execution_count": 34,
   "metadata": {},
   "outputs": [],
   "source": [
    "SEED_SCRAP = 'https://www.tvazteca.com/aztecanoticias/notas/buscaran-448-diputados-su-reeleccion-en-proximas-elecciones-especiales'"
   ]
  },
  {
   "cell_type": "code",
   "execution_count": 24,
   "metadata": {},
   "outputs": [],
   "source": [
    "QUERY_TITLE = \"//article[@class='Page-mainContent']/h1\"\n",
    "QUERY_CONTENT =  \"//div[@class='RichTextArticleBody-body']/p\"\n",
    "QUERY_DATE = \"//meta[@property='article:published_time']/@content\""
   ]
  },
  {
   "cell_type": "code",
   "execution_count": 25,
   "metadata": {},
   "outputs": [],
   "source": [
    "import json\n",
    "import w3lib.html\n",
    "import random\n",
    "import os\n",
    "import datetime\n",
    "import dateutil\n",
    "import requests\n",
    "import string\n",
    "import calendar\n",
    "import html\n",
    "import locale\n",
    "import re\n",
    "from requests_html import HTMLSession"
   ]
  },
  {
   "cell_type": "code",
   "execution_count": 26,
   "metadata": {},
   "outputs": [],
   "source": [
    "class Scraper:\n",
    "    \n",
    "    USER_AGENT_LIST = [\n",
    "        \"Mozilla/5.0 (Windows NT 6.1; WOW64) AppleWebKit/537.1 (KHTML, like Gecko) Chrome/22.0.1207.1 Safari/537.1\",\n",
    "        \"Mozilla/5.0 (X11; CrOS i686 2268.111.0) AppleWebKit/536.11 (KHTML, like Gecko) Chrome/20.0.1132.57 Safari/536.11\",\n",
    "        \"Mozilla/5.0 (Windows NT 6.1; WOW64) AppleWebKit/536.6 (KHTML, like Gecko) Chrome/20.0.1092.0 Safari/536.6\",\n",
    "        \"Mozilla/5.0 (Windows NT 6.2) AppleWebKit/536.6 (KHTML, like Gecko) Chrome/20.0.1090.0 Safari/536.6\",\n",
    "        \"Mozilla/5.0 (Windows NT 6.2; WOW64) AppleWebKit/537.1 (KHTML, like Gecko) Chrome/19.77.34.5 Safari/537.1\",\n",
    "        \"Mozilla/5.0 (X11; Linux x86_64) AppleWebKit/536.5 (KHTML, like Gecko) Chrome/19.0.1084.9 Safari/536.5\",\n",
    "        \"Mozilla/5.0 (Windows NT 6.0) AppleWebKit/536.5 (KHTML, like Gecko) Chrome/19.0.1084.36 Safari/536.5\",\n",
    "        \"Mozilla/5.0 (Windows NT 6.1; WOW64) AppleWebKit/536.3 (KHTML, like Gecko) Chrome/19.0.1063.0 Safari/536.3\",\n",
    "        \"Mozilla/5.0 (Windows NT 5.1) AppleWebKit/536.3 (KHTML, like Gecko) Chrome/19.0.1063.0 Safari/536.3\",\n",
    "        \"Mozilla/5.0 (Macintosh; Intel Mac OS X 10_8_0) AppleWebKit/536.3 (KHTML, like Gecko) Chrome/19.0.1063.0 Safari/536.3\",\n",
    "        \"Mozilla/5.0 (Windows NT 6.2) AppleWebKit/536.3 (KHTML, like Gecko) Chrome/19.0.1062.0 Safari/536.3\",\n",
    "        \"Mozilla/5.0 (Windows NT 6.1; WOW64) AppleWebKit/536.3 (KHTML, like Gecko) Chrome/19.0.1062.0 Safari/536.3\",\n",
    "        \"Mozilla/5.0 (Windows NT 6.2) AppleWebKit/536.3 (KHTML, like Gecko) Chrome/19.0.1061.1 Safari/536.3\",\n",
    "        \"Mozilla/5.0 (Windows NT 6.1; WOW64) AppleWebKit/536.3 (KHTML, like Gecko) Chrome/19.0.1061.1 Safari/536.3\",\n",
    "        \"Mozilla/5.0 (Windows NT 6.1) AppleWebKit/536.3 (KHTML, like Gecko) Chrome/19.0.1061.1 Safari/536.3\",\n",
    "        \"Mozilla/5.0 (Windows NT 6.2) AppleWebKit/536.3 (KHTML, like Gecko) Chrome/19.0.1061.0 Safari/536.3\",\n",
    "        \"Mozilla/5.0 (X11; Linux x86_64) AppleWebKit/535.24 (KHTML, like Gecko) Chrome/19.0.1055.1 Safari/535.24\",\n",
    "        \"Mozilla/5.0 (Windows NT 6.2; WOW64) AppleWebKit/535.24 (KHTML, like Gecko) Chrome/19.0.1055.1 Safari/535.24\"\n",
    "    ]\n",
    "\n",
    "    query_extract_title = QUERY_TITLE\n",
    "    query_extract_text =  QUERY_CONTENT\n",
    "    query_extract_date = QUERY_DATE\n",
    "\n",
    "    def _init_(self):\n",
    "        pass\n",
    "\n",
    "       \n",
    "    def start_request(self,url):\n",
    "        headers = {'user-agent':random.choice(self.USER_AGENT_LIST) }\n",
    "        session = HTMLSession()\n",
    "        response = session.get(url,headers=headers)        \n",
    "        return response\n",
    "    \n",
    "    \n",
    "    def clean_text(self, html_text):\n",
    "        text_without_tags = w3lib.html.remove_tags(html_text)\n",
    "        text_without_escape_chars = w3lib.html.replace_escape_chars(text_without_tags)\n",
    "        text_without_escape_chars = html.unescape(text_without_escape_chars)\n",
    "        text_without_whitespace = text_without_escape_chars.strip()\n",
    "        return text_without_whitespace\n",
    "\n",
    "    \n",
    "    def replace_month_name_to_number(self,date_string):\n",
    "        lower_string = date_string.lower()\n",
    "        for month_id in range(1, 13):\n",
    "            if(lower_string.find(calendar.month_name[month_id].lower())!=-1):\n",
    "                if(month_id>=10):\n",
    "                    return (lower_string.replace(calendar.month_name[month_id].lower(),str(month_id)))\n",
    "                else:\n",
    "                    return (lower_string.replace(calendar.month_name[month_id].lower(),\"0\"+str(month_id)))\n",
    "            if(lower_string.find(calendar.month_abbr[month_id].lower())!=-1):\n",
    "                if(month_id>=10):\n",
    "                    return (lower_string.replace(calendar.month_abbr[month_id].lower(),str(month_id)))\n",
    "                else:\n",
    "                    return (lower_string.replace(calendar.month_abbr[month_id].lower(),\"0\"+str(month_id)))\n",
    "                    \n",
    "    \n",
    "    def format_date(self,date):\n",
    "        date = dateutil.parser.parse(date)\n",
    "        date = datetime.date.strftime(date, \"%Y-%m-%d\")\n",
    "        return(date)\n",
    "    \n",
    "    \n",
    "    def parse(self, response):\n",
    "        self.news_text = []\n",
    "        self.message_to_send = []\n",
    "        self.scraped_url = response.url\n",
    "        self.news_title = response.html.xpath(self.query_extract_title)[0].text\n",
    "        self.date = response.html.xpath(self.query_extract_date)[0]\n",
    "        self.news_title = self.clean_text(self.news_title)\n",
    "        self.date = self.clean_text(self.date)\n",
    "        self.date = self.format_date(self.date)\n",
    "        news_text_extracted_response = response.html.xpath(self.query_extract_text)\n",
    "        for part_of_body in news_text_extracted_response:\n",
    "            stripped_html_tags = w3lib.html.remove_tags(part_of_body.text)\n",
    "            text_cleaned = self.clean_text(stripped_html_tags)\n",
    "            if (len(text_cleaned) != 0 and (not(\"TE PODRÍA INTERESAR:\" in text_cleaned))):\n",
    "                self.news_text.append(text_cleaned)"
   ]
  },
  {
   "cell_type": "code",
   "execution_count": 27,
   "metadata": {},
   "outputs": [],
   "source": [
    "scraper = Scraper()\n",
    "response =scraper.start_request(SEED_SCRAP)"
   ]
  },
  {
   "cell_type": "code",
   "execution_count": 28,
   "metadata": {},
   "outputs": [],
   "source": [
    "scraper.parse(response)"
   ]
  },
  {
   "cell_type": "code",
   "execution_count": 29,
   "metadata": {},
   "outputs": [
    {
     "data": {
      "text/plain": [
       "'Buscarán 448 diputados elección consecutiva en próximos comicios'"
      ]
     },
     "execution_count": 29,
     "metadata": {},
     "output_type": "execute_result"
    }
   ],
   "source": [
    "scraper.news_title"
   ]
  },
  {
   "cell_type": "code",
   "execution_count": 30,
   "metadata": {},
   "outputs": [
    {
     "data": {
      "text/plain": [
       "'2021-01-05'"
      ]
     },
     "execution_count": 30,
     "metadata": {},
     "output_type": "execute_result"
    }
   ],
   "source": [
    "scraper.date"
   ]
  },
  {
   "cell_type": "code",
   "execution_count": 31,
   "metadata": {},
   "outputs": [
    {
     "data": {
      "text/plain": [
       "['La Cámara de Diputados informó que de los 500 legisladores, 448 presentaron su carta de intención para buscar reelegirse en el próximo proceso electoral, es decir más del 90 por ciento de los legisladores.',\n",
       " 'En un comunicado, se indicó que hasta las 12:00 horas de la noche de ayer, la Secretaría General había recibido 448 cartas de intención, de los cuales 444 están en funciones, tres solicitaron licencia y uno más es un suplente que no ha tomado posesión.',\n",
       " 'TE RECOMENDAMOS:¿Cómo pueden los Reyes Magos entregar tantos juguetes en una noche?',\n",
       " '“De esta manera, se dio cumplimiento a la resolución del Tribunal Electoral del Poder Judicial de la Federación, que marcó esta fecha y hora como plazo para dicha recepción”, señaló.',\n",
       " 'La lista dada a conocer por la Cámara de Diputados señala que de los 252 legisladores con los que actualmente cuenta la fracción de Morena, 232 buscarán la reelección.',\n",
       " 'Entre los diputados de Morena está Abelina López, quien en octubre reconoció en tribuna haber pagado un soborno de 20 mil pesos para obtener un proceso abreviado. Asimismo, Alfonso Ramírez Cuéllar, Dolores Padierna, Pablo Gómez, Porfirio Muñoz Ledo, Aleida Alavez y Ricardo del Sol, entre otros.',\n",
       " 'Por el Partido Acción Nacional harán lo propio 64 de 77 legisladores actualmente en funciones. Se trata de Adriana Dávila, Carlos Alberto Valenzuela, Éctor Jaime, Felipe Fernando Macías, Hernán Salinas, Jorge Arturo Espadas, Jorge Luis Preciado, Jorge Romero, José Elías Lixa y el actual coordinador parlamentario Juan Carlos Romero Hicks.',\n",
       " 'De los 48 integrantes de la fracción parlamentaria del PRI buscarán la reelección 44, entre quienes se encuentran Ana Lilia Herrera, Anilú Ingram, Brasil Acosta, Carlos Pavón y Enrique Ochoa Reza, entre otros.']"
      ]
     },
     "execution_count": 31,
     "metadata": {},
     "output_type": "execute_result"
    }
   ],
   "source": [
    "scraper.news_text"
   ]
  },
  {
   "cell_type": "code",
   "execution_count": 32,
   "metadata": {},
   "outputs": [],
   "source": [
    "def validate(date_text):\n",
    "    try:\n",
    "        datetime.datetime.strptime(date_text, \"%Y-%m-%d\")\n",
    "        return True\n",
    "    except:\n",
    "        print(\"La fecha no tiene el formato correcto, año-mes-dia\")\n",
    "        return False\n",
    "\n",
    "    \n",
    "def test_news_title_has_text(news_title):\n",
    "    regex_string_only_numbers = r'^[0-9\\.\\ ]*$'\n",
    "    news_text_is_only_number_query = re.match(regex_string_only_numbers,news_title)\n",
    "    if(news_text_is_only_number_query is None):\n",
    "        return True\n",
    "    else:\n",
    "        return False\n",
    "\n",
    "    \n",
    "def test_news_text_has_text(news_text):\n",
    "    joined_text =   \" \".join(news_text)\n",
    "    regex_string_only_numbers = r'^[0-9\\.\\ ]*$'\n",
    "    news_text_is_only_number_query = re.match(regex_string_only_numbers,joined_text)\n",
    "    if(news_text_is_only_number_query is None):\n",
    "        return True\n",
    "    else:\n",
    "        return False\n",
    "\n",
    "        \n",
    "def test_news_title_length(news_title):\n",
    "    words_of_news_title = news_title.split(\" \")\n",
    "    len_of_each_news_title_word = list(map(len,words_of_news_title))\n",
    "    avg_of_news_words = sum(len_of_each_news_title_word)/len(len_of_each_news_title_word)\n",
    "    if(avg_of_news_words >= 1.5):\n",
    "        return True\n",
    "    else:\n",
    "        return False\n",
    "\n",
    "    \n",
    "def test_news_text_length(news_text):\n",
    "    len_of_each_news_text_words = []\n",
    "    for paragraph in news_text:\n",
    "        splited_words = paragraph.split(\" \")\n",
    "        len_of_each_news_text_words.extend(list(map(len,splited_words)))\n",
    "    avg_of_news_words = sum(len_of_each_news_text_words)/len(len_of_each_news_text_words)\n",
    "    if(avg_of_news_words >= 1.5):\n",
    "        return True\n",
    "    else:\n",
    "        return False"
   ]
  },
  {
   "cell_type": "code",
   "execution_count": 33,
   "metadata": {},
   "outputs": [],
   "source": [
    "assert(len(scraper.news_title)>0)\n",
    "assert(len(scraper.news_text)>0)\n",
    "assert(validate(scraper.date))\n",
    "assert(isinstance(scraper.news_title,str))\n",
    "assert(isinstance(scraper.news_text,list)) \n",
    "assert(scraper.news_title.find(\"<script>\")==-1)\n",
    "assert(scraper.news_title.find(\"</script>\")==-1)\n",
    "for text_piece in scraper.news_text:\n",
    "    assert(text_piece.find(\"<script>\")==-1)\n",
    "    assert(text_piece.find(\"</script>\")==-1)\n",
    "assert(test_news_title_has_text(scraper.news_title))\n",
    "assert(test_news_text_has_text(scraper.news_text))\n",
    "assert(test_news_title_length(scraper.news_title))\n",
    "assert(test_news_text_length(scraper.news_text)) "
   ]
  },
  {
   "cell_type": "code",
   "execution_count": null,
   "metadata": {},
   "outputs": [],
   "source": []
  }
 ],
 "metadata": {
  "kernelspec": {
   "display_name": "Python 3",
   "language": "python",
   "name": "python3"
  },
  "language_info": {
   "codemirror_mode": {
    "name": "ipython",
    "version": 3
   },
   "file_extension": ".py",
   "mimetype": "text/x-python",
   "name": "python",
   "nbconvert_exporter": "python",
   "pygments_lexer": "ipython3",
   "version": "3.9.1"
  }
 },
 "nbformat": 4,
 "nbformat_minor": 4
}
