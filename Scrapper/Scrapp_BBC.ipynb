{
 "cells": [
  {
   "cell_type": "code",
   "execution_count": 148,
   "metadata": {},
   "outputs": [],
   "source": [
    "SEED_CRAWL = 'https://www.bbc.com/mundo/topics/c7zp57yyz25t/page/2/'"
   ]
  },
  {
   "cell_type": "code",
   "execution_count": 149,
   "metadata": {},
   "outputs": [],
   "source": [
    "QUERY_URL = \"//div[@class='gel-5/8@l']/a/@href\""
   ]
  },
  {
   "cell_type": "code",
   "execution_count": 150,
   "metadata": {},
   "outputs": [],
   "source": [
    "import random\n",
    "import requests\n",
    "from requests_html import HTMLSession\n",
    "from requests_html import HTML\n",
    "import os\n",
    "import json\n",
    "import validators"
   ]
  },
  {
   "cell_type": "code",
   "execution_count": 151,
   "metadata": {},
   "outputs": [],
   "source": [
    "class Crawler:\n",
    "    \n",
    "    USER_AGENT_LIST = [\n",
    "        \"Mozilla/5.0 (Windows NT 6.1; WOW64) AppleWebKit/537.1 (KHTML, like Gecko) Chrome/22.0.1207.1 Safari/537.1\",\n",
    "        \"Mozilla/5.0 (X11; CrOS i686 2268.111.0) AppleWebKit/536.11 (KHTML, like Gecko) Chrome/20.0.1132.57 Safari/536.11\",\n",
    "        \"Mozilla/5.0 (Windows NT 6.1; WOW64) AppleWebKit/536.6 (KHTML, like Gecko) Chrome/20.0.1092.0 Safari/536.6\",\n",
    "        \"Mozilla/5.0 (Windows NT 6.2) AppleWebKit/536.6 (KHTML, like Gecko) Chrome/20.0.1090.0 Safari/536.6\",\n",
    "        \"Mozilla/5.0 (Windows NT 6.2; WOW64) AppleWebKit/537.1 (KHTML, like Gecko) Chrome/19.77.34.5 Safari/537.1\",\n",
    "        \"Mozilla/5.0 (X11; Linux x86_64) AppleWebKit/536.5 (KHTML, like Gecko) Chrome/19.0.1084.9 Safari/536.5\",\n",
    "        \"Mozilla/5.0 (Windows NT 6.0) AppleWebKit/536.5 (KHTML, like Gecko) Chrome/19.0.1084.36 Safari/536.5\",\n",
    "        \"Mozilla/5.0 (Windows NT 6.1; WOW64) AppleWebKit/536.3 (KHTML, like Gecko) Chrome/19.0.1063.0 Safari/536.3\",\n",
    "        \"Mozilla/5.0 (Windows NT 5.1) AppleWebKit/536.3 (KHTML, like Gecko) Chrome/19.0.1063.0 Safari/536.3\",\n",
    "        \"Mozilla/5.0 (Macintosh; Intel Mac OS X 10_8_0) AppleWebKit/536.3 (KHTML, like Gecko) Chrome/19.0.1063.0 Safari/536.3\",\n",
    "        \"Mozilla/5.0 (Windows NT 6.2) AppleWebKit/536.3 (KHTML, like Gecko) Chrome/19.0.1062.0 Safari/536.3\",\n",
    "        \"Mozilla/5.0 (Windows NT 6.1; WOW64) AppleWebKit/536.3 (KHTML, like Gecko) Chrome/19.0.1062.0 Safari/536.3\",\n",
    "        \"Mozilla/5.0 (Windows NT 6.2) AppleWebKit/536.3 (KHTML, like Gecko) Chrome/19.0.1061.1 Safari/536.3\",\n",
    "        \"Mozilla/5.0 (Windows NT 6.1; WOW64) AppleWebKit/536.3 (KHTML, like Gecko) Chrome/19.0.1061.1 Safari/536.3\",\n",
    "        \"Mozilla/5.0 (Windows NT 6.1) AppleWebKit/536.3 (KHTML, like Gecko) Chrome/19.0.1061.1 Safari/536.3\",\n",
    "        \"Mozilla/5.0 (Windows NT 6.2) AppleWebKit/536.3 (KHTML, like Gecko) Chrome/19.0.1061.0 Safari/536.3\",\n",
    "        \"Mozilla/5.0 (X11; Linux x86_64) AppleWebKit/535.24 (KHTML, like Gecko) Chrome/19.0.1055.1 Safari/535.24\",\n",
    "        \"Mozilla/5.0 (Windows NT 6.2; WOW64) AppleWebKit/535.24 (KHTML, like Gecko) Chrome/19.0.1055.1 Safari/535.24\"\n",
    "]\n",
    "\n",
    "\n",
    "    query_extract_all_href=QUERY_URL\n",
    "    \n",
    "\n",
    "    all_json_to_send = []\n",
    "    \n",
    "    \n",
    "    def _init_(self):\n",
    "        pass\n",
    "    \n",
    "    \n",
    "    def start_request(self,url):\n",
    "        session = HTMLSession()\n",
    "        header = dict()\n",
    "        header['user-agent'] = random.choice(self.USER_AGENT_LIST)\n",
    "        response = session.get(url,headers=header)        \n",
    "        return response\n",
    "    \n",
    "    \n",
    "    def parse(self, response):\n",
    "        self.all_json_to_send = []\n",
    "        all_extracted_href = response.html.xpath(self.query_extract_all_href)\n",
    "        for href in all_extracted_href:\n",
    "            json_to_send= dict()\n",
    "            json_to_send[\"url\"]=\"https://www.bbc.com\" + href\n",
    "            self.all_json_to_send.append(json_to_send)"
   ]
  },
  {
   "cell_type": "code",
   "execution_count": 152,
   "metadata": {},
   "outputs": [],
   "source": [
    "crawler = Crawler()\n",
    "\n",
    "response = crawler.start_request(SEED_CRAWL)"
   ]
  },
  {
   "cell_type": "code",
   "execution_count": 153,
   "metadata": {},
   "outputs": [
    {
     "data": {
      "text/plain": [
       "<Response [200]>"
      ]
     },
     "execution_count": 153,
     "metadata": {},
     "output_type": "execute_result"
    }
   ],
   "source": [
    "response"
   ]
  },
  {
   "cell_type": "code",
   "execution_count": 154,
   "metadata": {},
   "outputs": [],
   "source": [
    "crawler.parse(response)"
   ]
  },
  {
   "cell_type": "code",
   "execution_count": 155,
   "metadata": {},
   "outputs": [
    {
     "data": {
      "text/plain": [
       "[{'url': 'https://www.bbc.com/mundo/noticias-america-latina-55328657'},\n",
       " {'url': 'https://www.bbc.com/mundo/noticias-america-latina-55325780'},\n",
       " {'url': 'https://www.bbc.com/mundo/noticias-america-latina-55326763'},\n",
       " {'url': 'https://www.bbc.com/mundo/noticias-america-latina-55310769'},\n",
       " {'url': 'https://www.bbc.com/mundo/noticias-america-latina-55303074'},\n",
       " {'url': 'https://www.bbc.com/mundo/noticias-america-latina-55297646'},\n",
       " {'url': 'https://www.bbc.com/mundo/noticias-america-latina-55283423'},\n",
       " {'url': 'https://www.bbc.com/mundo/noticias-america-latina-55284459'},\n",
       " {'url': 'https://www.bbc.com/mundo/noticias-america-latina-55283453'},\n",
       " {'url': 'https://www.bbc.com/mundo/noticias-america-latina-55274993'}]"
      ]
     },
     "execution_count": 155,
     "metadata": {},
     "output_type": "execute_result"
    }
   ],
   "source": [
    "crawler.all_json_to_send"
   ]
  },
  {
   "cell_type": "code",
   "execution_count": 14,
   "metadata": {},
   "outputs": [],
   "source": [
    "assert(len(crawler.all_json_to_send)>0) "
   ]
  },
  {
   "cell_type": "code",
   "execution_count": 55,
   "metadata": {},
   "outputs": [],
   "source": [
    "assert validators.url(crawler.all_json_to_send[0][\"url\"])"
   ]
  },
  {
   "cell_type": "code",
   "execution_count": 133,
   "metadata": {},
   "outputs": [],
   "source": [
    "SEED_SCRAP = 'https://www.bbc.com/mundo/noticias-america-latina-55405370'"
   ]
  },
  {
   "cell_type": "code",
   "execution_count": 134,
   "metadata": {},
   "outputs": [],
   "source": [
    "QUERY_TITLE = \"//div[@dir='ltr']/h1\"\n",
    "QUERY_CONTENT =  \"//div[@dir='ltr']/*[self::p|self::h2]\"\n",
    "QUERY_DATE = \"//div[@dir='ltr']/time/@datetime\""
   ]
  },
  {
   "cell_type": "code",
   "execution_count": 135,
   "metadata": {},
   "outputs": [],
   "source": [
    "import json\n",
    "import w3lib.html\n",
    "import random\n",
    "import os\n",
    "import datetime\n",
    "import requests\n",
    "import string\n",
    "import calendar\n",
    "import html\n",
    "import locale \n",
    "from requests_html import HTMLSession\n",
    "import re\n",
    "import locale"
   ]
  },
  {
   "cell_type": "code",
   "execution_count": 142,
   "metadata": {},
   "outputs": [],
   "source": [
    "class Scraper:\n",
    "    \n",
    "    USER_AGENT_LIST = [\n",
    "        \"Mozilla/5.0 (Windows NT 6.1; WOW64) AppleWebKit/537.1 (KHTML, like Gecko) Chrome/22.0.1207.1 Safari/537.1\",\n",
    "        \"Mozilla/5.0 (X11; CrOS i686 2268.111.0) AppleWebKit/536.11 (KHTML, like Gecko) Chrome/20.0.1132.57 Safari/536.11\",\n",
    "        \"Mozilla/5.0 (Windows NT 6.1; WOW64) AppleWebKit/536.6 (KHTML, like Gecko) Chrome/20.0.1092.0 Safari/536.6\",\n",
    "        \"Mozilla/5.0 (Windows NT 6.2) AppleWebKit/536.6 (KHTML, like Gecko) Chrome/20.0.1090.0 Safari/536.6\",\n",
    "        \"Mozilla/5.0 (Windows NT 6.2; WOW64) AppleWebKit/537.1 (KHTML, like Gecko) Chrome/19.77.34.5 Safari/537.1\",\n",
    "        \"Mozilla/5.0 (X11; Linux x86_64) AppleWebKit/536.5 (KHTML, like Gecko) Chrome/19.0.1084.9 Safari/536.5\",\n",
    "        \"Mozilla/5.0 (Windows NT 6.0) AppleWebKit/536.5 (KHTML, like Gecko) Chrome/19.0.1084.36 Safari/536.5\",\n",
    "        \"Mozilla/5.0 (Windows NT 6.1; WOW64) AppleWebKit/536.3 (KHTML, like Gecko) Chrome/19.0.1063.0 Safari/536.3\",\n",
    "        \"Mozilla/5.0 (Windows NT 5.1) AppleWebKit/536.3 (KHTML, like Gecko) Chrome/19.0.1063.0 Safari/536.3\",\n",
    "        \"Mozilla/5.0 (Macintosh; Intel Mac OS X 10_8_0) AppleWebKit/536.3 (KHTML, like Gecko) Chrome/19.0.1063.0 Safari/536.3\",\n",
    "        \"Mozilla/5.0 (Windows NT 6.2) AppleWebKit/536.3 (KHTML, like Gecko) Chrome/19.0.1062.0 Safari/536.3\",\n",
    "        \"Mozilla/5.0 (Windows NT 6.1; WOW64) AppleWebKit/536.3 (KHTML, like Gecko) Chrome/19.0.1062.0 Safari/536.3\",\n",
    "        \"Mozilla/5.0 (Windows NT 6.2) AppleWebKit/536.3 (KHTML, like Gecko) Chrome/19.0.1061.1 Safari/536.3\",\n",
    "        \"Mozilla/5.0 (Windows NT 6.1; WOW64) AppleWebKit/536.3 (KHTML, like Gecko) Chrome/19.0.1061.1 Safari/536.3\",\n",
    "        \"Mozilla/5.0 (Windows NT 6.1) AppleWebKit/536.3 (KHTML, like Gecko) Chrome/19.0.1061.1 Safari/536.3\",\n",
    "        \"Mozilla/5.0 (Windows NT 6.2) AppleWebKit/536.3 (KHTML, like Gecko) Chrome/19.0.1061.0 Safari/536.3\",\n",
    "        \"Mozilla/5.0 (X11; Linux x86_64) AppleWebKit/535.24 (KHTML, like Gecko) Chrome/19.0.1055.1 Safari/535.24\",\n",
    "        \"Mozilla/5.0 (Windows NT 6.2; WOW64) AppleWebKit/535.24 (KHTML, like Gecko) Chrome/19.0.1055.1 Safari/535.24\"\n",
    "    ]\n",
    "\n",
    "    query_extract_title = QUERY_TITLE\n",
    "    query_extract_text =  QUERY_CONTENT\n",
    "    query_extract_date = QUERY_DATE\n",
    "\n",
    "    \n",
    "    def _init_(self):\n",
    "        pass\n",
    "\n",
    "  \n",
    "    def start_request(self,url):\n",
    "        headers = {'user-agent':random.choice(self.USER_AGENT_LIST) }\n",
    "        session = HTMLSession()\n",
    "        response = session.get(url,headers=headers)        \n",
    "        return response\n",
    "    \n",
    "\n",
    "    def clean_text(self, html_text):\n",
    "        text_without_tags = w3lib.html.remove_tags(html_text)\n",
    "        text_without_escape_chars = w3lib.html.replace_escape_chars(text_without_tags)\n",
    "        text_without_escape_chars = html.unescape(text_without_escape_chars)\n",
    "        text_without_whitespace = text_without_escape_chars.strip()\n",
    "        return text_without_whitespace\n",
    "\n",
    " \n",
    "    def replace_month_name_to_number(self,date_string):\n",
    "        lower_string = date_string.lower()\n",
    "        for month_id in range(1, 13):\n",
    "            if(lower_string.find(calendar.month_name[month_id].lower())!=-1):\n",
    "                if(month_id>=10):\n",
    "                    return (lower_string.replace(calendar.month_name[month_id].lower(),str(month_id)))\n",
    "                else:\n",
    "                    return (lower_string.replace(calendar.month_name[month_id].lower(),\"0\"+str(month_id)))\n",
    "            if(lower_string.find(calendar.month_abbr[month_id].lower())!=-1):\n",
    "                if(month_id>=10):\n",
    "                    return (lower_string.replace(calendar.month_abbr[month_id].lower(),str(month_id)))\n",
    "                else:\n",
    "                    return (lower_string.replace(calendar.month_abbr[month_id].lower(),\"0\"+str(month_id)))\n",
    "                    \n",
    "\n",
    "    def format_date(self,date):\n",
    "        return(date)\n",
    "    \n",
    "\n",
    "    def parse(self, response):\n",
    "        self.news_text = []\n",
    "        self.message_to_send = []\n",
    "        self.scraped_url = response.url\n",
    "        self.news_title = response.html.xpath(self.query_extract_title)[0].text\n",
    "        self.date = response.html.xpath(self.query_extract_date)\n",
    "        self.date = self.date[0]\n",
    "        self.news_title = self.clean_text(self.news_title)\n",
    "        self.date = self.clean_text(self.date)\n",
    "        self.date = self.format_date(self.date)\n",
    "        news_text_extracted_response = response.html.xpath(self.query_extract_text)\n",
    "        for part_of_body in news_text_extracted_response:\n",
    "            stripped_html_tags = w3lib.html.remove_tags(part_of_body.text)\n",
    "            text_cleaned = self.clean_text(stripped_html_tags)\n",
    "            if (len(text_cleaned) != 0):\n",
    "                self.news_text.append(text_cleaned)\n",
    "        self.news_text = self.news_text[0:-1]"
   ]
  },
  {
   "cell_type": "code",
   "execution_count": 143,
   "metadata": {},
   "outputs": [],
   "source": [
    "scraper = Scraper()\n",
    "response =scraper.start_request(SEED_SCRAP)"
   ]
  },
  {
   "cell_type": "code",
   "execution_count": 144,
   "metadata": {},
   "outputs": [],
   "source": [
    "scraper.parse(response)"
   ]
  },
  {
   "cell_type": "code",
   "execution_count": 145,
   "metadata": {},
   "outputs": [
    {
     "data": {
      "text/plain": [
       "'Crisis en Venezuela | \"La presión internacional no obligó a un cambio político en Venezuela, pero ha obligado a un cambio económico\": Alberto Vollmer, presidente de Ron Santa Teresa'"
      ]
     },
     "execution_count": 145,
     "metadata": {},
     "output_type": "execute_result"
    }
   ],
   "source": [
    "scraper.news_title"
   ]
  },
  {
   "cell_type": "code",
   "execution_count": 146,
   "metadata": {},
   "outputs": [
    {
     "data": {
      "text/plain": [
       "'2020-12-22'"
      ]
     },
     "execution_count": 146,
     "metadata": {},
     "output_type": "execute_result"
    }
   ],
   "source": [
    "scraper.date"
   ]
  },
  {
   "cell_type": "code",
   "execution_count": 147,
   "metadata": {},
   "outputs": [
    {
     "data": {
      "text/plain": [
       "['En un país tan polarizado como Venezuela, el empresario Alberto Vollmer hace equilibrismo.',\n",
       " 'Y eso ayuda a que la empresa familiar que dirige, Ron Santa Teresa, no sólo se mantenga tras más de 200 años de historia, sino que en un entorno económico de destrucción como el venezolano siga produciendo, exportando y siendo una de las marcas más reconocidas del país.',\n",
       " 'El mes pasado Santa Teresa recibió incluso autorización para emitir deuda en dólares en la bolsa de Caracas, señal de la apertura del gobierno socialista hacia el sector privado en un momento de necesidad de ingresos e inversiones.',\n",
       " 'Vollmer, de 51 años, es uno de los empresarios \"optimistas\" que creen que el cambio económico en Venezuela es irreversible y que está dispuesto a aprovecharlo.',\n",
       " 'Eso le genera críticas de aquellas personas contrarias al gobierno que reclaman primero el cambio político y que le reprochan su buena relación con el Ejecutivo de Nicolás Maduro.',\n",
       " 'El empresario dice no ser político, pero ejerce su influencia con el pragmatismo que parece ahora imperar en un país que acepta poco a poco al dólar como su moneda y que entra en una nueva fase del conflicto político tras las elecciones legislativas del 6 de diciembre y lo que pueda hacer desde Washington el próximo gobierno de Joe Biden.',\n",
       " 'En esta entrevista con BBC Mundo, Vollmer explica cómo busca influir, por qué cree que lo económico va a anteceder a lo político y qué solución ve al país.',\n",
       " 'La conversación ha sido editada y recortada por motivos de comprensión y extensión.',\n",
       " 'Venezuela vive un momento económico diferente, de apertura. ¿Dónde ve usted al país ahora?',\n",
       " 'Parte del ciclo en el que estamos entrando obedece a que agotamos el ciclo anterior. Venezuela adoptó una política económica rentista hace 100 años. Ese modelo se agotó. No quiere decir que el petróleo no vaya a tener un papel importante, pero en este nuevo ciclo va a estar diluido. Vamos a tener que diversificar, es la puerta que se está empezando a abrir. Y en ese proceso de diversificación hay una necesidad de abrir la economía para atraer inversión, promover la productividad, promover el ahorro y generar empleo para aumentar el ingreso per cápita y reducir la pobreza.',\n",
       " 'La economía venezolana va a estar obligada a abrirse porque ya no tenemos los recursos cuantiosos que venían de una sola fuente y que no necesitaban de una economía competitiva.',\n",
       " '¿Es entonces un cambio de ciclo positivo?',\n",
       " 'Lo veo positivo y lo digo obviando un poco el tema político, porque estamos obsesionados con todo el tema político. Yo lo estoy viendo como un ciclo histórico. Estamos entrando a un nuevo ciclo donde estamos obligados a diversificar para generar riqueza e inclusión social.',\n",
       " 'Usted muestra optimismo y es eso lo que define a un grupo de empresarios en Venezuela como usted. No es fácil serlo en una situación como la que está Venezuela. ¿Por qué usted es optimista?',\n",
       " 'A través de Conapri, el consejo nacional para la promoción de inversiones, que es una agencia enteramente privada, se han establecido canales de comunicación con quienes ocupan espacios de poder y decisión sobre lo económico.',\n",
       " 'Hay dos tipos de agenda. La primera es la simplificación del marco regulatorio. La otra tiene que ver con influir en políticas públicas a través de leyes o de política económica macro y eso solo lo puedes hacer al tener canales de comunicación constructiva.',\n",
       " 'Y al otro lado de esos canales, en la parte del gobierno, ¿encuentra mayor recepción últimamente? ¿Es la apertura un proceso irreversible?',\n",
       " 'Ha habido un cambio de actores, pero también ha habido un choque con la realidad. Al no tener caja chica, ingresos y los recursos que tenías antes (…) Este choque te da un toque pragmático. Estamos en esa etapa, y sí lo veo irreversible. El país entero ha aprendido. Hay un profundo aprendizaje, una sensación de lección aprendida a la fuerza y ojalá lo logremos capitalizar.',\n",
       " 'Pero la situación del país va más allá de la bolsa y de ciertas empresas. Es difícil explicar ese optimismo a mucha gente en Venezuela.',\n",
       " 'La situación que estamos viviendo es dramática. Ahora, parte del optimismo es una herramienta para ver más allá de esos obstáculos. Es una energía para retar y cambiar esa realidad tan negativa.',\n",
       " '¿Cómo hacer para que esa apertura y ese beneficio para ciertos empresarios repercuta en la gente normal en la calle?',\n",
       " 'Empleo, inversión, ahorro y productividad son las cuatro palancas que pueden propiciar que una economía resurja, que al final es la única forma de poder incluir a esas personas que están por debajo de la línea de pobreza.',\n",
       " 'Si tenemos un incremento en el ingreso petrolero será bueno, pero ya no sé si suficiente. ¿Cómo lograr mayores ingresos? Por exportación de petróleo, por exportaciones no tradicionales, por la mayor productividad del sector privado…',\n",
       " 'Es difícil hacer milagros, todo va a reducirse a una economía más abierta y más competitiva.',\n",
       " 'Muchos en Venezuela acusan a empresarios como usted de mirar al otro lado y de olvidarse de los cambios políticos.',\n",
       " 'Hay ciertas cosas en las que uno puede tener mayor impacto. La responsabilidad primaria es generar riqueza, empleo. La forma más robusta de generar inclusión es el empleo.',\n",
       " 'Con respecto a lo político, es un tema de los políticos. Todos los venezolanos queremos vivir en un sistema transparente y democrático que dé oportunidades a la gente. Al final, lo que puedo hacer en ese terreno es impulsar a las partes para que lleguen a un acuerdo.',\n",
       " 'No diría que somos espectadores, sino que más bien nos hemos involucrado. El conflicto político en el que se encuentra el país va a requerir llegar a un acuerdo para tener una solución viable, y va a requerir a todas las partes del país.',\n",
       " 'Y (ese acuerdo) debe ser impulsar la economía y lograr que Venezuela se reinserte en la comunidad internacional. Hoy en día somos vistos como parias.',\n",
       " '¿Entonces usted ve que el cambio económico antecede al político en Venezuela?',\n",
       " 'Desde el punto de vista de necesidad, práctico, la necesidad del país es recuperarse económicamente. Hay incentivos tanto en el sector privado como en el político de ambos lados de que el país se recupere económicamente.',\n",
       " 'Entonces lo económico va primero y lo político debe esperar. Muchos dicen que el cambio político debe ser lo primero…',\n",
       " 'Los dos argumentos funcionan, son válidos. Yo no argumento cuál es el mejor, sino lo que yo creo que va a suceder primero.',\n",
       " 'Aquí había una tesis: una parte del país decía que para que hubiera cambio económico debía haber un cambio de los actores. Llevamos dos años y medio bajo el manto de esa estrategia y no ha funcionado.',\n",
       " 'Ha habido una política de presión internacional a través de sanciones, etcétera, que ha limitado ingresos a Venezuela y esa reducción bárbara de ingresos, tanto por los errores del gobierno venezolano, por supuesto, pero además complementados por las sanciones. Y eso no obligó a un cambio político. Parece mentira pero ha obligado a un cambio económico obligado. Los actores políticos se han dado cuenta de que no tienen los recursos que tenían antes. Y entonces deben generar nuevos recursos y sólo se van a lograr con una economía más abierta.',\n",
       " 'Ahora, ¿el cambio económico genera un cambio político? No necesariamente. Parte de este cambio de ciclo o de fase está en que ambos lados del espectro político se den cuenta de que la única solución sostenible en el tiempo es a través de un acuerdo.',\n",
       " 'Grupos de ambos lados pensaron que podían lograr su objetivo sin sentarse a negociar y yo creo que poco a poco se ha ido dando cuenta de que la única forma de tener un futuro sostenible en el tiempo es a través de un acuerdo.',\n",
       " 'Al principio de la entrevista decía que estamos \"obsesionados con la política\". ¿Qué quiere decir?',\n",
       " 'Si revisas los últimos 20 años, la política siempre ha estado por encima de la economía (…) A la agenda política se le ha dado muchísimo más espacio. Es tiempo de que la economía abarque más ancho de banda. Y lo político debe seguir adelante, pero la forma en que se entiende la política en Venezuela es prácticamente una confrontación que ha contribuido a la polarización. Lo que necesita Venezuela es un acuerdo entre partes.',\n",
       " '¿Cuán cerca está el país de ese acuerdo? No parece muy próximo…',\n",
       " 'Tienes razón, no lo veo todavía cercano, y aquí entra la crítica del optimismo. Nunca se sabe si estamos cerca o lejos, pero una vez que lo defines estás un paso más cerca.',\n",
       " 'Usted comparó hace poco el momento de Venezuela con el de China a finales de los años 80. ¿Es bueno ese modelo?No es muy prometedor para muchos venezolanos.',\n",
       " 'Por supuesto que no, yo tampoco estaría de acuerdo con un modelo como ése. Cuando hice la mención del tema chino es que en los años 80 China estaba quebrada, económicamente habían incurrido en un error muy parecido al venezolano y en ese momento decidió abrirse, usar el mercado de capitales casi por obligación. Venezuela está en una obligación de abrirse a la inversión y los mercados.',\n",
       " '¿Hasta ahí llega la comparación con China?',\n",
       " 'Hasta ahí, nada más. Lo que más quisiéramos (en Venezuela) es tener una economía abierta y una democracia transparente.',\n",
       " 'Viendo lo que sucede en las calles con el dólar, lo que dicen el gobierno, empresarios como usted y políticos de oposición como Henrique Capriles, parece que Venezuela entró en una fase muy pragmática. ¿Lo ve así?',\n",
       " 'Cuando uno se pone a analizar dónde estamos y lo comparas con 2016, por ejemplo… La ideología tiene poco espacio porque al final no da los resultados que necesitas. Hacen falta cosas prácticas que no se logran con ideología. Hay un refrán que dice: no hay nada como el aliento del toro en la riñonera para quitar el reumatismo (…) Estamos obligados por necesidad interna y eso nos ha llevado a ese pragmatismo del que hablas.',\n",
       " 'Pero ese pragmatismo, leer lo que usted dicen en esta entrevista, por ejemplo, escuece en Venezuela a muchas personas que ven aplazados cambios que desean con urgencia.',\n",
       " 'Muchas veces se han prometido cambios rápidos y maximalistas y fáciles. Desafortunadamente lo fácil no lleva a nada bueno, y nos ha traído a un lugar muy malo. El reto es coger la ruta difícil, que implica mucho trabajo, perseverancia, sentarse con quien no quieres sentarte…',\n",
       " '¿Tragar sapos, como se dice en Venezuela?',\n",
       " 'Sí, y construir con tu adversario y eso no nos gusta en Venezuela. La solución maximalista en la que desaparece el contrario no existe, nunca ha existido, nunca ha funcionado. Lo que ha funcionado es un acuerdo construido por todos y eso no siempre es agradable asimilarlo. Hay que ver hasta dónde hemos llegado haciendo lo contrario, y deberíamos estar en capacidad de aprender que aunque no nos guste, lo otro es la única forma de tener un mejor país.']"
      ]
     },
     "execution_count": 147,
     "metadata": {},
     "output_type": "execute_result"
    }
   ],
   "source": [
    "scraper.news_text"
   ]
  },
  {
   "cell_type": "code",
   "execution_count": 131,
   "metadata": {},
   "outputs": [],
   "source": [
    "def validate(date_text):\n",
    "    try:\n",
    "        datetime.datetime.strptime(date_text, \"%Y-%m-%d\")\n",
    "        return True\n",
    "    except:\n",
    "        print(\"La fecha no tiene el formato correcto, año-mes-dia\")\n",
    "        return False\n",
    "\n",
    "    \n",
    "def test_news_title_has_text(news_title):\n",
    "    regex_string_only_numbers = r'^[0-9\\.\\ ]*$'\n",
    "    news_text_is_only_number_query = re.match(regex_string_only_numbers,news_title)\n",
    "    if(news_text_is_only_number_query is None):\n",
    "        return True\n",
    "    else:\n",
    "        return False\n",
    "\n",
    "    \n",
    "def test_news_text_has_text(news_text):\n",
    "    joined_text =   \" \".join(news_text)\n",
    "    regex_string_only_numbers = r'^[0-9\\.\\ ]*$'\n",
    "    news_text_is_only_number_query = re.match(regex_string_only_numbers,joined_text)\n",
    "    if(news_text_is_only_number_query is None):\n",
    "        return True\n",
    "    else:\n",
    "        return False\n",
    "\n",
    "        \n",
    "def test_news_title_length(news_title):\n",
    "    words_of_news_title = news_title.split(\" \")\n",
    "    len_of_each_news_title_word = list(map(len,words_of_news_title))\n",
    "    avg_of_news_words = sum(len_of_each_news_title_word)/len(len_of_each_news_title_word)\n",
    "    if(avg_of_news_words >= 1.5):\n",
    "        return True\n",
    "    else:\n",
    "        return False\n",
    "\n",
    "    \n",
    "def test_news_text_length(news_text):\n",
    "    len_of_each_news_text_words = []\n",
    "    for paragraph in news_text:\n",
    "        splited_words = paragraph.split(\" \")\n",
    "        len_of_each_news_text_words.extend(list(map(len,splited_words)))\n",
    "    avg_of_news_words = sum(len_of_each_news_text_words)/len(len_of_each_news_text_words)\n",
    "    if(avg_of_news_words >= 1.5):\n",
    "        return True\n",
    "    else:\n",
    "        return False\n"
   ]
  },
  {
   "cell_type": "code",
   "execution_count": 132,
   "metadata": {},
   "outputs": [],
   "source": [
    "assert(len(scraper.news_title)>0)\n",
    "assert(len(scraper.news_text)>0)\n",
    "assert(validate(scraper.date))\n",
    "assert(isinstance(scraper.news_title,str))\n",
    "assert(isinstance(scraper.news_text,list)) \n",
    "assert(scraper.news_title.find(\"<script>\")==-1)\n",
    "assert(scraper.news_title.find(\"</script>\")==-1)\n",
    "for text_piece in scraper.news_text:\n",
    "    assert(text_piece.find(\"<script>\")==-1)\n",
    "    assert(text_piece.find(\"</script>\")==-1)\n",
    "assert(test_news_title_has_text(scraper.news_title))\n",
    "assert(test_news_text_has_text(scraper.news_text))\n",
    "assert(test_news_title_length(scraper.news_title))\n",
    "assert(test_news_text_length(scraper.news_text)) "
   ]
  },
  {
   "cell_type": "code",
   "execution_count": null,
   "metadata": {},
   "outputs": [],
   "source": []
  }
 ],
 "metadata": {
  "kernelspec": {
   "display_name": "Python 3",
   "language": "python",
   "name": "python3"
  },
  "language_info": {
   "codemirror_mode": {
    "name": "ipython",
    "version": 3
   },
   "file_extension": ".py",
   "mimetype": "text/x-python",
   "name": "python",
   "nbconvert_exporter": "python",
   "pygments_lexer": "ipython3",
   "version": "3.8.6"
  }
 },
 "nbformat": 4,
 "nbformat_minor": 4
}
