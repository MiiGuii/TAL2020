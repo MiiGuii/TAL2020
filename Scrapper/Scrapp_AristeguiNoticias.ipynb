{
 "cells": [
  {
   "cell_type": "code",
   "execution_count": 4,
   "metadata": {},
   "outputs": [],
   "source": [
    "SEED_CRAWL = 'https://aristeguinoticias.com/editorial/wp-content/themes/aristegui/api/generico.php?per_page=10&offset=0&categories=3&author='"
   ]
  },
  {
   "cell_type": "code",
   "execution_count": 5,
   "metadata": {},
   "outputs": [],
   "source": [
    "import random\n",
    "import requests\n",
    "from requests_html import HTMLSession\n",
    "from requests_html import HTML\n",
    "import os\n",
    "import json\n",
    "import validators"
   ]
  },
  {
   "cell_type": "code",
   "execution_count": 15,
   "metadata": {},
   "outputs": [],
   "source": [
    "class Crawler:\n",
    "    \n",
    "    USER_AGENT_LIST = [\n",
    "        \"Mozilla/5.0 (Windows NT 6.1; WOW64) AppleWebKit/537.1 (KHTML, like Gecko) Chrome/22.0.1207.1 Safari/537.1\",\n",
    "        \"Mozilla/5.0 (X11; CrOS i686 2268.111.0) AppleWebKit/536.11 (KHTML, like Gecko) Chrome/20.0.1132.57 Safari/536.11\",\n",
    "        \"Mozilla/5.0 (Windows NT 6.1; WOW64) AppleWebKit/536.6 (KHTML, like Gecko) Chrome/20.0.1092.0 Safari/536.6\",\n",
    "        \"Mozilla/5.0 (Windows NT 6.2) AppleWebKit/536.6 (KHTML, like Gecko) Chrome/20.0.1090.0 Safari/536.6\",\n",
    "        \"Mozilla/5.0 (Windows NT 6.2; WOW64) AppleWebKit/537.1 (KHTML, like Gecko) Chrome/19.77.34.5 Safari/537.1\",\n",
    "        \"Mozilla/5.0 (X11; Linux x86_64) AppleWebKit/536.5 (KHTML, like Gecko) Chrome/19.0.1084.9 Safari/536.5\",\n",
    "        \"Mozilla/5.0 (Windows NT 6.0) AppleWebKit/536.5 (KHTML, like Gecko) Chrome/19.0.1084.36 Safari/536.5\",\n",
    "        \"Mozilla/5.0 (Windows NT 6.1; WOW64) AppleWebKit/536.3 (KHTML, like Gecko) Chrome/19.0.1063.0 Safari/536.3\",\n",
    "        \"Mozilla/5.0 (Windows NT 5.1) AppleWebKit/536.3 (KHTML, like Gecko) Chrome/19.0.1063.0 Safari/536.3\",\n",
    "        \"Mozilla/5.0 (Macintosh; Intel Mac OS X 10_8_0) AppleWebKit/536.3 (KHTML, like Gecko) Chrome/19.0.1063.0 Safari/536.3\",\n",
    "        \"Mozilla/5.0 (Windows NT 6.2) AppleWebKit/536.3 (KHTML, like Gecko) Chrome/19.0.1062.0 Safari/536.3\",\n",
    "        \"Mozilla/5.0 (Windows NT 6.1; WOW64) AppleWebKit/536.3 (KHTML, like Gecko) Chrome/19.0.1062.0 Safari/536.3\",\n",
    "        \"Mozilla/5.0 (Windows NT 6.2) AppleWebKit/536.3 (KHTML, like Gecko) Chrome/19.0.1061.1 Safari/536.3\",\n",
    "        \"Mozilla/5.0 (Windows NT 6.1; WOW64) AppleWebKit/536.3 (KHTML, like Gecko) Chrome/19.0.1061.1 Safari/536.3\",\n",
    "        \"Mozilla/5.0 (Windows NT 6.1) AppleWebKit/536.3 (KHTML, like Gecko) Chrome/19.0.1061.1 Safari/536.3\",\n",
    "        \"Mozilla/5.0 (Windows NT 6.2) AppleWebKit/536.3 (KHTML, like Gecko) Chrome/19.0.1061.0 Safari/536.3\",\n",
    "        \"Mozilla/5.0 (X11; Linux x86_64) AppleWebKit/535.24 (KHTML, like Gecko) Chrome/19.0.1055.1 Safari/535.24\",\n",
    "        \"Mozilla/5.0 (Windows NT 6.2; WOW64) AppleWebKit/535.24 (KHTML, like Gecko) Chrome/19.0.1055.1 Safari/535.24\"\n",
    "]\n",
    "    \n",
    "\n",
    "    all_json_to_send = []\n",
    "    \n",
    "    \n",
    "    def _init_(self):\n",
    "        pass\n",
    "    \n",
    "    \n",
    "    def start_request(self,url):\n",
    "        session = HTMLSession()\n",
    "        header = dict()\n",
    "        header['user-agent'] = random.choice(self.USER_AGENT_LIST)\n",
    "        response = session.get(url,headers=header)        \n",
    "        return response\n",
    "    \n",
    "    \n",
    "    def parse(self, response):\n",
    "        self.all_json_to_send = []\n",
    "        json_data = json.loads(response.html.html)[\"posts\"]\n",
    "        for url_data in json_data:\n",
    "            json_to_send = {}\n",
    "            if url_data[\"categories\"][0] == \"3\":\n",
    "                json_to_send[\"url\"] = \"https://aristeguinoticias.com/\" + url_data[\"post_fecha\"] + \"/mexico/\" + url_data[\"post_slug\"]\n",
    "            elif url_data[\"categories\"][0] == \"1936\":\n",
    "                json_to_send[\"url\"] = \"https://aristeguinoticias.com/\" + url_data[\"post_fecha\"] + \"/economia/\" + url_data[\"post_slug\"]\n",
    "            elif url_data[\"categories\"][0] == \"37\":\n",
    "                json_to_send[\"url\"] = \"https://aristeguinoticias.com/\" + url_data[\"post_fecha\"] + \"/mundo/\" + url_data[\"post_slug\"]\n",
    "            elif url_data[\"categories\"][0] == \"1933\":\n",
    "                json_to_send[\"url\"] = \"https://aristeguinoticias.com/\" + url_data[\"post_fecha\"] + \"/deportes/\" + url_data[\"post_slug\"]\n",
    "            self.all_json_to_send.append(json_to_send)"
   ]
  },
  {
   "cell_type": "code",
   "execution_count": 16,
   "metadata": {},
   "outputs": [],
   "source": [
    "crawler = Crawler()\n",
    "\n",
    "response = crawler.start_request(SEED_CRAWL)"
   ]
  },
  {
   "cell_type": "code",
   "execution_count": 17,
   "metadata": {},
   "outputs": [
    {
     "data": {
      "text/plain": [
       "<Response [200]>"
      ]
     },
     "execution_count": 17,
     "metadata": {},
     "output_type": "execute_result"
    }
   ],
   "source": [
    "response"
   ]
  },
  {
   "cell_type": "code",
   "execution_count": 18,
   "metadata": {},
   "outputs": [
    {
     "name": "stdout",
     "output_type": "stream",
     "text": [
      "[{'id': '1057425', 'post_date_gmt': '2021-01-05T00:05:51', 'post_fecha': '0401', 'post_title': 'Difunden videos de bar tras asesinato de Aristóteles Sandoval', 'post_slug': 'difunden-videos-de-bar-tras-asesinato-de-aristoteles-sandoval', 'excerpt': 'En las imágenes se puede observar a parte del personal del establecimiento limpiando y levantando indicios del lugar tras el asesinato del exgobernador priísta Aristóteles Sandoval Díaz.', 'categories': ['3'], 'thumbnails': {'original': 'https://aristeguinoticias.com/editorial/wp-content/uploads/2021/01/jalisco-fiscalia-fiscal-asesinato-exgobernador-aristoteles-sandoval-restaurante-bar-distrio-personal-limpiando-escena-crimen-5-04012021.png', 'categoria': 'https://aristeguinoticias.com/editorial/wp-content/uploads/2021/01/jalisco-fiscalia-fiscal-asesinato-exgobernador-aristoteles-sandoval-restaurante-bar-distrio-personal-limpiando-escena-crimen-5-04012021-350x200.png', 'medium': 'https://aristeguinoticias.com/editorial/wp-content/uploads/2021/01/jalisco-fiscalia-fiscal-asesinato-exgobernador-aristoteles-sandoval-restaurante-bar-distrio-personal-limpiando-escena-crimen-5-04012021-300x188.png', 'medium_large': 'https://aristeguinoticias.com/editorial/wp-content/uploads/2021/01/jalisco-fiscalia-fiscal-asesinato-exgobernador-aristoteles-sandoval-restaurante-bar-distrio-personal-limpiando-escena-crimen-5-04012021-768x480.png', 'large': 'https://aristeguinoticias.com/editorial/wp-content/uploads/2021/01/jalisco-fiscalia-fiscal-asesinato-exgobernador-aristoteles-sandoval-restaurante-bar-distrio-personal-limpiando-escena-crimen-5-04012021-1024x640.png'}}, {'id': '1057423', 'post_date_gmt': '2021-01-04T23:32:31', 'post_fecha': '0401', 'post_title': 'Instituto Electoral de Morelos responde a pronunciamiento de periodistas sobre protección ante Covid-19', 'post_slug': 'instituto-electoral-de-morelos-responde-a-pronunciamiento-de-periodistas-sobre-proteccion-ante-covid-19', 'categories': ['3'], 'thumbnails': {'original': 'https://aristeguinoticias.com/editorial/wp-content/uploads/2021/01/impepac-responde-periodistas-covid-morelos-reporteras-reporteros-pandemia-04012021.jpg', 'categoria': 'https://aristeguinoticias.com/editorial/wp-content/uploads/2021/01/impepac-responde-periodistas-covid-morelos-reporteras-reporteros-pandemia-04012021-350x200.jpg', 'medium': 'https://aristeguinoticias.com/editorial/wp-content/uploads/2021/01/impepac-responde-periodistas-covid-morelos-reporteras-reporteros-pandemia-04012021-300x188.jpg', 'medium_large': 'https://aristeguinoticias.com/editorial/wp-content/uploads/2021/01/impepac-responde-periodistas-covid-morelos-reporteras-reporteros-pandemia-04012021-768x480.jpg', 'large': 'https://aristeguinoticias.com/editorial/wp-content/uploads/2021/01/impepac-responde-periodistas-covid-morelos-reporteras-reporteros-pandemia-04012021-1024x640.jpg'}}, {'id': '1057415', 'post_date_gmt': '2021-01-04T23:23:26', 'post_fecha': '0401', 'post_title': 'Tatiana Clouthier asume oficialmente la titularidad de la Secretaría de Economía', 'post_slug': 'tatiana-clouthier-asume-oficialmente-la-titularidad-de-la-secretaria-de-economia', 'categories': ['3'], 'thumbnails': {'original': 'https://aristeguinoticias.com/editorial/wp-content/uploads/2021/01/Tatiana-Clouthier-secretaria-Economía-040121-1.jpg', 'categoria': 'https://aristeguinoticias.com/editorial/wp-content/uploads/2021/01/Tatiana-Clouthier-secretaria-Economía-040121-1-350x200.jpg', 'medium': 'https://aristeguinoticias.com/editorial/wp-content/uploads/2021/01/Tatiana-Clouthier-secretaria-Economía-040121-1-300x188.jpg', 'medium_large': 'https://aristeguinoticias.com/editorial/wp-content/uploads/2021/01/Tatiana-Clouthier-secretaria-Economía-040121-1-768x480.jpg', 'large': 'https://aristeguinoticias.com/editorial/wp-content/uploads/2021/01/Tatiana-Clouthier-secretaria-Economía-040121-1-1024x640.jpg'}}, {'id': '1057395', 'post_date_gmt': '2021-01-04T22:19:13', 'post_fecha': '0401', 'post_title': 'México se integra como miembro no permanente del Consejo de Seguridad de la ONU', 'post_slug': 'mexico-se-integra-como-miembro-no-permanente-del-consejo-de-seguridad-de-la-onu', 'categories': ['3'], 'thumbnails': {'original': 'https://aristeguinoticias.com/editorial/wp-content/uploads/2021/01/mexico-onu-consejo-seguridad-04012020.jpg', 'categoria': 'https://aristeguinoticias.com/editorial/wp-content/uploads/2021/01/mexico-onu-consejo-seguridad-04012020-350x200.jpg', 'medium': 'https://aristeguinoticias.com/editorial/wp-content/uploads/2021/01/mexico-onu-consejo-seguridad-04012020-300x188.jpg', 'medium_large': 'https://aristeguinoticias.com/editorial/wp-content/uploads/2021/01/mexico-onu-consejo-seguridad-04012020-768x480.jpg', 'large': 'https://aristeguinoticias.com/editorial/wp-content/uploads/2021/01/mexico-onu-consejo-seguridad-04012020-1024x640.jpg'}}, {'id': '1057380', 'post_date_gmt': '2021-01-04T21:59:14', 'post_fecha': '0401', 'post_title': 'Los pendientes que atenderá la SCJN en este 2021', 'post_slug': 'los-pendientes-que-atendera-la-scjn-en-este-2021', 'categories': ['3'], 'thumbnails': {'original': 'https://aristeguinoticias.com/editorial/wp-content/uploads/2021/01/scjn-arturo-zaldivar-pendientes-2021-04012021-1.jpg', 'categoria': 'https://aristeguinoticias.com/editorial/wp-content/uploads/2021/01/scjn-arturo-zaldivar-pendientes-2021-04012021-1-350x200.jpg', 'medium': 'https://aristeguinoticias.com/editorial/wp-content/uploads/2021/01/scjn-arturo-zaldivar-pendientes-2021-04012021-1-300x188.jpg', 'medium_large': 'https://aristeguinoticias.com/editorial/wp-content/uploads/2021/01/scjn-arturo-zaldivar-pendientes-2021-04012021-1-768x480.jpg', 'large': 'https://aristeguinoticias.com/editorial/wp-content/uploads/2021/01/scjn-arturo-zaldivar-pendientes-2021-04012021-1-1024x640.jpg'}}, {'id': '1057398', 'post_date_gmt': '2021-01-04T21:34:50', 'post_fecha': '0401', 'post_title': 'Cuando Laura Restrepo propuso que México le diera asilo a Assange | Audio', 'post_slug': 'cuando-laura-restrepo-propuso-que-mexico-le-diera-asilo-a-assange-audio', 'categories': ['3'], 'thumbnails': {'original': 'https://aristeguinoticias.com/editorial/wp-content/uploads/2021/01/ASSANGE_LIBRE.jpg', 'categoria': 'https://aristeguinoticias.com/editorial/wp-content/uploads/2021/01/ASSANGE_LIBRE-350x200.jpg', 'medium': 'https://aristeguinoticias.com/editorial/wp-content/uploads/2021/01/ASSANGE_LIBRE-300x188.jpg', 'medium_large': 'https://aristeguinoticias.com/editorial/wp-content/uploads/2021/01/ASSANGE_LIBRE-768x480.jpg', 'large': 'https://aristeguinoticias.com/editorial/wp-content/uploads/2021/01/ASSANGE_LIBRE-1024x640.jpg'}}, {'id': '1057381', 'post_date_gmt': '2021-01-04T21:24:24', 'post_fecha': '0401', 'post_title': 'Busca hermano de Joan Sebastian competir por la alcaldía de Taxco, Guerrero', 'post_slug': 'busca-hermano-de-joan-sebastian-competir-por-la-alcaldia-de-taxco-guerrero', 'categories': ['3'], 'thumbnails': {'original': 'https://aristeguinoticias.com/editorial/wp-content/uploads/2021/01/Juan-Marcos-Figueroa-candidatura-Guerrero-040121.jpg', 'categoria': 'https://aristeguinoticias.com/editorial/wp-content/uploads/2021/01/Juan-Marcos-Figueroa-candidatura-Guerrero-040121-350x200.jpg', 'medium': 'https://aristeguinoticias.com/editorial/wp-content/uploads/2021/01/Juan-Marcos-Figueroa-candidatura-Guerrero-040121-300x188.jpg', 'medium_large': 'https://aristeguinoticias.com/editorial/wp-content/uploads/2021/01/Juan-Marcos-Figueroa-candidatura-Guerrero-040121-768x480.jpg', 'large': 'https://aristeguinoticias.com/editorial/wp-content/uploads/2021/01/Juan-Marcos-Figueroa-candidatura-Guerrero-040121-1024x640.jpg'}}, {'id': '1057374', 'post_date_gmt': '2021-01-04T20:56:10', 'post_fecha': '0401', 'post_title': 'Flexibilizan entrada en vigor de ley para erradicar plásticos en Nayarit', 'post_slug': 'flexibilizan-entrada-en-vigor-de-ley-para-erradicar-plasticos-en-nayarit', 'categories': ['3'], 'thumbnails': {'original': 'https://aristeguinoticias.com/editorial/wp-content/uploads/2021/01/nayarit-ley-plastico-medio-ambiente-04012021-2.jpg', 'categoria': 'https://aristeguinoticias.com/editorial/wp-content/uploads/2021/01/nayarit-ley-plastico-medio-ambiente-04012021-2-350x200.jpg', 'medium': 'https://aristeguinoticias.com/editorial/wp-content/uploads/2021/01/nayarit-ley-plastico-medio-ambiente-04012021-2-300x188.jpg', 'medium_large': 'https://aristeguinoticias.com/editorial/wp-content/uploads/2021/01/nayarit-ley-plastico-medio-ambiente-04012021-2-768x480.jpg', 'large': 'https://aristeguinoticias.com/editorial/wp-content/uploads/2021/01/nayarit-ley-plastico-medio-ambiente-04012021-2-1024x640.jpg'}}, {'id': '1057375', 'post_date_gmt': '2021-01-04T20:38:23', 'post_fecha': '0401', 'post_title': 'INE no retirará spot de Morena sobre vacuna', 'post_slug': 'ine-no-retirara-spot-de-morena-sobre-vacuna', 'categories': ['3'], 'thumbnails': {'original': 'https://aristeguinoticias.com/editorial/wp-content/uploads/2021/01/vacuna-covid-19-doctora-04012021.jpg', 'categoria': 'https://aristeguinoticias.com/editorial/wp-content/uploads/2021/01/vacuna-covid-19-doctora-04012021-350x200.jpg', 'medium': 'https://aristeguinoticias.com/editorial/wp-content/uploads/2021/01/vacuna-covid-19-doctora-04012021-300x188.jpg', 'medium_large': 'https://aristeguinoticias.com/editorial/wp-content/uploads/2021/01/vacuna-covid-19-doctora-04012021-768x480.jpg', 'large': 'https://aristeguinoticias.com/editorial/wp-content/uploads/2021/01/vacuna-covid-19-doctora-04012021-1024x640.jpg'}}, {'id': '1057308', 'post_date_gmt': '2021-01-04T16:37:34', 'post_fecha': '0401', 'post_title': 'Morena hace spot con llegada de la vacuna contra Covid a México | Video', 'post_slug': 'morena-hace-spot-con-llegada-de-la-vacuna-contra-covid-a-mexico-video', 'categories': ['3'], 'thumbnails': {'original': 'https://aristeguinoticias.com/editorial/wp-content/uploads/2021/01/vacuna_llego.jpg', 'categoria': 'https://aristeguinoticias.com/editorial/wp-content/uploads/2021/01/vacuna_llego-350x200.jpg', 'medium': 'https://aristeguinoticias.com/editorial/wp-content/uploads/2021/01/vacuna_llego-300x188.jpg', 'medium_large': 'https://aristeguinoticias.com/editorial/wp-content/uploads/2021/01/vacuna_llego-768x480.jpg', 'large': 'https://aristeguinoticias.com/editorial/wp-content/uploads/2021/01/vacuna_llego-1024x640.jpg'}}]\n"
     ]
    }
   ],
   "source": [
    "crawler.parse(response)"
   ]
  },
  {
   "cell_type": "code",
   "execution_count": 19,
   "metadata": {},
   "outputs": [
    {
     "data": {
      "text/plain": [
       "[{'url': 'https://aristeguinoticias.com/0401/mexico/difunden-videos-de-bar-tras-asesinato-de-aristoteles-sandoval'},\n",
       " {'url': 'https://aristeguinoticias.com/0401/mexico/instituto-electoral-de-morelos-responde-a-pronunciamiento-de-periodistas-sobre-proteccion-ante-covid-19'},\n",
       " {'url': 'https://aristeguinoticias.com/0401/mexico/tatiana-clouthier-asume-oficialmente-la-titularidad-de-la-secretaria-de-economia'},\n",
       " {'url': 'https://aristeguinoticias.com/0401/mexico/mexico-se-integra-como-miembro-no-permanente-del-consejo-de-seguridad-de-la-onu'},\n",
       " {'url': 'https://aristeguinoticias.com/0401/mexico/los-pendientes-que-atendera-la-scjn-en-este-2021'},\n",
       " {'url': 'https://aristeguinoticias.com/0401/mexico/cuando-laura-restrepo-propuso-que-mexico-le-diera-asilo-a-assange-audio'},\n",
       " {'url': 'https://aristeguinoticias.com/0401/mexico/busca-hermano-de-joan-sebastian-competir-por-la-alcaldia-de-taxco-guerrero'},\n",
       " {'url': 'https://aristeguinoticias.com/0401/mexico/flexibilizan-entrada-en-vigor-de-ley-para-erradicar-plasticos-en-nayarit'},\n",
       " {'url': 'https://aristeguinoticias.com/0401/mexico/ine-no-retirara-spot-de-morena-sobre-vacuna'},\n",
       " {'url': 'https://aristeguinoticias.com/0401/mexico/morena-hace-spot-con-llegada-de-la-vacuna-contra-covid-a-mexico-video'}]"
      ]
     },
     "execution_count": 19,
     "metadata": {},
     "output_type": "execute_result"
    }
   ],
   "source": [
    "crawler.all_json_to_send"
   ]
  },
  {
   "cell_type": "code",
   "execution_count": 20,
   "metadata": {},
   "outputs": [],
   "source": [
    "assert(len(crawler.all_json_to_send)>0) "
   ]
  },
  {
   "cell_type": "code",
   "execution_count": 21,
   "metadata": {},
   "outputs": [],
   "source": [
    "assert validators.url(crawler.all_json_to_send[0][\"url\"])"
   ]
  },
  {
   "cell_type": "code",
   "execution_count": 33,
   "metadata": {},
   "outputs": [],
   "source": [
    "SEED_SCRAP = 'https://aristeguinoticias.com/0401/mexico/difunden-videos-de-bar-tras-asesinato-de-aristoteles-sandoval'"
   ]
  },
  {
   "cell_type": "code",
   "execution_count": 63,
   "metadata": {},
   "outputs": [],
   "source": [
    "QUERY_TITLE = \"//div[@class='nota']//h1\"\n",
    "QUERY_CONTENT =  \"//div[@class='contenido']//p\"\n",
    "QUERY_DATE = \"//div[contains(@class, 'pb-2') and contains(@class, 'ng-star-inserted')]\""
   ]
  },
  {
   "cell_type": "code",
   "execution_count": 64,
   "metadata": {},
   "outputs": [],
   "source": [
    "import json\n",
    "import w3lib.html\n",
    "import random\n",
    "import os\n",
    "import datetime\n",
    "import requests\n",
    "import string\n",
    "import calendar\n",
    "import html\n",
    "import locale \n",
    "from requests_html import HTMLSession\n",
    "import re\n",
    "import locale"
   ]
  },
  {
   "cell_type": "code",
   "execution_count": 74,
   "metadata": {},
   "outputs": [],
   "source": [
    "class Scraper:\n",
    "    \n",
    "    USER_AGENT_LIST = [\n",
    "        \"Mozilla/5.0 (Windows NT 6.1; WOW64) AppleWebKit/537.1 (KHTML, like Gecko) Chrome/22.0.1207.1 Safari/537.1\",\n",
    "        \"Mozilla/5.0 (X11; CrOS i686 2268.111.0) AppleWebKit/536.11 (KHTML, like Gecko) Chrome/20.0.1132.57 Safari/536.11\",\n",
    "        \"Mozilla/5.0 (Windows NT 6.1; WOW64) AppleWebKit/536.6 (KHTML, like Gecko) Chrome/20.0.1092.0 Safari/536.6\",\n",
    "        \"Mozilla/5.0 (Windows NT 6.2) AppleWebKit/536.6 (KHTML, like Gecko) Chrome/20.0.1090.0 Safari/536.6\",\n",
    "        \"Mozilla/5.0 (Windows NT 6.2; WOW64) AppleWebKit/537.1 (KHTML, like Gecko) Chrome/19.77.34.5 Safari/537.1\",\n",
    "        \"Mozilla/5.0 (X11; Linux x86_64) AppleWebKit/536.5 (KHTML, like Gecko) Chrome/19.0.1084.9 Safari/536.5\",\n",
    "        \"Mozilla/5.0 (Windows NT 6.0) AppleWebKit/536.5 (KHTML, like Gecko) Chrome/19.0.1084.36 Safari/536.5\",\n",
    "        \"Mozilla/5.0 (Windows NT 6.1; WOW64) AppleWebKit/536.3 (KHTML, like Gecko) Chrome/19.0.1063.0 Safari/536.3\",\n",
    "        \"Mozilla/5.0 (Windows NT 5.1) AppleWebKit/536.3 (KHTML, like Gecko) Chrome/19.0.1063.0 Safari/536.3\",\n",
    "        \"Mozilla/5.0 (Macintosh; Intel Mac OS X 10_8_0) AppleWebKit/536.3 (KHTML, like Gecko) Chrome/19.0.1063.0 Safari/536.3\",\n",
    "        \"Mozilla/5.0 (Windows NT 6.2) AppleWebKit/536.3 (KHTML, like Gecko) Chrome/19.0.1062.0 Safari/536.3\",\n",
    "        \"Mozilla/5.0 (Windows NT 6.1; WOW64) AppleWebKit/536.3 (KHTML, like Gecko) Chrome/19.0.1062.0 Safari/536.3\",\n",
    "        \"Mozilla/5.0 (Windows NT 6.2) AppleWebKit/536.3 (KHTML, like Gecko) Chrome/19.0.1061.1 Safari/536.3\",\n",
    "        \"Mozilla/5.0 (Windows NT 6.1; WOW64) AppleWebKit/536.3 (KHTML, like Gecko) Chrome/19.0.1061.1 Safari/536.3\",\n",
    "        \"Mozilla/5.0 (Windows NT 6.1) AppleWebKit/536.3 (KHTML, like Gecko) Chrome/19.0.1061.1 Safari/536.3\",\n",
    "        \"Mozilla/5.0 (Windows NT 6.2) AppleWebKit/536.3 (KHTML, like Gecko) Chrome/19.0.1061.0 Safari/536.3\",\n",
    "        \"Mozilla/5.0 (X11; Linux x86_64) AppleWebKit/535.24 (KHTML, like Gecko) Chrome/19.0.1055.1 Safari/535.24\",\n",
    "        \"Mozilla/5.0 (Windows NT 6.2; WOW64) AppleWebKit/535.24 (KHTML, like Gecko) Chrome/19.0.1055.1 Safari/535.24\"\n",
    "    ]\n",
    "\n",
    "    query_extract_title = QUERY_TITLE\n",
    "    query_extract_text =  QUERY_CONTENT\n",
    "    query_extract_date = QUERY_DATE\n",
    "\n",
    "    \n",
    "    def _init_(self):\n",
    "        pass\n",
    "\n",
    "  \n",
    "    def start_request(self,url):\n",
    "        headers = {'user-agent':random.choice(self.USER_AGENT_LIST) }\n",
    "        session = HTMLSession()\n",
    "        response = session.get(url,headers=headers)        \n",
    "        return response\n",
    "    \n",
    "\n",
    "    def clean_text(self, html_text):\n",
    "        text_without_tags = w3lib.html.remove_tags(html_text)\n",
    "        text_without_escape_chars = w3lib.html.replace_escape_chars(text_without_tags)\n",
    "        text_without_escape_chars = html.unescape(text_without_escape_chars)\n",
    "        text_without_whitespace = text_without_escape_chars.strip()\n",
    "        return text_without_whitespace\n",
    "\n",
    " \n",
    "    def replace_month_name_to_number(self,date_string):\n",
    "        lower_string = date_string.lower()\n",
    "        for month_id in range(1, 13):\n",
    "            if(lower_string.find(calendar.month_name[month_id].lower())!=-1):\n",
    "                if(month_id>=10):\n",
    "                    return (lower_string.replace(calendar.month_name[month_id].lower(),str(month_id)))\n",
    "                else:\n",
    "                    return (lower_string.replace(calendar.month_name[month_id].lower(),\"0\"+str(month_id)))\n",
    "            if(lower_string.find(calendar.month_abbr[month_id].lower())!=-1):\n",
    "                if(month_id>=10):\n",
    "                    return (lower_string.replace(calendar.month_abbr[month_id].lower(),str(month_id)))\n",
    "                else:\n",
    "                    return (lower_string.replace(calendar.month_abbr[month_id].lower(),\"0\"+str(month_id)))\n",
    "                    \n",
    "\n",
    "    def format_date(self,date):\n",
    "        return(date)\n",
    "    \n",
    "\n",
    "    def parse(self, response):\n",
    "        print (response.html.text)\n",
    "        self.news_text = []\n",
    "        self.message_to_send = []\n",
    "        self.scraped_url = response.url\n",
    "        self.news_title = response.html.xpath(self.query_extract_title)\n",
    "        print (self.news_title)\n",
    "        self.date = response.html.xpath(self.query_extract_date)[0].text\n",
    "        self.date = self.date[6:10] + \"-\" + self.date[3:5] + \"-\" + self.date [0:2]\n",
    "        self.news_title = self.clean_text(self.news_title)\n",
    "        self.date = self.clean_text(self.date)\n",
    "        self.date = self.format_date(self.date)\n",
    "        news_text_extracted_response = response.html.xpath(self.query_extract_text)\n",
    "        for part_of_body in news_text_extracted_response:\n",
    "            stripped_html_tags = w3lib.html.remove_tags(part_of_body.text)\n",
    "            text_cleaned = self.clean_text(stripped_html_tags)\n",
    "            if (len(text_cleaned) != 0):\n",
    "                self.news_text.append(text_cleaned)\n",
    "        self.news_text = self.news_text[0:(len(self.news_text))-3]\n",
    "        indices = [i for i, s in enumerate(self.news_text) if 'Con información de' in s]\n",
    "        if (len(indices)>0):\n",
    "            self.news_text = self.news_text[0:(indices[0] - len(self.news_text))]"
   ]
  },
  {
   "cell_type": "code",
   "execution_count": 75,
   "metadata": {},
   "outputs": [],
   "source": [
    "scraper = Scraper()\n",
    "response =scraper.start_request(SEED_SCRAP)"
   ]
  },
  {
   "cell_type": "code",
   "execution_count": 76,
   "metadata": {},
   "outputs": [
    {
     "name": "stdout",
     "output_type": "stream",
     "text": [
      "window.dataLayer = window.dataLayer || []; function gtag() { dataLayer.push(arguments); } gtag('js', new Date()); gtag('config', 'UA-30387439-1', { 'send_page_view': false });\n",
      "Aristegui Noticias | Desde cualquier medio, periodismo en libertad\n",
      "//load the apstag.js library ! function(a9, a, p, s, t, A, g) { if (a[a9]) return; function q(c, r) { a[a9]._Q.push([c, r]) } a[a9] = { init: function() { q(\"i\", arguments) }, fetchBids: function() { q(\"f\", arguments) }, setDisplayBids: function() {}, targetingKeys: function() { return [] }, _Q: [] }; A = p.createElement(s); A.async = !0; A.src = t; g = p.getElementsByTagName(s)[0]; g.parentNode.insertBefore(A, g) }(\"apstag\", window, document, \"script\", \"//c.amazon-adsystem.com/aax2/apstag.js\"); var _comscore = _comscore || []; _comscore.push({ c1: \"2\", c2: \"16900224\" }); (function() { var s = document.createElement(\"script\"), el = document.getElementsByTagName(\"script\")[0]; s.async = true; //s.src = (document.location.protocol == \"https:\" ? \"https://sb\" : \"http://b\") + \".scorecardresearch.com/beacon.js\"; s.src = \"https://sb.scorecardresearch.com/beacon.js\"; el.parentNode.insertBefore(s, el); })();\n",
      "var _at = {}; window._at.track = window._at.track || function() { (window._at.track.q = window._at.track.q || []).push(arguments); }; _at.domain = 'aristeguinoticias.com/'; _at.owner = 'f1e8009618e5'; _at.idSite = '16223'; _at.attributes = {}; _at.webpushid = 'web.29.aimtell.com'; (function() { var u = '//s3.amazonaws.com/cdn.aimtell.com/trackpush/'; var d = document, g = d.createElement('script'), s = d.getElementsByTagName('script')[0]; g.type = 'text/javascript'; g.async = true; g.defer = true; g.src = u + 'trackpush.min.js'; s.parentNode.insertBefore(g, s); })();\n",
      "[]\n"
     ]
    },
    {
     "ename": "IndexError",
     "evalue": "list index out of range",
     "output_type": "error",
     "traceback": [
      "\u001b[0;31m---------------------------------------------------------------------------\u001b[0m",
      "\u001b[0;31mIndexError\u001b[0m                                Traceback (most recent call last)",
      "\u001b[0;32m<ipython-input-76-2752cfa2bdd6>\u001b[0m in \u001b[0;36m<module>\u001b[0;34m\u001b[0m\n\u001b[0;32m----> 1\u001b[0;31m \u001b[0mscraper\u001b[0m\u001b[0;34m.\u001b[0m\u001b[0mparse\u001b[0m\u001b[0;34m(\u001b[0m\u001b[0mresponse\u001b[0m\u001b[0;34m)\u001b[0m\u001b[0;34m\u001b[0m\u001b[0;34m\u001b[0m\u001b[0m\n\u001b[0m",
      "\u001b[0;32m<ipython-input-74-36c48fd42bd0>\u001b[0m in \u001b[0;36mparse\u001b[0;34m(self, response)\u001b[0m\n\u001b[1;32m     72\u001b[0m         \u001b[0mself\u001b[0m\u001b[0;34m.\u001b[0m\u001b[0mnews_title\u001b[0m \u001b[0;34m=\u001b[0m \u001b[0mresponse\u001b[0m\u001b[0;34m.\u001b[0m\u001b[0mhtml\u001b[0m\u001b[0;34m.\u001b[0m\u001b[0mxpath\u001b[0m\u001b[0;34m(\u001b[0m\u001b[0mself\u001b[0m\u001b[0;34m.\u001b[0m\u001b[0mquery_extract_title\u001b[0m\u001b[0;34m)\u001b[0m\u001b[0;34m\u001b[0m\u001b[0;34m\u001b[0m\u001b[0m\n\u001b[1;32m     73\u001b[0m         \u001b[0mprint\u001b[0m \u001b[0;34m(\u001b[0m\u001b[0mself\u001b[0m\u001b[0;34m.\u001b[0m\u001b[0mnews_title\u001b[0m\u001b[0;34m)\u001b[0m\u001b[0;34m\u001b[0m\u001b[0;34m\u001b[0m\u001b[0m\n\u001b[0;32m---> 74\u001b[0;31m         \u001b[0mself\u001b[0m\u001b[0;34m.\u001b[0m\u001b[0mdate\u001b[0m \u001b[0;34m=\u001b[0m \u001b[0mresponse\u001b[0m\u001b[0;34m.\u001b[0m\u001b[0mhtml\u001b[0m\u001b[0;34m.\u001b[0m\u001b[0mxpath\u001b[0m\u001b[0;34m(\u001b[0m\u001b[0mself\u001b[0m\u001b[0;34m.\u001b[0m\u001b[0mquery_extract_date\u001b[0m\u001b[0;34m)\u001b[0m\u001b[0;34m[\u001b[0m\u001b[0;36m0\u001b[0m\u001b[0;34m]\u001b[0m\u001b[0;34m.\u001b[0m\u001b[0mtext\u001b[0m\u001b[0;34m\u001b[0m\u001b[0;34m\u001b[0m\u001b[0m\n\u001b[0m\u001b[1;32m     75\u001b[0m         \u001b[0mself\u001b[0m\u001b[0;34m.\u001b[0m\u001b[0mdate\u001b[0m \u001b[0;34m=\u001b[0m \u001b[0mself\u001b[0m\u001b[0;34m.\u001b[0m\u001b[0mdate\u001b[0m\u001b[0;34m[\u001b[0m\u001b[0;36m6\u001b[0m\u001b[0;34m:\u001b[0m\u001b[0;36m10\u001b[0m\u001b[0;34m]\u001b[0m \u001b[0;34m+\u001b[0m \u001b[0;34m\"-\"\u001b[0m \u001b[0;34m+\u001b[0m \u001b[0mself\u001b[0m\u001b[0;34m.\u001b[0m\u001b[0mdate\u001b[0m\u001b[0;34m[\u001b[0m\u001b[0;36m3\u001b[0m\u001b[0;34m:\u001b[0m\u001b[0;36m5\u001b[0m\u001b[0;34m]\u001b[0m \u001b[0;34m+\u001b[0m \u001b[0;34m\"-\"\u001b[0m \u001b[0;34m+\u001b[0m \u001b[0mself\u001b[0m\u001b[0;34m.\u001b[0m\u001b[0mdate\u001b[0m \u001b[0;34m[\u001b[0m\u001b[0;36m0\u001b[0m\u001b[0;34m:\u001b[0m\u001b[0;36m2\u001b[0m\u001b[0;34m]\u001b[0m\u001b[0;34m\u001b[0m\u001b[0;34m\u001b[0m\u001b[0m\n\u001b[1;32m     76\u001b[0m         \u001b[0mself\u001b[0m\u001b[0;34m.\u001b[0m\u001b[0mnews_title\u001b[0m \u001b[0;34m=\u001b[0m \u001b[0mself\u001b[0m\u001b[0;34m.\u001b[0m\u001b[0mclean_text\u001b[0m\u001b[0;34m(\u001b[0m\u001b[0mself\u001b[0m\u001b[0;34m.\u001b[0m\u001b[0mnews_title\u001b[0m\u001b[0;34m)\u001b[0m\u001b[0;34m\u001b[0m\u001b[0;34m\u001b[0m\u001b[0m\n",
      "\u001b[0;31mIndexError\u001b[0m: list index out of range"
     ]
    }
   ],
   "source": [
    "scraper.parse(response)"
   ]
  },
  {
   "cell_type": "code",
   "execution_count": 62,
   "metadata": {},
   "outputs": [
    {
     "ename": "AttributeError",
     "evalue": "'Scraper' object has no attribute 'news_title'",
     "output_type": "error",
     "traceback": [
      "\u001b[0;31m---------------------------------------------------------------------------\u001b[0m",
      "\u001b[0;31mAttributeError\u001b[0m                            Traceback (most recent call last)",
      "\u001b[0;32m<ipython-input-62-201f6aabb351>\u001b[0m in \u001b[0;36m<module>\u001b[0;34m\u001b[0m\n\u001b[0;32m----> 1\u001b[0;31m \u001b[0mscraper\u001b[0m\u001b[0;34m.\u001b[0m\u001b[0mnews_title\u001b[0m\u001b[0;34m\u001b[0m\u001b[0;34m\u001b[0m\u001b[0m\n\u001b[0m",
      "\u001b[0;31mAttributeError\u001b[0m: 'Scraper' object has no attribute 'news_title'"
     ]
    }
   ],
   "source": [
    "scraper.news_title"
   ]
  },
  {
   "cell_type": "code",
   "execution_count": null,
   "metadata": {},
   "outputs": [],
   "source": [
    "scraper.date"
   ]
  },
  {
   "cell_type": "code",
   "execution_count": null,
   "metadata": {},
   "outputs": [],
   "source": [
    "scraper.news_text"
   ]
  },
  {
   "cell_type": "code",
   "execution_count": null,
   "metadata": {},
   "outputs": [],
   "source": [
    "def validate(date_text):\n",
    "    try:\n",
    "        datetime.datetime.strptime(date_text, \"%Y-%m-%d\")\n",
    "        return True\n",
    "    except:\n",
    "        print(\"La fecha no tiene el formato correcto, año-mes-dia\")\n",
    "        return False\n",
    "\n",
    "    \n",
    "def test_news_title_has_text(news_title):\n",
    "    regex_string_only_numbers = r'^[0-9\\.\\ ]*$'\n",
    "    news_text_is_only_number_query = re.match(regex_string_only_numbers,news_title)\n",
    "    if(news_text_is_only_number_query is None):\n",
    "        return True\n",
    "    else:\n",
    "        return False\n",
    "\n",
    "    \n",
    "def test_news_text_has_text(news_text):\n",
    "    joined_text =   \" \".join(news_text)\n",
    "    regex_string_only_numbers = r'^[0-9\\.\\ ]*$'\n",
    "    news_text_is_only_number_query = re.match(regex_string_only_numbers,joined_text)\n",
    "    if(news_text_is_only_number_query is None):\n",
    "        return True\n",
    "    else:\n",
    "        return False\n",
    "\n",
    "        \n",
    "def test_news_title_length(news_title):\n",
    "    words_of_news_title = news_title.split(\" \")\n",
    "    len_of_each_news_title_word = list(map(len,words_of_news_title))\n",
    "    avg_of_news_words = sum(len_of_each_news_title_word)/len(len_of_each_news_title_word)\n",
    "    if(avg_of_news_words >= 1.5):\n",
    "        return True\n",
    "    else:\n",
    "        return False\n",
    "\n",
    "    \n",
    "def test_news_text_length(news_text):\n",
    "    len_of_each_news_text_words = []\n",
    "    for paragraph in news_text:\n",
    "        splited_words = paragraph.split(\" \")\n",
    "        len_of_each_news_text_words.extend(list(map(len,splited_words)))\n",
    "    avg_of_news_words = sum(len_of_each_news_text_words)/len(len_of_each_news_text_words)\n",
    "    if(avg_of_news_words >= 1.5):\n",
    "        return True\n",
    "    else:\n",
    "        return False\n"
   ]
  },
  {
   "cell_type": "code",
   "execution_count": null,
   "metadata": {},
   "outputs": [],
   "source": [
    "assert(len(scraper.news_title)>0)\n",
    "assert(len(scraper.news_text)>0)\n",
    "assert(validate(scraper.date))\n",
    "assert(isinstance(scraper.news_title,str))\n",
    "assert(isinstance(scraper.news_text,list)) \n",
    "assert(scraper.news_title.find(\"<script>\")==-1)\n",
    "assert(scraper.news_title.find(\"</script>\")==-1)\n",
    "for text_piece in scraper.news_text:\n",
    "    assert(text_piece.find(\"<script>\")==-1)\n",
    "    assert(text_piece.find(\"</script>\")==-1)\n",
    "assert(test_news_title_has_text(scraper.news_title))\n",
    "assert(test_news_text_has_text(scraper.news_text))\n",
    "assert(test_news_title_length(scraper.news_title))\n",
    "assert(test_news_text_length(scraper.news_text)) "
   ]
  }
 ],
 "metadata": {
  "kernelspec": {
   "display_name": "Python 3",
   "language": "python",
   "name": "python3"
  },
  "language_info": {
   "codemirror_mode": {
    "name": "ipython",
    "version": 3
   },
   "file_extension": ".py",
   "mimetype": "text/x-python",
   "name": "python",
   "nbconvert_exporter": "python",
   "pygments_lexer": "ipython3",
   "version": "3.8.6"
  }
 },
 "nbformat": 4,
 "nbformat_minor": 4
}
