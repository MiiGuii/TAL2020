{
 "cells": [
  {
   "cell_type": "code",
   "execution_count": 27,
   "metadata": {},
   "outputs": [],
   "source": [
    "SEED_CRAWL = 'https://www1.folha.uol.com.br/esporte/#100'"
   ]
  },
  {
   "cell_type": "code",
   "execution_count": 28,
   "metadata": {},
   "outputs": [],
   "source": [
    "QUERY_URL = \"//div[@class='c-headline__media-wrapper']/div/a/@href\""
   ]
  },
  {
   "cell_type": "code",
   "execution_count": 29,
   "metadata": {},
   "outputs": [],
   "source": [
    "import random\n",
    "import requests\n",
    "from requests_html import HTMLSession\n",
    "from requests_html import HTML\n",
    "import os\n",
    "import json\n",
    "import validators"
   ]
  },
  {
   "cell_type": "code",
   "execution_count": 30,
   "metadata": {},
   "outputs": [],
   "source": [
    "class Crawler:\n",
    "    \n",
    "    USER_AGENT_LIST = [\n",
    "        \"Mozilla/5.0 (Windows NT 6.1; WOW64) AppleWebKit/537.1 (KHTML, like Gecko) Chrome/22.0.1207.1 Safari/537.1\",\n",
    "        \"Mozilla/5.0 (X11; CrOS i686 2268.111.0) AppleWebKit/536.11 (KHTML, like Gecko) Chrome/20.0.1132.57 Safari/536.11\",\n",
    "        \"Mozilla/5.0 (Windows NT 6.1; WOW64) AppleWebKit/536.6 (KHTML, like Gecko) Chrome/20.0.1092.0 Safari/536.6\",\n",
    "        \"Mozilla/5.0 (Windows NT 6.2) AppleWebKit/536.6 (KHTML, like Gecko) Chrome/20.0.1090.0 Safari/536.6\",\n",
    "        \"Mozilla/5.0 (Windows NT 6.2; WOW64) AppleWebKit/537.1 (KHTML, like Gecko) Chrome/19.77.34.5 Safari/537.1\",\n",
    "        \"Mozilla/5.0 (X11; Linux x86_64) AppleWebKit/536.5 (KHTML, like Gecko) Chrome/19.0.1084.9 Safari/536.5\",\n",
    "        \"Mozilla/5.0 (Windows NT 6.0) AppleWebKit/536.5 (KHTML, like Gecko) Chrome/19.0.1084.36 Safari/536.5\",\n",
    "        \"Mozilla/5.0 (Windows NT 6.1; WOW64) AppleWebKit/536.3 (KHTML, like Gecko) Chrome/19.0.1063.0 Safari/536.3\",\n",
    "        \"Mozilla/5.0 (Windows NT 5.1) AppleWebKit/536.3 (KHTML, like Gecko) Chrome/19.0.1063.0 Safari/536.3\",\n",
    "        \"Mozilla/5.0 (Macintosh; Intel Mac OS X 10_8_0) AppleWebKit/536.3 (KHTML, like Gecko) Chrome/19.0.1063.0 Safari/536.3\",\n",
    "        \"Mozilla/5.0 (Windows NT 6.2) AppleWebKit/536.3 (KHTML, like Gecko) Chrome/19.0.1062.0 Safari/536.3\",\n",
    "        \"Mozilla/5.0 (Windows NT 6.1; WOW64) AppleWebKit/536.3 (KHTML, like Gecko) Chrome/19.0.1062.0 Safari/536.3\",\n",
    "        \"Mozilla/5.0 (Windows NT 6.2) AppleWebKit/536.3 (KHTML, like Gecko) Chrome/19.0.1061.1 Safari/536.3\",\n",
    "        \"Mozilla/5.0 (Windows NT 6.1; WOW64) AppleWebKit/536.3 (KHTML, like Gecko) Chrome/19.0.1061.1 Safari/536.3\",\n",
    "        \"Mozilla/5.0 (Windows NT 6.1) AppleWebKit/536.3 (KHTML, like Gecko) Chrome/19.0.1061.1 Safari/536.3\",\n",
    "        \"Mozilla/5.0 (Windows NT 6.2) AppleWebKit/536.3 (KHTML, like Gecko) Chrome/19.0.1061.0 Safari/536.3\",\n",
    "        \"Mozilla/5.0 (X11; Linux x86_64) AppleWebKit/535.24 (KHTML, like Gecko) Chrome/19.0.1055.1 Safari/535.24\",\n",
    "        \"Mozilla/5.0 (Windows NT 6.2; WOW64) AppleWebKit/535.24 (KHTML, like Gecko) Chrome/19.0.1055.1 Safari/535.24\"\n",
    "]\n",
    "\n",
    "    \n",
    "    query_extract_all_href=QUERY_URL\n",
    "\n",
    "    \n",
    "    all_json_to_send = []\n",
    "    \n",
    "    def _init_(self):\n",
    "        pass\n",
    "    \n",
    "    def start_request(self,url):\n",
    "        session = HTMLSession()\n",
    "        header = dict()\n",
    "        header['user-agent'] = random.choice(self.USER_AGENT_LIST)\n",
    "        response = session.get(url,headers=header)        \n",
    "        return response\n",
    "    \n",
    "    def parse(self, response):\n",
    "        self.all_json_to_send = []\n",
    "        all_extracted_href = response.html.xpath(self.query_extract_all_href)\n",
    "        for href in all_extracted_href:\n",
    "            json_to_send= dict()\n",
    "            json_to_send[\"url\"]=href\n",
    "            self.all_json_to_send.append(json_to_send)"
   ]
  },
  {
   "cell_type": "code",
   "execution_count": 31,
   "metadata": {},
   "outputs": [],
   "source": [
    "crawler = Crawler()\n",
    "\n",
    "response = crawler.start_request(SEED_CRAWL)"
   ]
  },
  {
   "cell_type": "code",
   "execution_count": 32,
   "metadata": {},
   "outputs": [
    {
     "data": {
      "text/plain": [
       "<Response [200]>"
      ]
     },
     "execution_count": 32,
     "metadata": {},
     "output_type": "execute_result"
    }
   ],
   "source": [
    "response"
   ]
  },
  {
   "cell_type": "code",
   "execution_count": 33,
   "metadata": {},
   "outputs": [],
   "source": [
    "crawler.parse(response)"
   ]
  },
  {
   "cell_type": "code",
   "execution_count": 34,
   "metadata": {
    "scrolled": true
   },
   "outputs": [
    {
     "data": {
      "text/plain": [
       "[{'url': 'https://www1.folha.uol.com.br/esporte/2021/01/cuca-projetou-santos-na-final-da-libertadores-e-esta-a-um-passo-dela.shtml'},\n",
       " {'url': 'https://www1.folha.uol.com.br/esporte/2021/01/braguinha-mecenas-do-esporte-brasileiro-morre-aos-94-anos.shtml'},\n",
       " {'url': 'https://www1.folha.uol.com.br/esporte/2021/01/pressionado-na-libertadores-boca-juniors-quer-dar-resposta-a-rival.shtml'},\n",
       " {'url': 'https://linhadechegada.blogfolha.uol.com.br/?p=634'},\n",
       " {'url': 'https://omundoeumabola.blogfolha.uol.com.br/?p=20822'},\n",
       " {'url': 'https://www1.folha.uol.com.br/colunas/painel/2021/01/justica-suspende-contrato-de-r-100-milhoes-da-prefeitura-de-sao-paulo-para-realizacao-da-f1.shtml'},\n",
       " {'url': 'https://www1.folha.uol.com.br/colunas/edgardalves/2021/01/com-novo-estado-de-emergencia-toquio-luta-para-garantir-olimpiada.shtml'},\n",
       " {'url': 'https://www1.folha.uol.com.br/colunas/renata-mendonca/2021/01/sera-que-ninguem-quer-ganhar-o-campeonato-brasileiro.shtml'},\n",
       " {'url': 'https://www1.folha.uol.com.br/esporte/2021/01/river-ja-conseguiu-virada-epica-na-libertadores-mas-em-quadro-mais-favoravel.shtml'},\n",
       " {'url': 'https://www1.folha.uol.com.br/esporte/2021/01/palmeiras-ja-encarou-calendario-ainda-mais-cheio-por-titulo-da-libertadores.shtml'},\n",
       " {'url': 'https://www1.folha.uol.com.br/esporte/2021/01/coronavirus-cria-problemas-em-serie-para-nba-fora-da-bolha.shtml'},\n",
       " {'url': 'https://www1.folha.uol.com.br/esporte/2021/01/bolsonaro-veta-suspensao-de-dividas-de-clubes-de-futebol-durante-pandemia.shtml'},\n",
       " {'url': 'https://www1.folha.uol.com.br/esporte/2021/01/sensacao-na-f2-drugovich-quer-ajuda-de-ex-pilotos-por-vaga-na-f1.shtml'},\n",
       " {'url': 'https://www1.folha.uol.com.br/colunas/jucakfouri/2021/01/chegou-a-hora-de-separar-adultos-de-criancas-o-tricolor-sabera-enfrenta-la.shtml'},\n",
       " {'url': 'https://www1.folha.uol.com.br/esporte/2021/01/em-media-de-gols-pele-supera-messi-e-ronaldo-mesmo-nos-criterios-da-europa.shtml'},\n",
       " {'url': 'https://www1.folha.uol.com.br/colunas/pvc/2021/01/sao-paulo-vive-seu-momento-mais-dificil.shtml'},\n",
       " {'url': 'https://www1.folha.uol.com.br/esporte/2021/01/contra-reservas-do-santos-sao-paulo-sofre-segunda-derrota-seguida-no-brasileiro.shtml'},\n",
       " {'url': 'https://www1.folha.uol.com.br/colunas/jucakfouri/2021/01/palmeiras-e-santos-coroarao-o-apelido-do-maracana-se-fizerem-a-final-continental.shtml'},\n",
       " {'url': 'https://www1.folha.uol.com.br/esporte/2021/01/mais-luxemburgo-que-felipao-alex-se-lanca-como-tecnico.shtml'},\n",
       " {'url': 'https://www1.folha.uol.com.br/colunas/tostao/2021/01/nao-ha-mais-lugar-para-treinadores-que-so-tem-uma-maneira-de-jogar.shtml'},\n",
       " {'url': 'https://www1.folha.uol.com.br/esporte/2021/01/com-time-reserva-palmeiras-vence-o-sport-pelo-brasileiro.shtml'},\n",
       " {'url': 'https://www1.folha.uol.com.br/esporte/2021/01/contra-o-santos-sao-paulo-tenta-evitar-sequencia-ruim-do-1o-turno.shtml'},\n",
       " {'url': 'https://omundoeumabola.blogfolha.uol.com.br/?p=20808'},\n",
       " {'url': 'https://www1.folha.uol.com.br/esporte/2021/01/a-um-passo-da-final-da-libertadores-palmeiras-tenta-se-concentrar-no-sport.shtml'},\n",
       " {'url': 'https://www1.folha.uol.com.br/colunas/katia-rubio/2021/01/esporte-mostra-que-perder-e-o-melhor-remedio-para-a-onipotencia-do-arrogante.shtml'},\n",
       " {'url': 'https://www1.folha.uol.com.br/esporte/2021/01/gritos-de-diniz-geram-incomodo-e-discussao-sobre-limites-dos-tecnicos.shtml'},\n",
       " {'url': 'https://www1.folha.uol.com.br/esporte/2021/01/veja-seis-perguntas-que-serao-respondidas-pelos-playoffs-da-nfl.shtml'},\n",
       " {'url': 'https://www1.folha.uol.com.br/colunas/pvc/2021/01/ha-um-meio-termo-na-analise-sobre-os-jovens-jogadores-do-brasil.shtml'},\n",
       " {'url': 'https://www1.folha.uol.com.br/esporte/2020/12/chapecoense-se-reconstroi-pela-defesa-em-meio-a-crise-e-novo-luto.shtml'},\n",
       " {'url': 'https://www1.folha.uol.com.br/esporte/2021/01/alex-apolinario-derrubou-gigantes-na-copinha-e-buscava-sonhos-em-portugal.shtml'},\n",
       " {'url': 'https://www1.folha.uol.com.br/esporte/2021/01/massa-tem-barrichello-como-referencia-em-novo-desafio-na-stock.shtml'},\n",
       " {'url': 'https://linhadechegada.blogfolha.uol.com.br/?p=617'},\n",
       " {'url': 'https://www1.folha.uol.com.br/esporte/2021/01/jogador-brasileiro-morre-apos-sofrer-parada-cardiaca-durante-partida-em-portugal.shtml'},\n",
       " {'url': 'http://origemsurf.folha.uol.com.br/?p=10055'},\n",
       " {'url': 'https://www1.folha.uol.com.br/esporte/2021/01/sao-paulo-joga-mal-e-e-leva-quatro-do-red-bull-bragantino-no-brasileiro.shtml'},\n",
       " {'url': 'https://www1.folha.uol.com.br/esporte/2021/01/santos-empata-com-boca-e-decidira-vaga-na-final-da-libertadores-na-vila.shtml'},\n",
       " {'url': 'https://www1.folha.uol.com.br/esporte/2021/01/ex-atletas-consagrados-buscam-postos-de-comando-na-politica-esportiva.shtml'},\n",
       " {'url': 'https://www1.folha.uol.com.br/colunas/jucakfouri/2021/01/abel-ferreira-teve-humildade-de-esperar-river-plate-para-feri-lo-mortalmente.shtml'},\n",
       " {'url': 'https://omundoeumabola.blogfolha.uol.com.br/?p=20793'},\n",
       " {'url': 'https://www1.folha.uol.com.br/esporte/2021/01/palmeiras-goleia-river-na-argentina-e-fica-perto-da-final-da-libertadores.shtml'},\n",
       " {'url': 'https://www1.folha.uol.com.br/colunas/tostao/2021/01/cuca-sabe-se-reinventar-e-nao-sera-surpresa-o-santos-vencer-o-boca.shtml'},\n",
       " {'url': 'https://www1.folha.uol.com.br/esporte/2021/01/sao-paulo-inicia-ano-com-foco-apenas-na-disputa-do-brasileiro.shtml'},\n",
       " {'url': 'https://www1.folha.uol.com.br/esporte/2021/01/prefeitura-de-sao-paulo-pagara-r-100-milhoes-a-empresa-por-f1-em-interlagos.shtml'},\n",
       " {'url': 'https://www1.folha.uol.com.br/esporte/2021/01/kaio-jorge-se-torna-decisivo-no-santos-apos-repaginar-jogo-e-habitos.shtml'},\n",
       " {'url': 'https://www1.folha.uol.com.br/esporte/2021/01/wsl-adia-e-cancela-etapas-do-mundial-de-surfe-por-causa-da-pandemia.shtml'},\n",
       " {'url': 'https://www1.folha.uol.com.br/esporte/2021/01/brandaozinho-integrante-do-palmeiras-campeao-em-1951-morre-aos-90-anos.shtml'},\n",
       " {'url': 'https://www1.folha.uol.com.br/esporte/2021/01/conmebol-divulga-nota-de-apoio-a-cavani-suspenso-pela-federacao-inglesa.shtml'},\n",
       " {'url': 'https://www1.folha.uol.com.br/esporte/2021/01/cobranca-de-riquelme-reacendeu-protagonismo-de-tevez-no-boca-juniors.shtml'},\n",
       " {'url': 'https://linhadechegada.blogfolha.uol.com.br/?p=625'},\n",
       " {'url': 'https://www1.folha.uol.com.br/esporte/2021/01/por-que-brasileiros-estao-vendendo-a-tocha-olimpica.shtml'},\n",
       " {'url': 'https://www1.folha.uol.com.br/esporte/2021/01/vaga-no-mundial-de-clubes-coroa-reconstrucao-da-carreira-de-edina-alves.shtml'},\n",
       " {'url': 'https://www1.folha.uol.com.br/esporte/2021/01/a-nba-voltou-mas-nao-para-os-artistas-que-se-apresentam-nos-intervalos.shtml'},\n",
       " {'url': 'https://omundoeumabola.blogfolha.uol.com.br/?p=20767'},\n",
       " {'url': 'https://www1.folha.uol.com.br/colunas/edgardalves/2021/01/japao-ensaia-novo-plano-de-emergencia-e-virus-tira-sono-do-comando-da-olimpiada.shtml'},\n",
       " {'url': 'https://www1.folha.uol.com.br/esporte/2021/01/palmeiras-carrega-boas-memorias-para-desafiar-river-plate-na-libertadores.shtml'},\n",
       " {'url': 'https://www1.folha.uol.com.br/colunas/renata-mendonca/2021/01/as-brincadeiras-do-futebol-que-poderiam-mudar-em-2021.shtml'},\n",
       " {'url': 'https://linhadechegada.blogfolha.uol.com.br/?p=607'},\n",
       " {'url': 'https://www1.folha.uol.com.br/esporte/2021/01/argentina-tem-mais-semis-de-libertadores-na-decada-e-brasil-mais-titulos.shtml'},\n",
       " {'url': 'https://www1.folha.uol.com.br/esporte/2021/01/ha-40-anos-diego-maradona-marcava-o-seu-unico-gol-contra-o-brasil.shtml'},\n",
       " {'url': 'https://www1.folha.uol.com.br/colunas/jucakfouri/2021/01/sequencia-do-palmeiras-mostra-que-cartolagem-e-preguicosa-predadora-e-burra.shtml'},\n",
       " {'url': 'https://www1.folha.uol.com.br/esporte/2021/01/badalados-tecnicos-portugueses-sofrem-para-obter-diploma-em-seu-pais.shtml'},\n",
       " {'url': 'https://www1.folha.uol.com.br/esporte/2021/01/jogador-brasileiro-sofre-parada-cardiorrespiratoria-durante-partida-em-portugal.shtml'},\n",
       " {'url': 'https://www1.folha.uol.com.br/colunas/pvc/2021/01/palmeiras-e-river-plate-farao-duelo-do-ataque-na-libertadores.shtml'},\n",
       " {'url': 'https://www1.folha.uol.com.br/esporte/2021/01/ana-patricia-e-rebecca-vao-a-toquio-apos-trajetoria-improvavel-no-volei.shtml'},\n",
       " {'url': 'https://www1.folha.uol.com.br/esporte/2021/01/neymar-deixa-marca-dos-pes-na-calcada-da-fama-do-maracana.shtml'},\n",
       " {'url': 'https://www1.folha.uol.com.br/colunas/jucakfouri/2021/01/como-aconteceu-com-a-portuguesa-e-o-america-botafogo-corre-serios-riscos.shtml'},\n",
       " {'url': 'https://www1.folha.uol.com.br/esporte/2021/01/antes-de-pensar-em-medalhas-brasil-inicia-ano-olimpico-preocupado-com-virus.shtml'},\n",
       " {'url': 'https://www1.folha.uol.com.br/esporte/2021/01/sao-paulo-anuncia-volta-de-muricy-ramalho-como-coordenador-de-futebol.shtml'},\n",
       " {'url': 'https://www1.folha.uol.com.br/esporte/2021/01/psg-anuncia-contratacao-do-tecnico-mauricio-pochettino-ex-tottenham.shtml'},\n",
       " {'url': 'https://www1.folha.uol.com.br/colunas/tostao/2021/01/fernando-diniz-tera-de-aprender-que-as-vezes-e-preciso-mudar-conviccoes.shtml'},\n",
       " {'url': 'https://f5.folha.uol.com.br/televisao/2021/01/mauro-cezar-anuncia-saida-da-espn-apos-16-anos-na-emissora.shtml'},\n",
       " {'url': 'https://omundoeumabola.blogfolha.uol.com.br/?p=20757'},\n",
       " {'url': 'https://www1.folha.uol.com.br/esporte/2021/01/centenario-cruzeiro-celebra-passado-ainda-em-crise-e-longe-da-serie-a.shtml'},\n",
       " {'url': 'https://www1.folha.uol.com.br/colunas/katia-rubio/2021/01/figuras-de-idolo-e-heroi-no-esporte-nao-devem-ser-confundidas.shtml'},\n",
       " {'url': 'https://www1.folha.uol.com.br/esporte/2020/12/negocios-do-esporte-contrariam-crise-e-atraem-fundos-de-investimentos.shtml'},\n",
       " {'url': 'https://www1.folha.uol.com.br/colunas/pvc/2020/12/o-que-estraga-o-trabalho-de-tecnicos-no-brasil-somos-todos-nos.shtml'},\n",
       " {'url': 'https://www1.folha.uol.com.br/esporte/2020/12/caio-adia-evento-com-centenas-de-pessoas-depois-de-discussao-sobre-festa-de-neymar.shtml'},\n",
       " {'url': 'https://www1.folha.uol.com.br/esporte/2020/12/calendario-esportivo-de-2021-tem-grandes-eventos-reagendados-veja-datas.shtml'},\n",
       " {'url': 'https://www1.folha.uol.com.br/esporte/2020/12/comentarista-do-dazn-gustavo-roman-morre-aos-45-anos-de-covid-19.shtml'},\n",
       " {'url': 'https://omundoeumabola.blogfolha.uol.com.br/?p=20738'},\n",
       " {'url': 'https://www1.folha.uol.com.br/esporte/2020/12/palmeiras-espanta-zebra-e-pega-o-gremio-na-final-da-copa-do-brasil.shtml'},\n",
       " {'url': 'https://www1.folha.uol.com.br/esporte/2020/12/presidente-da-chapecoense-morre-vitima-da-covid-19.shtml'},\n",
       " {'url': 'https://www1.folha.uol.com.br/esporte/2020/12/sao-paulo-estreia-mascote-em-homenagem-a-leonidas-da-silva.shtml'},\n",
       " {'url': 'https://www1.folha.uol.com.br/colunas/jucakfouri/2020/12/ja-vai-tarde-2020.shtml'},\n",
       " {'url': 'https://www1.folha.uol.com.br/esporte/2020/12/surtos-de-covid-19-adiam-jogos-e-voltam-a-ameacar-futebol-ingles.shtml'},\n",
       " {'url': 'https://www1.folha.uol.com.br/esporte/2020/12/novo-ano-trara-mudancas-profundas-na-estrutura-de-negocios-do-futebol.shtml'},\n",
       " {'url': 'https://www1.folha.uol.com.br/esporte/2020/12/na-pandemia-times-ingleses-se-mobilizam-por-seus-torcedores-vulneraveis.shtml'},\n",
       " {'url': 'https://www1.folha.uol.com.br/esporte/2020/12/philippe-coutinho-sofre-lesao-no-joelho-e-passara-por-cirurgia.shtml'},\n",
       " {'url': 'https://omundoeumabola.blogfolha.uol.com.br/?p=20716'},\n",
       " {'url': 'https://www1.folha.uol.com.br/colunas/tostao/2020/12/o-meio-campo-e-a-alma-e-o-coracao-de-sao-paulo-e-gremio.shtml'},\n",
       " {'url': 'https://www1.folha.uol.com.br/esporte/2020/12/copa-do-brasil-define-finalistas-com-duelos-abertos-e-time-embalados.shtml'},\n",
       " {'url': 'https://www1.folha.uol.com.br/esporte/2020/12/brasileira-bruna-tomaselli-correra-em-categoria-feminina-e-sonha-com-f1.shtml'},\n",
       " {'url': 'https://www1.folha.uol.com.br/colunas/edgardalves/2020/12/alem-da-pandemia-olimpiada-de-toquio-enfrenta-debate-sobre-protestos.shtml'},\n",
       " {'url': 'https://www1.folha.uol.com.br/colunas/renata-mendonca/2020/12/maduro-sao-paulo-com-a-cara-de-diniz-dobra-numero-de-gols-em-2020.shtml'},\n",
       " {'url': 'http://origemsurf.folha.uol.com.br/?p=10050'},\n",
       " {'url': 'https://www1.folha.uol.com.br/esporte/2020/12/baterista-e-poliglota-petr-cech-tambem-e-multifuncional-no-chelsea.shtml'},\n",
       " {'url': 'https://omundoeumabola.blogfolha.uol.com.br/?p=20697'},\n",
       " {'url': 'https://www1.folha.uol.com.br/esporte/2020/12/historiador-quer-provar-que-ponte-preta-teve-1o-jogador-negro-do-brasil.shtml'},\n",
       " {'url': 'https://aovivo.folha.uol.com.br/equilibrioesaude/2020/08/24/5927-acompanhe-todas-as-informacoes-sobre-a-pandemia-de-coronavirus.shtml#post405894'},\n",
       " {'url': 'https://www1.folha.uol.com.br/esporte/2020/12/willian-e-veiga-do-palmeiras-financiam-projeto-para-criancas-em-angola.shtml'}]"
      ]
     },
     "execution_count": 34,
     "metadata": {},
     "output_type": "execute_result"
    }
   ],
   "source": [
    "crawler.all_json_to_send"
   ]
  },
  {
   "cell_type": "code",
   "execution_count": 35,
   "metadata": {},
   "outputs": [],
   "source": [
    "assert(len(crawler.all_json_to_send)>0)"
   ]
  },
  {
   "cell_type": "code",
   "execution_count": 36,
   "metadata": {},
   "outputs": [],
   "source": [
    "assert validators.url(crawler.all_json_to_send[0][\"url\"])"
   ]
  },
  {
   "cell_type": "code",
   "execution_count": 37,
   "metadata": {},
   "outputs": [],
   "source": [
    "SEED_SCRAP = 'https://www1.folha.uol.com.br/colunas/renata-mendonca/2021/01/as-brincadeiras-do-futebol-que-poderiam-mudar-em-2021.shtml'"
   ]
  },
  {
   "cell_type": "code",
   "execution_count": 38,
   "metadata": {},
   "outputs": [],
   "source": [
    "QUERY_TITLE = \"////div[@class='c-content-head__wrap']/h1\"\n",
    "QUERY_CONTENT =  \"//div[@class='c-news__body']//p\"\n",
    "QUERY_DATE = \"//div[@class='c-more-options__header']/time/@datetime\""
   ]
  },
  {
   "cell_type": "code",
   "execution_count": 13,
   "metadata": {},
   "outputs": [],
   "source": [
    "import json\n",
    "import w3lib.html\n",
    "import random\n",
    "import os\n",
    "import datetime\n",
    "import dateutil\n",
    "import requests\n",
    "import string\n",
    "import calendar\n",
    "import html\n",
    "import locale\n",
    "import re\n",
    "from requests_html import HTMLSession"
   ]
  },
  {
   "cell_type": "code",
   "execution_count": 14,
   "metadata": {},
   "outputs": [],
   "source": [
    "class Scraper:\n",
    "    \n",
    "    USER_AGENT_LIST = [\n",
    "        \"Mozilla/5.0 (Windows NT 6.1; WOW64) AppleWebKit/537.1 (KHTML, like Gecko) Chrome/22.0.1207.1 Safari/537.1\",\n",
    "        \"Mozilla/5.0 (X11; CrOS i686 2268.111.0) AppleWebKit/536.11 (KHTML, like Gecko) Chrome/20.0.1132.57 Safari/536.11\",\n",
    "        \"Mozilla/5.0 (Windows NT 6.1; WOW64) AppleWebKit/536.6 (KHTML, like Gecko) Chrome/20.0.1092.0 Safari/536.6\",\n",
    "        \"Mozilla/5.0 (Windows NT 6.2) AppleWebKit/536.6 (KHTML, like Gecko) Chrome/20.0.1090.0 Safari/536.6\",\n",
    "        \"Mozilla/5.0 (Windows NT 6.2; WOW64) AppleWebKit/537.1 (KHTML, like Gecko) Chrome/19.77.34.5 Safari/537.1\",\n",
    "        \"Mozilla/5.0 (X11; Linux x86_64) AppleWebKit/536.5 (KHTML, like Gecko) Chrome/19.0.1084.9 Safari/536.5\",\n",
    "        \"Mozilla/5.0 (Windows NT 6.0) AppleWebKit/536.5 (KHTML, like Gecko) Chrome/19.0.1084.36 Safari/536.5\",\n",
    "        \"Mozilla/5.0 (Windows NT 6.1; WOW64) AppleWebKit/536.3 (KHTML, like Gecko) Chrome/19.0.1063.0 Safari/536.3\",\n",
    "        \"Mozilla/5.0 (Windows NT 5.1) AppleWebKit/536.3 (KHTML, like Gecko) Chrome/19.0.1063.0 Safari/536.3\",\n",
    "        \"Mozilla/5.0 (Macintosh; Intel Mac OS X 10_8_0) AppleWebKit/536.3 (KHTML, like Gecko) Chrome/19.0.1063.0 Safari/536.3\",\n",
    "        \"Mozilla/5.0 (Windows NT 6.2) AppleWebKit/536.3 (KHTML, like Gecko) Chrome/19.0.1062.0 Safari/536.3\",\n",
    "        \"Mozilla/5.0 (Windows NT 6.1; WOW64) AppleWebKit/536.3 (KHTML, like Gecko) Chrome/19.0.1062.0 Safari/536.3\",\n",
    "        \"Mozilla/5.0 (Windows NT 6.2) AppleWebKit/536.3 (KHTML, like Gecko) Chrome/19.0.1061.1 Safari/536.3\",\n",
    "        \"Mozilla/5.0 (Windows NT 6.1; WOW64) AppleWebKit/536.3 (KHTML, like Gecko) Chrome/19.0.1061.1 Safari/536.3\",\n",
    "        \"Mozilla/5.0 (Windows NT 6.1) AppleWebKit/536.3 (KHTML, like Gecko) Chrome/19.0.1061.1 Safari/536.3\",\n",
    "        \"Mozilla/5.0 (Windows NT 6.2) AppleWebKit/536.3 (KHTML, like Gecko) Chrome/19.0.1061.0 Safari/536.3\",\n",
    "        \"Mozilla/5.0 (X11; Linux x86_64) AppleWebKit/535.24 (KHTML, like Gecko) Chrome/19.0.1055.1 Safari/535.24\",\n",
    "        \"Mozilla/5.0 (Windows NT 6.2; WOW64) AppleWebKit/535.24 (KHTML, like Gecko) Chrome/19.0.1055.1 Safari/535.24\"\n",
    "    ]\n",
    "\n",
    "    query_extract_title = QUERY_TITLE\n",
    "    query_extract_text =  QUERY_CONTENT\n",
    "    query_extract_date = QUERY_DATE\n",
    "\n",
    "    def _init_(self):\n",
    "        pass\n",
    "\n",
    "       \n",
    "    def start_request(self,url):\n",
    "        headers = {'user-agent':random.choice(self.USER_AGENT_LIST) }\n",
    "        session = HTMLSession()\n",
    "        response = session.get(url,headers=headers)        \n",
    "        return response\n",
    "    \n",
    "    \n",
    "    def clean_text(self, html_text):\n",
    "        text_without_tags = w3lib.html.remove_tags(html_text)\n",
    "        text_without_escape_chars = w3lib.html.replace_escape_chars(text_without_tags)\n",
    "        text_without_escape_chars = html.unescape(text_without_escape_chars)\n",
    "        text_without_whitespace = text_without_escape_chars.strip()\n",
    "        return text_without_whitespace\n",
    "\n",
    "    \n",
    "    def replace_month_name_to_number(self,date_string):\n",
    "        lower_string = date_string.lower()\n",
    "        for month_id in range(1, 13):\n",
    "            if(lower_string.find(calendar.month_name[month_id].lower())!=-1):\n",
    "                if(month_id>=10):\n",
    "                    return (lower_string.replace(calendar.month_name[month_id].lower(),str(month_id)))\n",
    "                else:\n",
    "                    return (lower_string.replace(calendar.month_name[month_id].lower(),\"0\"+str(month_id)))\n",
    "            if(lower_string.find(calendar.month_abbr[month_id].lower())!=-1):\n",
    "                if(month_id>=10):\n",
    "                    return (lower_string.replace(calendar.month_abbr[month_id].lower(),str(month_id)))\n",
    "                else:\n",
    "                    return (lower_string.replace(calendar.month_abbr[month_id].lower(),\"0\"+str(month_id)))\n",
    "                    \n",
    "    \n",
    "    def format_date(self,date):\n",
    "        date = dateutil.parser.parse(date)\n",
    "        date = datetime.date.strftime(date, \"%Y-%m-%d\")\n",
    "        return(date)\n",
    "    \n",
    "    \n",
    "    def parse(self, response):\n",
    "        self.news_text = []\n",
    "        self.message_to_send = []\n",
    "        self.scraped_url = response.url\n",
    "        self.news_title = response.html.xpath(self.query_extract_title)[0].text\n",
    "        self.date = response.html.xpath(self.query_extract_date)[0]\n",
    "        self.news_title = self.clean_text(self.news_title)\n",
    "        self.date = self.clean_text(self.date)\n",
    "        self.date = self.format_date(self.date)\n",
    "        news_text_extracted_response = response.html.xpath(self.query_extract_text)\n",
    "        for part_of_body in news_text_extracted_response:\n",
    "            stripped_html_tags = w3lib.html.remove_tags(part_of_body.text)\n",
    "            text_cleaned = self.clean_text(stripped_html_tags)\n",
    "            if (len(text_cleaned) != 0):\n",
    "                self.news_text.append(text_cleaned)"
   ]
  },
  {
   "cell_type": "code",
   "execution_count": 15,
   "metadata": {},
   "outputs": [],
   "source": [
    "scraper = Scraper()\n",
    "response =scraper.start_request(SEED_SCRAP)"
   ]
  },
  {
   "cell_type": "code",
   "execution_count": 16,
   "metadata": {},
   "outputs": [],
   "source": [
    "scraper.parse(response)"
   ]
  },
  {
   "cell_type": "code",
   "execution_count": 17,
   "metadata": {},
   "outputs": [
    {
     "data": {
      "text/plain": [
       "\"As 'brincadeiras' do futebol que poderiam mudar em 2021\""
      ]
     },
     "execution_count": 17,
     "metadata": {},
     "output_type": "execute_result"
    }
   ],
   "source": [
    "scraper.news_title"
   ]
  },
  {
   "cell_type": "code",
   "execution_count": 18,
   "metadata": {},
   "outputs": [
    {
     "data": {
      "text/plain": [
       "'2021-01-04'"
      ]
     },
     "execution_count": 18,
     "metadata": {},
     "output_type": "execute_result"
    }
   ],
   "source": [
    "scraper.date"
   ]
  },
  {
   "cell_type": "code",
   "execution_count": 19,
   "metadata": {},
   "outputs": [
    {
     "data": {
      "text/plain": [
       "['Terminei o último dia do ano passado sendo chamada de “feminista”, “lacradora” e “mimizenta”. A primeira palavra existe e, para mim, é o melhor dos elogios –ainda que muitos considerem um xingamento. As outras são as novas versões criadas neste século para atacar mulheres feministas, já que esse termo já não é mais visto de maneira tão pejorativa como no passado.Aconteceu por causa da frase de Renato Portaluppi, técnico do Grêmio, ao explicar a sua teoria da posse de bola após eliminar o São Paulo na Copa do Brasil. A história de um homem que ficou oito horas conversando com uma mulher e viu o amigo passar 15 minutos com ela e levá-la para o motel. “Quem ganhou o jogo?”, o treinador perguntou. A resposta parecia óbvia.',\n",
       " 'Mas poderia ser o contrário, disseram. A mulher conversando com o homem por muitas horas e a amiga dela o levando para o motel. Já repararam que esse tipo de história nunca foi contada? Não é por acaso. Não seria engraçado dessa forma. Homens não são tratados como objetos na sociedade. Essa inversão de papéis não existe.',\n",
       " 'Querem outro exemplo? Há uns três anos, um cara me empurrou sem querer na rua e pediu desculpas para o meu namorado. Fez isso com a maior naturalidade, como se tivesse pisado na pata de um cachorro e precisasse pedir desculpas ao dono. Como ser humano, fui invisível para ele. Essa situação jamais aconteceria de maneira inversa.',\n",
       " '\"Isso é só Renato sendo Renato\", repetiram. Isso é só a forma como aceitamos, rimos e até idolatramos esse tipo de tratamento para as mulheres, sem perceber o quanto ele aprisiona nossas vidas no medo. O estupro é fruto disso. A ideia de que uma mulher é um objeto faz com que o homem pense que pode violar seu corpo a qualquer momento. E o homem, nesse caso, não precisa ser o “monstro”. Ele pode (e na maioria das vezes é) um cara comum, seu marido até.É essa mesma ideia que faz com que um homem se ache no direito de assassinar uma mulher quando ela termina o relacionamento. Como objeto/propriedade dele, ela não pode decidir deixá-lo. O nível máximo desse tipo de relação é o feminicídio, mas existem vários outros antes: ele controla suas roupas, seu comportamento, aonde você vai. Tudo isso é produto dessa noção de poder, de controle, de “ser dono” daquele objeto que, no caso, é a mulher.',\n",
       " '\"Você está exagerando, era uma brincadeira.\" E enquanto a gente ri das brincadeiras machistas, o Brasil é o quinto país com maior número de feminicídios no mundo. A gente releva e é inundado de notícias de mulheres mortas pelos ex na véspera de Natal, no dia de Natal e todos os dias. Passei boa parte dos meus 31 anos entendendo que “a vida era assim mesmo”, e não teve um dia sequer que eu tenha saído na rua sem medo. O “mimimi” de hoje é para que as futuras gerações femininas não precisem andar com ele.O primeiro passo para começar a resolver um problema não é rir dele, mas identificá-lo, reconhecê-lo. Tem muito comportamento considerado “normal” dos homens (como essa anedota do Renato) que foi e é extremamente nocivo para nós, mulheres.Se você não consegue enxergar o machismo, procure ouvir quem sofre as consequências dele diariamente. Esteja disposto a evoluir. Leia “Sejamos Todos Feministas”, da premiada escritora Chimamandw Ngozi Adichie. Na obra, ela fala, entre outras coisas, sobre a primeira vez que foi “xingada” de feminista. Hoje, assim como eu, ela também é lacradora e mimizenta, no vocabulário machista atualizado. Para azar deles, nós estamos nos multiplicando mais do que baratas.']"
      ]
     },
     "execution_count": 19,
     "metadata": {},
     "output_type": "execute_result"
    }
   ],
   "source": [
    "scraper.news_text"
   ]
  },
  {
   "cell_type": "code",
   "execution_count": 20,
   "metadata": {},
   "outputs": [],
   "source": [
    "def validate(date_text):\n",
    "    try:\n",
    "        datetime.datetime.strptime(date_text, \"%Y-%m-%d\")\n",
    "        return True\n",
    "    except:\n",
    "        print(\"La fecha no tiene el formato correcto, año-mes-dia\")\n",
    "        return False\n",
    "\n",
    "    \n",
    "def test_news_title_has_text(news_title):\n",
    "    regex_string_only_numbers = r'^[0-9\\.\\ ]*$'\n",
    "    news_text_is_only_number_query = re.match(regex_string_only_numbers,news_title)\n",
    "    if(news_text_is_only_number_query is None):\n",
    "        return True\n",
    "    else:\n",
    "        return False\n",
    "\n",
    "    \n",
    "def test_news_text_has_text(news_text):\n",
    "    joined_text =   \" \".join(news_text)\n",
    "    regex_string_only_numbers = r'^[0-9\\.\\ ]*$'\n",
    "    news_text_is_only_number_query = re.match(regex_string_only_numbers,joined_text)\n",
    "    if(news_text_is_only_number_query is None):\n",
    "        return True\n",
    "    else:\n",
    "        return False\n",
    "\n",
    "        \n",
    "def test_news_title_length(news_title):\n",
    "    words_of_news_title = news_title.split(\" \")\n",
    "    len_of_each_news_title_word = list(map(len,words_of_news_title))\n",
    "    avg_of_news_words = sum(len_of_each_news_title_word)/len(len_of_each_news_title_word)\n",
    "    if(avg_of_news_words >= 1.5):\n",
    "        return True\n",
    "    else:\n",
    "        return False\n",
    "\n",
    "    \n",
    "def test_news_text_length(news_text):\n",
    "    len_of_each_news_text_words = []\n",
    "    for paragraph in news_text:\n",
    "        splited_words = paragraph.split(\" \")\n",
    "        len_of_each_news_text_words.extend(list(map(len,splited_words)))\n",
    "    avg_of_news_words = sum(len_of_each_news_text_words)/len(len_of_each_news_text_words)\n",
    "    if(avg_of_news_words >= 1.5):\n",
    "        return True\n",
    "    else:\n",
    "        return False"
   ]
  },
  {
   "cell_type": "code",
   "execution_count": 21,
   "metadata": {},
   "outputs": [],
   "source": [
    "assert(len(scraper.news_title)>0)\n",
    "assert(len(scraper.news_text)>0)\n",
    "assert(validate(scraper.date))\n",
    "assert(isinstance(scraper.news_title,str))\n",
    "assert(isinstance(scraper.news_text,list)) \n",
    "assert(scraper.news_title.find(\"<script>\")==-1)\n",
    "assert(scraper.news_title.find(\"</script>\")==-1)\n",
    "for text_piece in scraper.news_text:\n",
    "    assert(text_piece.find(\"<script>\")==-1)\n",
    "    assert(text_piece.find(\"</script>\")==-1)\n",
    "assert(test_news_title_has_text(scraper.news_title))\n",
    "assert(test_news_text_has_text(scraper.news_text))\n",
    "assert(test_news_title_length(scraper.news_title))\n",
    "assert(test_news_text_length(scraper.news_text)) "
   ]
  }
 ],
 "metadata": {
  "kernelspec": {
   "display_name": "Python 3",
   "language": "python",
   "name": "python3"
  },
  "language_info": {
   "codemirror_mode": {
    "name": "ipython",
    "version": 3
   },
   "file_extension": ".py",
   "mimetype": "text/x-python",
   "name": "python",
   "nbconvert_exporter": "python",
   "pygments_lexer": "ipython3",
   "version": "3.9.1"
  }
 },
 "nbformat": 4,
 "nbformat_minor": 4
}
