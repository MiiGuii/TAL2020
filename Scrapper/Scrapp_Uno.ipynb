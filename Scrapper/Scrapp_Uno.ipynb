{
 "cells": [
  {
   "cell_type": "code",
   "execution_count": 1,
   "metadata": {},
   "outputs": [],
   "source": [
    "SEED_CRAWL = 'https://json.unotv.com/search?q=&res_start=0'"
   ]
  },
  {
   "cell_type": "code",
   "execution_count": 2,
   "metadata": {},
   "outputs": [],
   "source": [
    "import random\n",
    "import requests\n",
    "from requests_html import HTMLSession\n",
    "from requests_html import HTML\n",
    "import os\n",
    "import json\n",
    "import validators"
   ]
  },
  {
   "cell_type": "code",
   "execution_count": 3,
   "metadata": {},
   "outputs": [],
   "source": [
    "class Crawler:\n",
    "    \n",
    "    USER_AGENT_LIST = [\n",
    "        \"Mozilla/5.0 (Windows NT 6.1; WOW64) AppleWebKit/537.1 (KHTML, like Gecko) Chrome/22.0.1207.1 Safari/537.1\",\n",
    "        \"Mozilla/5.0 (X11; CrOS i686 2268.111.0) AppleWebKit/536.11 (KHTML, like Gecko) Chrome/20.0.1132.57 Safari/536.11\",\n",
    "        \"Mozilla/5.0 (Windows NT 6.1; WOW64) AppleWebKit/536.6 (KHTML, like Gecko) Chrome/20.0.1092.0 Safari/536.6\",\n",
    "        \"Mozilla/5.0 (Windows NT 6.2) AppleWebKit/536.6 (KHTML, like Gecko) Chrome/20.0.1090.0 Safari/536.6\",\n",
    "        \"Mozilla/5.0 (Windows NT 6.2; WOW64) AppleWebKit/537.1 (KHTML, like Gecko) Chrome/19.77.34.5 Safari/537.1\",\n",
    "        \"Mozilla/5.0 (X11; Linux x86_64) AppleWebKit/536.5 (KHTML, like Gecko) Chrome/19.0.1084.9 Safari/536.5\",\n",
    "        \"Mozilla/5.0 (Windows NT 6.0) AppleWebKit/536.5 (KHTML, like Gecko) Chrome/19.0.1084.36 Safari/536.5\",\n",
    "        \"Mozilla/5.0 (Windows NT 6.1; WOW64) AppleWebKit/536.3 (KHTML, like Gecko) Chrome/19.0.1063.0 Safari/536.3\",\n",
    "        \"Mozilla/5.0 (Windows NT 5.1) AppleWebKit/536.3 (KHTML, like Gecko) Chrome/19.0.1063.0 Safari/536.3\",\n",
    "        \"Mozilla/5.0 (Macintosh; Intel Mac OS X 10_8_0) AppleWebKit/536.3 (KHTML, like Gecko) Chrome/19.0.1063.0 Safari/536.3\",\n",
    "        \"Mozilla/5.0 (Windows NT 6.2) AppleWebKit/536.3 (KHTML, like Gecko) Chrome/19.0.1062.0 Safari/536.3\",\n",
    "        \"Mozilla/5.0 (Windows NT 6.1; WOW64) AppleWebKit/536.3 (KHTML, like Gecko) Chrome/19.0.1062.0 Safari/536.3\",\n",
    "        \"Mozilla/5.0 (Windows NT 6.2) AppleWebKit/536.3 (KHTML, like Gecko) Chrome/19.0.1061.1 Safari/536.3\",\n",
    "        \"Mozilla/5.0 (Windows NT 6.1; WOW64) AppleWebKit/536.3 (KHTML, like Gecko) Chrome/19.0.1061.1 Safari/536.3\",\n",
    "        \"Mozilla/5.0 (Windows NT 6.1) AppleWebKit/536.3 (KHTML, like Gecko) Chrome/19.0.1061.1 Safari/536.3\",\n",
    "        \"Mozilla/5.0 (Windows NT 6.2) AppleWebKit/536.3 (KHTML, like Gecko) Chrome/19.0.1061.0 Safari/536.3\",\n",
    "        \"Mozilla/5.0 (X11; Linux x86_64) AppleWebKit/535.24 (KHTML, like Gecko) Chrome/19.0.1055.1 Safari/535.24\",\n",
    "        \"Mozilla/5.0 (Windows NT 6.2; WOW64) AppleWebKit/535.24 (KHTML, like Gecko) Chrome/19.0.1055.1 Safari/535.24\"\n",
    "]\n",
    "\n",
    "\n",
    "\n",
    "    all_json_to_send = []\n",
    "    \n",
    "    \n",
    "    def _init_(self):\n",
    "        pass\n",
    "    \n",
    "    \n",
    "    def start_request(self,url):\n",
    "        session = HTMLSession()\n",
    "        header = dict()\n",
    "        header['user-agent'] = random.choice(self.USER_AGENT_LIST)\n",
    "        response = session.get(url,headers=header)        \n",
    "        return response\n",
    "    \n",
    "    \n",
    "    def parse(self, response):\n",
    "        self.all_json_to_send = []\n",
    "        json_data = json.loads(response.html.html)[\"listaResultados\"]\n",
    "        for url_data in json_data:\n",
    "            json_to_send = {}\n",
    "            json_to_send[\"url\"] = url_data[\"url_nota\"]\n",
    "            self.all_json_to_send.append(json_to_send)"
   ]
  },
  {
   "cell_type": "code",
   "execution_count": 4,
   "metadata": {},
   "outputs": [],
   "source": [
    "crawler = Crawler()\n",
    "\n",
    "response = crawler.start_request(SEED_CRAWL)"
   ]
  },
  {
   "cell_type": "code",
   "execution_count": 5,
   "metadata": {},
   "outputs": [
    {
     "data": {
      "text/plain": [
       "'{\"mensaje\":\"\",\"codigo\":\"200\",\"causa_error\":\"\",\"next\":\"https://json.unotv.com/search?q=&res_start=10\",\"listaResultados\":[{\"friendly_url\":\"estados-unidos-exigira-prueba-covid-19-negativa-para-ingresar-en-avion\",\"url_nota\":\"https://www.unotv.com/internacional/estados-unidos-exigira-prueba-covid-19-negativa-para-ingresar-en-avion/\",\"id_contenido\":null,\"titulo\":\"¿Vas a EU en avión? Deberás presentar prueba COVID-19 negativa\",\"descripcion\":\"<p>Los Centros para el Control y la Prevención de Enfermedades (CDC) de Estados Unidos informaron sobre la prueba COVID-19 negativa.</p>\\\\n\",\"fecha_publicacion\":\"2021-01-12T18:15:39\",\"id_tipo_nota\":\"post\",\"imagen_principal\":\"/uploads/2021/01/new-project-172439.jpg\",\"imagen_miniatura\":null,\"id_categoria\":\"Internacional\",\"id_tag\":null},{\"friendly_url\":\"palmeiras-vs-river-plate-en-vivo-streaming-online-de-copa-libertadores-partido-de-semifinales-en-directo\",\"url_nota\":\"https://www.unotv.com/deportes/palmeiras-vs-river-plate-en-vivo-streaming-online-de-copa-libertadores-partido-de-semifinales-en-directo/\",\"id_contenido\":null,\"titulo\":\"Palmeiras vs River Plate en vivo: streaming online de Copa Libertadores; partido de semifinales en directo\",\"descripcion\":\"<p>Se define al primer finalista del torneo más antiguo de clubes y por la gloria de América. Palmeiras, que tiene una ventaja de tres goles como visitante, recibe en el Allianz Parque a River Plate por el boleto a la final continental. Ver el juego aquí&#8230;</p>\\\\n\",\"fecha_publicacion\":\"2021-01-12T18:15:32\",\"id_tipo_nota\":\"post\",\"imagen_principal\":\"/uploads/2021/01/befunky-collage-5-181455.jpg\",\"imagen_miniatura\":null,\"id_categoria\":\"Deportes\",\"id_tag\":null},{\"friendly_url\":\"smartphones-con-pantallas-enrollables-asi-son-los-celulares-mas-esperados-para-2021\",\"url_nota\":\"https://www.unotv.com/ciencia-y-tecnologia/smartphones-con-pantallas-enrollables-asi-son-los-celulares-mas-esperados-para-2021/\",\"id_contenido\":null,\"titulo\":\"Smartphones con pantallas enrollables, así son los celulares más esperados para 2021\",\"descripcion\":\"<p>Durante la Consumer Electronics Show (CES) 2021, las empresas LG y TCL presentaron sus modelos de smartphones con pantalla enrollable que estarán este año.</p>\\\\n\",\"fecha_publicacion\":\"2021-01-12T18:13:09\",\"id_tipo_nota\":\"post\",\"imagen_principal\":\"/uploads/2021/01/still12-tlc-youtube-05-180320.jpg\",\"imagen_miniatura\":null,\"id_categoria\":\"Ciencia y Tecnología\",\"id_tag\":null},{\"friendly_url\":\"metro-cdmx-linea-1-2-y-3-reanudaran-servicio-a-finales-de-enero\",\"url_nota\":\"https://www.unotv.com/estados/ciudad-de-mexico/metro-cdmx-linea-1-2-y-3-reanudaran-servicio-a-finales-de-enero/\",\"id_contenido\":null,\"titulo\":\"Con 10 trenes y a finales de enero comenzarán a operar líneas 1, 2 y 3 del Metro\",\"descripcion\":\"<p>El servicio en las líneas 1,2 y 3 del Sistema de Transporte Colectivo Metro de la CDMX se reanudará hacia finales de enero</p>\\\\n\",\"fecha_publicacion\":\"2021-01-12T18:08:26\",\"id_tipo_nota\":\"post\",\"imagen_principal\":\"/uploads/2021/01/metro-enero-170053.jpg\",\"imagen_miniatura\":null,\"id_categoria\":\"Ciudad de México\",\"id_tag\":null},{\"friendly_url\":\"donald-trump-agradece-a-amlo-su-apoyo-en-el-tema-de-migracion\",\"url_nota\":\"https://www.unotv.com/internacional/donald-trump-agradece-a-amlo-su-apoyo-en-el-tema-de-migracion/\",\"id_contenido\":null,\"titulo\":\"Trump agradece a AMLO su apoyo en el tema de migración\",\"descripcion\":\"<p>A días de dejar el cargo Donald Trump agradeció la amistad de AMLO y el apoyo del mandatario mexicano en temas de migración </p>\\\\n\",\"fecha_publicacion\":\"2021-01-12T17:29:08\",\"id_tipo_nota\":\"post\",\"imagen_principal\":\"/uploads/2021/01/afp-donald-trump-2-171211.jpg\",\"imagen_miniatura\":null,\"id_categoria\":\"Internacional\",\"id_tag\":null},{\"friendly_url\":\"telegram-supera-los-500-millones-de-suscriptores-asi-funciona-la-app\",\"url_nota\":\"https://www.unotv.com/ciencia-y-tecnologia/telegram-supera-los-500-millones-de-suscriptores-asi-funciona-la-app/\",\"id_contenido\":null,\"titulo\":\"Telegram supera los 500 millones de suscriptores, así funciona la app\",\"descripcion\":\"<p>En la primera semana de enero, Telegram superó los 500 millones de usuarios activos mensuales y estas son algunas caractrísitcas de la app. </p>\\\\n\",\"fecha_publicacion\":\"2021-01-12T17:22:47\",\"id_tipo_nota\":\"post\",\"imagen_principal\":\"/uploads/2021/01/telegram-172057.jpg\",\"imagen_miniatura\":null,\"id_categoria\":\"Ciencia y Tecnología\",\"id_tag\":null},{\"friendly_url\":\"bruce-willis-fue-sacado-de-una-tienda-por-no-usar-cubrebocas\",\"url_nota\":\"https://www.unotv.com/entretenimiento/bruce-willis-fue-sacado-de-una-tienda-por-no-usar-cubrebocas/\",\"id_contenido\":null,\"titulo\":\"Bruce Willis fue sacado de una tienda por no usar cubrebocas\",\"descripcion\":\"<p>Bruce Willis fue echado de una tienda en Los Ángeles, California por no usar cubrebocas al ingresar al establecimiento y fue captado por los paparazzi.</p>\\\\n\",\"fecha_publicacion\":\"2021-01-12T17:08:04\",\"id_tipo_nota\":\"post\",\"imagen_principal\":\"/uploads/2021/01/bruce-164426.jpg\",\"imagen_miniatura\":null,\"id_categoria\":\"Entretenimiento\",\"id_tag\":null},{\"friendly_url\":\"chespirito-las-razones-del-distanciamiento-entre-carlos-villagran-quico-y-roberto-gomez-bolanos-chavo\",\"url_nota\":\"https://www.unotv.com/entretenimiento/chespirito-las-razones-del-distanciamiento-entre-carlos-villagran-quico-y-roberto-gomez-bolanos-chavo/\",\"id_contenido\":null,\"titulo\":\"¿No se simpatizaban? La razón del distanciamiento entre &#8220;Quico&#8221; y el &#8220;Chavo del 8&#8221;\",\"descripcion\":\"<p>El programa “El chavo del ocho” unió a Carlos Villagrán y Roberto Gómez Bolaños, “Chespirito”, y pese a que conocieron el éxito con los personajes del “Chavo” y “Quico”, ambos comediantes protagonizaron una de las peleas más importantes del mundo del espectáculo que terminó con el distanciamiento de Villagrán y Gómez, y la salida del [&hellip;]</p>\\\\n\",\"fecha_publicacion\":\"2021-01-12T16:57:13\",\"id_tipo_nota\":\"post\",\"imagen_principal\":\"/uploads/2021/01/cuartoscuro-villagran-gomez-bolanos-163017.jpg\",\"imagen_miniatura\":null,\"id_categoria\":\"Entretenimiento\",\"id_tag\":null},{\"friendly_url\":\"derek-chauvin-primer-policia-que-sera-juzgado-por-el-asesinato-de-george-floyd\",\"url_nota\":\"https://www.unotv.com/internacional/derek-chauvin-primer-policia-que-sera-juzgado-por-el-asesinato-de-george-floyd/\",\"id_contenido\":null,\"titulo\":\"Él es el primer policía que será juzgado por el asesinato de George Floyd\",\"descripcion\":\"<p>Derek Chauvin es el único de los cuatro policías que enfrentará cargos por su participación en el asesinato de George Floyd.</p>\\\\n\",\"fecha_publicacion\":\"2021-01-12T16:43:37\",\"id_tipo_nota\":\"post\",\"imagen_principal\":\"/uploads/2021/01/new-project-162621.jpg\",\"imagen_miniatura\":null,\"id_categoria\":\"Internacional\",\"id_tag\":null},{\"friendly_url\":\"huachicolero-asi-nacio-la-premiada-cinta-mexicana-que-llega-a-streaming\",\"url_nota\":\"https://www.unotv.com/entretenimiento/huachicolero-asi-nacio-la-premiada-cinta-mexicana-que-llega-a-streaming/\",\"id_contenido\":null,\"titulo\":\"“Huachicolero”: así nació la premiada cinta mexicana que llega a streaming\",\"descripcion\":\"<p>La cinta “Huachicolero” fue galardonada en los festivales de Tribeca y Sitges, además de conseguir cuatro nominaciones a los premios Ariel y ahora llega a streaming.</p>\\\\n\",\"fecha_publicacion\":\"2021-01-12T16:27:52\",\"id_tipo_nota\":\"post\",\"imagen_principal\":\"/uploads/2021/01/huachicolero-161735.jpg\",\"imagen_miniatura\":null,\"id_categoria\":\"Entretenimiento\",\"id_tag\":null},{\"friendly_url\":\"joan-sebastian-hija-del-poeta-del-pueblo-acusa-a-sus-hermanos-de-no-darle-su-herencia\",\"url_nota\":\"https://www.unotv.com/entretenimiento/joan-sebastian-hija-del-poeta-del-pueblo-acusa-a-sus-hermanos-de-no-darle-su-herencia/\",\"id_contenido\":null,\"titulo\":\"¿Disputa familiar? Hija de Joan Sebastian acusa a sus hermanos de no darle su herencia\",\"descripcion\":\"<p>A casi seis años del fallecimiento de Joan Sebastian, su hija, Juliana Figueroa, acusa a sus hermanos de no darle la parte de herencia que le corresponde </p>\\\\n\",\"fecha_publicacion\":\"2021-01-12T16:06:01\",\"id_tipo_nota\":\"post\",\"imagen_principal\":\"/uploads/2021/01/cuartoscuro-joan-sebastian-145137.jpg\",\"imagen_miniatura\":null,\"id_categoria\":\"Entretenimiento\",\"id_tag\":null},{\"friendly_url\":\"jalisco-mantiene-en-duda-el-regreso-a-clases-presenciales\",\"url_nota\":\"https://www.unotv.com/estados/jalisco/jalisco-mantiene-en-duda-el-regreso-a-clases-presenciales/\",\"id_contenido\":null,\"titulo\":\"Jalisco mantiene en duda el regreso a clases presenciales\",\"descripcion\":\"<p>El pasado mes de diciembre el gobernador de Jalisco, Enrique Alfaro, junto aun panel de autoridades sanitarias y escolares presentaron el proyecto para el retorno a clases escolares de manera presencial, el cual se tenía previsto para el día 25 de enero y días antes, el 11 de enero, se haría una evaluación de si se estaba en condiciones para esta fecha. </p>\\\\n\",\"fecha_publicacion\":\"2021-01-12T16:00:27\",\"id_tipo_nota\":\"post\",\"imagen_principal\":\"/uploads/2021/01/clases.jpg\",\"imagen_miniatura\":null,\"id_categoria\":\"Jalisco\",\"id_tag\":null},{\"friendly_url\":\"gorilas-con-covid-19-se-suman-al-saldo-de-la-pandemia\",\"url_nota\":\"https://www.unotv.com/opinion/martha-anaya/gorilas-con-covid-19-se-suman-al-saldo-de-la-pandemia/\",\"id_contenido\":null,\"titulo\":\"Gorilas con COVID-19 se suman al saldo de la pandemia\",\"descripcion\":\"<p>Martha Anaya reflexiona sobre los alcances de la pandemia de COVID-19 en el reino animal, como en el caso de los gorilas del Zoológico de San Diego.</p>\\\\n\",\"fecha_publicacion\":\"2021-01-12T15:56:49\",\"id_tipo_nota\":\"post\",\"imagen_principal\":\"/uploads/2021/01/still-m-155404.jpg\",\"imagen_miniatura\":null,\"id_categoria\":\"Martha Anaya\",\"id_tag\":null},{\"friendly_url\":\"conferencias-mananeras-amlo-ine-aclara-si-deben-suspender-por-elecciones\",\"url_nota\":\"https://www.unotv.com/nacional/conferencias-mananeras-amlo-ine-aclara-si-deben-suspender-por-elecciones/\",\"id_contenido\":null,\"titulo\":\"¿Suspenderán las &#8220;mañaneras&#8221; de AMLO? INE aclara el tema\",\"descripcion\":\"<p>Lorenzo Córdova Vianello, consejero presidente del INE, dijo que sí se deben suspender las conferencias de AMLO durante el proceso electoral 2021</p>\\\\n\",\"fecha_publicacion\":\"2021-01-12T15:54:18\",\"id_tipo_nota\":\"post\",\"imagen_principal\":\"/uploads/2021/01/lorenzo-cordova-mananeras-amlo-145018.jpg\",\"imagen_miniatura\":null,\"id_categoria\":\"Nacional\",\"id_tag\":null},{\"friendly_url\":\"donald-trump-hablo-en-texas-sobre-covid-19-migracion-y-juicio-politico\",\"url_nota\":\"https://www.unotv.com/internacional/donald-trump-hablo-en-texas-sobre-covid-19-migracion-y-juicio-politico/\",\"id_contenido\":null,\"titulo\":\"COVID-19 y migración ilegal: ve temas abordados por Trump al visitar muro\",\"descripcion\":\"<p>Donald Trump, presidente de Estados Unidos, visitó Texas como el inicio de una gira para destacar las obras de su legado: el muro fronterizo.</p>\\\\n\",\"fecha_publicacion\":\"2021-01-12T15:51:09\",\"id_tipo_nota\":\"post\",\"imagen_principal\":\"/uploads/2021/01/new-project-1-153440.jpg\",\"imagen_miniatura\":null,\"id_categoria\":\"Internacional\",\"id_tag\":null}],\"res_start\":\"95973\"}'"
      ]
     },
     "execution_count": 5,
     "metadata": {},
     "output_type": "execute_result"
    }
   ],
   "source": [
    "response.html.html"
   ]
  },
  {
   "cell_type": "code",
   "execution_count": 6,
   "metadata": {},
   "outputs": [],
   "source": [
    "crawler.parse(response)"
   ]
  },
  {
   "cell_type": "code",
   "execution_count": 7,
   "metadata": {},
   "outputs": [
    {
     "data": {
      "text/plain": [
       "[{'url': 'https://www.unotv.com/internacional/estados-unidos-exigira-prueba-covid-19-negativa-para-ingresar-en-avion/'},\n",
       " {'url': 'https://www.unotv.com/deportes/palmeiras-vs-river-plate-en-vivo-streaming-online-de-copa-libertadores-partido-de-semifinales-en-directo/'},\n",
       " {'url': 'https://www.unotv.com/ciencia-y-tecnologia/smartphones-con-pantallas-enrollables-asi-son-los-celulares-mas-esperados-para-2021/'},\n",
       " {'url': 'https://www.unotv.com/estados/ciudad-de-mexico/metro-cdmx-linea-1-2-y-3-reanudaran-servicio-a-finales-de-enero/'},\n",
       " {'url': 'https://www.unotv.com/internacional/donald-trump-agradece-a-amlo-su-apoyo-en-el-tema-de-migracion/'},\n",
       " {'url': 'https://www.unotv.com/ciencia-y-tecnologia/telegram-supera-los-500-millones-de-suscriptores-asi-funciona-la-app/'},\n",
       " {'url': 'https://www.unotv.com/entretenimiento/bruce-willis-fue-sacado-de-una-tienda-por-no-usar-cubrebocas/'},\n",
       " {'url': 'https://www.unotv.com/entretenimiento/chespirito-las-razones-del-distanciamiento-entre-carlos-villagran-quico-y-roberto-gomez-bolanos-chavo/'},\n",
       " {'url': 'https://www.unotv.com/internacional/derek-chauvin-primer-policia-que-sera-juzgado-por-el-asesinato-de-george-floyd/'},\n",
       " {'url': 'https://www.unotv.com/entretenimiento/huachicolero-asi-nacio-la-premiada-cinta-mexicana-que-llega-a-streaming/'},\n",
       " {'url': 'https://www.unotv.com/entretenimiento/joan-sebastian-hija-del-poeta-del-pueblo-acusa-a-sus-hermanos-de-no-darle-su-herencia/'},\n",
       " {'url': 'https://www.unotv.com/estados/jalisco/jalisco-mantiene-en-duda-el-regreso-a-clases-presenciales/'},\n",
       " {'url': 'https://www.unotv.com/opinion/martha-anaya/gorilas-con-covid-19-se-suman-al-saldo-de-la-pandemia/'},\n",
       " {'url': 'https://www.unotv.com/nacional/conferencias-mananeras-amlo-ine-aclara-si-deben-suspender-por-elecciones/'},\n",
       " {'url': 'https://www.unotv.com/internacional/donald-trump-hablo-en-texas-sobre-covid-19-migracion-y-juicio-politico/'}]"
      ]
     },
     "execution_count": 7,
     "metadata": {},
     "output_type": "execute_result"
    }
   ],
   "source": [
    "crawler.all_json_to_send"
   ]
  },
  {
   "cell_type": "code",
   "execution_count": 8,
   "metadata": {},
   "outputs": [],
   "source": [
    "assert(len(crawler.all_json_to_send)>0)"
   ]
  },
  {
   "cell_type": "code",
   "execution_count": 9,
   "metadata": {},
   "outputs": [],
   "source": [
    "assert validators.url(crawler.all_json_to_send[0][\"url\"])"
   ]
  },
  {
   "cell_type": "code",
   "execution_count": 10,
   "metadata": {},
   "outputs": [],
   "source": [
    "SEED_SCRAP = 'https://www.unotv.com/internacional/estados-unidos-exigira-prueba-covid-19-negativa-para-ingresar-en-avion/'"
   ]
  },
  {
   "cell_type": "code",
   "execution_count": 11,
   "metadata": {},
   "outputs": [],
   "source": [
    "QUERY_TITLE = \"//h1[@class='entry-title']\"\n",
    "QUERY_CONTENT =  \"//div[@class='entry-content']//*[self::p|self::h2|self::ul]\"\n",
    "QUERY_DATE = \"//time[@class='entry-date published']/@datetime\""
   ]
  },
  {
   "cell_type": "code",
   "execution_count": 12,
   "metadata": {},
   "outputs": [],
   "source": [
    "import json\n",
    "import w3lib.html\n",
    "import random\n",
    "import os\n",
    "import datetime\n",
    "import requests\n",
    "import string\n",
    "import calendar\n",
    "import html\n",
    "import locale \n",
    "import datefinder\n",
    "from requests_html import HTMLSession\n",
    "import re"
   ]
  },
  {
   "cell_type": "code",
   "execution_count": 25,
   "metadata": {},
   "outputs": [],
   "source": [
    "class Scraper:\n",
    "    \n",
    "    USER_AGENT_LIST = [\n",
    "        \"Mozilla/5.0 (Windows NT 6.1; WOW64) AppleWebKit/537.1 (KHTML, like Gecko) Chrome/22.0.1207.1 Safari/537.1\",\n",
    "        \"Mozilla/5.0 (X11; CrOS i686 2268.111.0) AppleWebKit/536.11 (KHTML, like Gecko) Chrome/20.0.1132.57 Safari/536.11\",\n",
    "        \"Mozilla/5.0 (Windows NT 6.1; WOW64) AppleWebKit/536.6 (KHTML, like Gecko) Chrome/20.0.1092.0 Safari/536.6\",\n",
    "        \"Mozilla/5.0 (Windows NT 6.2) AppleWebKit/536.6 (KHTML, like Gecko) Chrome/20.0.1090.0 Safari/536.6\",\n",
    "        \"Mozilla/5.0 (Windows NT 6.2; WOW64) AppleWebKit/537.1 (KHTML, like Gecko) Chrome/19.77.34.5 Safari/537.1\",\n",
    "        \"Mozilla/5.0 (X11; Linux x86_64) AppleWebKit/536.5 (KHTML, like Gecko) Chrome/19.0.1084.9 Safari/536.5\",\n",
    "        \"Mozilla/5.0 (Windows NT 6.0) AppleWebKit/536.5 (KHTML, like Gecko) Chrome/19.0.1084.36 Safari/536.5\",\n",
    "        \"Mozilla/5.0 (Windows NT 6.1; WOW64) AppleWebKit/536.3 (KHTML, like Gecko) Chrome/19.0.1063.0 Safari/536.3\",\n",
    "        \"Mozilla/5.0 (Windows NT 5.1) AppleWebKit/536.3 (KHTML, like Gecko) Chrome/19.0.1063.0 Safari/536.3\",\n",
    "        \"Mozilla/5.0 (Macintosh; Intel Mac OS X 10_8_0) AppleWebKit/536.3 (KHTML, like Gecko) Chrome/19.0.1063.0 Safari/536.3\",\n",
    "        \"Mozilla/5.0 (Windows NT 6.2) AppleWebKit/536.3 (KHTML, like Gecko) Chrome/19.0.1062.0 Safari/536.3\",\n",
    "        \"Mozilla/5.0 (Windows NT 6.1; WOW64) AppleWebKit/536.3 (KHTML, like Gecko) Chrome/19.0.1062.0 Safari/536.3\",\n",
    "        \"Mozilla/5.0 (Windows NT 6.2) AppleWebKit/536.3 (KHTML, like Gecko) Chrome/19.0.1061.1 Safari/536.3\",\n",
    "        \"Mozilla/5.0 (Windows NT 6.1; WOW64) AppleWebKit/536.3 (KHTML, like Gecko) Chrome/19.0.1061.1 Safari/536.3\",\n",
    "        \"Mozilla/5.0 (Windows NT 6.1) AppleWebKit/536.3 (KHTML, like Gecko) Chrome/19.0.1061.1 Safari/536.3\",\n",
    "        \"Mozilla/5.0 (Windows NT 6.2) AppleWebKit/536.3 (KHTML, like Gecko) Chrome/19.0.1061.0 Safari/536.3\",\n",
    "        \"Mozilla/5.0 (X11; Linux x86_64) AppleWebKit/535.24 (KHTML, like Gecko) Chrome/19.0.1055.1 Safari/535.24\",\n",
    "        \"Mozilla/5.0 (Windows NT 6.2; WOW64) AppleWebKit/535.24 (KHTML, like Gecko) Chrome/19.0.1055.1 Safari/535.24\"\n",
    "    ]\n",
    "\n",
    "    query_extract_title = QUERY_TITLE\n",
    "    query_extract_text =  QUERY_CONTENT\n",
    "    query_extract_date = QUERY_DATE\n",
    "\n",
    "    \n",
    "    def _init_(self):\n",
    "        pass\n",
    "\n",
    "  \n",
    "    def start_request(self,url):\n",
    "        headers = {'user-agent':random.choice(self.USER_AGENT_LIST) }\n",
    "        session = HTMLSession()\n",
    "        response = session.get(url,headers=headers)  \n",
    "        return response\n",
    "    \n",
    "\n",
    "    def clean_text(self, html_text):\n",
    "        text_without_tags = w3lib.html.remove_tags(html_text)\n",
    "        text_without_escape_chars = w3lib.html.replace_escape_chars(text_without_tags)\n",
    "        text_without_escape_chars = html.unescape(text_without_escape_chars)\n",
    "        text_without_whitespace = text_without_escape_chars.strip()\n",
    "        return text_without_whitespace\n",
    "    \n",
    "    def replace_month_name_to_number(self,date_string):\n",
    "        lower_string = date_string.lower()\n",
    "        for month_id in range(1, 13):\n",
    "            if(lower_string.find(calendar.month_name[month_id].lower())!=-1):\n",
    "                if(month_id>=10):\n",
    "                    return (lower_string.replace(calendar.month_name[month_id].lower(),str(month_id)))\n",
    "                else:\n",
    "                    return (lower_string.replace(calendar.month_name[month_id].lower(),\"0\"+str(month_id)))\n",
    "            if(lower_string.find(calendar.month_abbr[month_id].lower())!=-1):\n",
    "                if(month_id>=10):\n",
    "                    return (lower_string.replace(calendar.month_abbr[month_id].lower(),str(month_id)))\n",
    "                else:\n",
    "                    return (lower_string.replace(calendar.month_abbr[month_id].lower(),\"0\"+str(month_id)))\n",
    "                    \n",
    "\n",
    "    def format_date(self,date):\n",
    "        matches = datefinder.find_dates(date)\n",
    "        for match in matches:\n",
    "            return (match.strftime(\"%Y-%m-%d\"))\n",
    "        \n",
    "\n",
    "\n",
    "    def parse(self, response):\n",
    "        self.news_text = []\n",
    "        self.message_to_send = []\n",
    "        self.scraped_url = response.url\n",
    "        self.news_title = response.html.xpath(self.query_extract_title)[0].text\n",
    "        self.date = response.html.xpath(self.query_extract_date)[0]\n",
    "        self.news_title = self.clean_text(self.news_title)\n",
    "        self.date = self.clean_text(self.date)\n",
    "        self.date = self.format_date(self.date)    \n",
    "        news_text_extracted_response = response.html.xpath(self.query_extract_text)\n",
    "        for part_of_body in news_text_extracted_response:\n",
    "            stripped_html_tags = w3lib.html.remove_tags(part_of_body.text)\n",
    "            text_cleaned = self.clean_text(stripped_html_tags)\n",
    "            self.news_text.append(text_cleaned)\n",
    "        self.news_text.pop()"
   ]
  },
  {
   "cell_type": "code",
   "execution_count": 26,
   "metadata": {},
   "outputs": [],
   "source": [
    "scraper = Scraper()\n",
    "response =scraper.start_request(SEED_SCRAP)"
   ]
  },
  {
   "cell_type": "code",
   "execution_count": 27,
   "metadata": {},
   "outputs": [],
   "source": [
    "scraper.parse(response)"
   ]
  },
  {
   "cell_type": "code",
   "execution_count": 28,
   "metadata": {},
   "outputs": [
    {
     "data": {
      "text/plain": [
       "'¿Vas a EU en avión? Deberás presentar prueba COVID-19 negativa'"
      ]
     },
     "execution_count": 28,
     "metadata": {},
     "output_type": "execute_result"
    }
   ],
   "source": [
    "scraper.news_title"
   ]
  },
  {
   "cell_type": "code",
   "execution_count": 29,
   "metadata": {},
   "outputs": [
    {
     "data": {
      "text/plain": [
       "'2021-01-12'"
      ]
     },
     "execution_count": 29,
     "metadata": {},
     "output_type": "execute_result"
    }
   ],
   "source": [
    "scraper.date"
   ]
  },
  {
   "cell_type": "code",
   "execution_count": 30,
   "metadata": {},
   "outputs": [
    {
     "data": {
      "text/plain": [
       "['Los Centros para el Control y la Prevención de Enfermedades (CDC) de Estados Unidos informaron a través de un comunicado difundido en su sitio web que, a partir del martes 26 de enero de 2021, será obligatoria la presentación de una prueba COVID-19 negativa para ingresar al país vía los aeropuertos, en medio de la crisis sanitaria por coronavirus.',\n",
       " 'En este sentido, los CDC de Estados Unidos explicaron que el requisito de prueba COVID-19 negativa se aplicará sin distinciones a todos los que lleguen al país del extranjero, ya que “las pruebas antes y después del viaje son una etapa crítica para frenar la introducción y propagación del COVID-19”. Adelantó que esta orden es más que “consistente” con la etapa actual de la pandemia.',\n",
       " 'Variantes del COVID-19 continúan apareciendo en países de todo el mundo.La presentación de la prueba COVID-19 negativa sólo “busca proteger” a Estados Unidos.',\n",
       " 'Los CDC de Estados Unidos ahondaron en el tema:',\n",
       " '“El requisito de prueba COVID-19 negativa para los pasajeros aéreos ayudará a frenar la propagación del virus mientras vacunamos al público estadounidense. Se deberán volver a hacer una prueba de 3 a 5 días después de la llegada y permanecer en casa durante 7 días después del viaje”.',\n",
       " 'HCPs: Do you have questions about #COVID19 vaccine safety for you & your patients?COVID-19 vaccines are rigorously tested to ensure they meet safety standards and were carefully reviewed by @US_FDA and CDC before being authorized and recommended. More: https://t.co/RtakLHwtuq. pic.twitter.com/lTAs2tduaM',\n",
       " 'Prueba COVID-19 negativa en Estados Unidos',\n",
       " 'El proceso identificará a viajeros infectados al descender de los aviones.Deberás someterte a una prueba tres días antes de la salida del vuelo a Estados Unidos.',\n",
       " 'Los pasajeros, además de presentar la prueba COVID-19 negativa en Estados Unidos, presentarán documentos escritos o digitales que avalen el resultado de laboratorio a la aerolínea, o proporcionar evidencias de haberse recuperado del COVID-19: “Las aerolíneas confirmarán la prueba COVID-19 negativa para todos los pasajeros o la documentación de recuperación antes de abordar”.',\n",
       " 'Robert R. Redfield, director de los CDC de Estados Unidos, comentó:',\n",
       " '“Si un pasajero no proporciona documentación de una prueba COVID-19 negativa o de recuperación, o elige no realizar una prueba, la aerolínea debe denegar el embarque al pasajero. Las pruebas no eliminan riesgos, pero cuando se combinan con permanencia en casa y precauciones como uso de cubrebocas y distanciamiento social, el viaje es más seguro, saludable y responsable”.']"
      ]
     },
     "execution_count": 30,
     "metadata": {},
     "output_type": "execute_result"
    }
   ],
   "source": [
    "scraper.news_text"
   ]
  },
  {
   "cell_type": "code",
   "execution_count": 31,
   "metadata": {},
   "outputs": [],
   "source": [
    "def validate(date_text):\n",
    "    try:\n",
    "        datetime.datetime.strptime(date_text, \"%Y-%m-%d\")\n",
    "        return True\n",
    "    except:\n",
    "        print(\"La fecha no tiene el formato correcto, año-mes-dia\")\n",
    "        return False\n",
    "\n",
    "    \n",
    "def test_news_title_has_text(news_title):\n",
    "    regex_string_only_numbers = r'^[0-9\\.\\ ]*$'\n",
    "    news_text_is_only_number_query = re.match(regex_string_only_numbers,news_title)\n",
    "    if(news_text_is_only_number_query is None):\n",
    "        return True\n",
    "    else:\n",
    "        return False\n",
    "\n",
    "    \n",
    "def test_news_text_has_text(news_text):\n",
    "    joined_text =   \" \".join(news_text)\n",
    "    regex_string_only_numbers = r'^[0-9\\.\\ ]*$'\n",
    "    news_text_is_only_number_query = re.match(regex_string_only_numbers,joined_text)\n",
    "    if(news_text_is_only_number_query is None):\n",
    "        return True\n",
    "    else:\n",
    "        return False\n",
    "\n",
    "        \n",
    "def test_news_title_length(news_title):\n",
    "    words_of_news_title = news_title.split(\" \")\n",
    "    len_of_each_news_title_word = list(map(len,words_of_news_title))\n",
    "    avg_of_news_words = sum(len_of_each_news_title_word)/len(len_of_each_news_title_word)\n",
    "    if(avg_of_news_words >= 1.5):\n",
    "        return True\n",
    "    else:\n",
    "        return False\n",
    "\n",
    "    \n",
    "def test_news_text_length(news_text):\n",
    "    len_of_each_news_text_words = []\n",
    "    for paragraph in news_text:\n",
    "        splited_words = paragraph.split(\" \")\n",
    "        len_of_each_news_text_words.extend(list(map(len,splited_words)))\n",
    "    avg_of_news_words = sum(len_of_each_news_text_words)/len(len_of_each_news_text_words)\n",
    "    if(avg_of_news_words >= 1.5):\n",
    "        return True\n",
    "    else:\n",
    "        return False"
   ]
  },
  {
   "cell_type": "code",
   "execution_count": 32,
   "metadata": {},
   "outputs": [],
   "source": [
    "assert(len(scraper.news_title)>0)\n",
    "assert(len(scraper.news_text)>0)\n",
    "assert(validate(scraper.date))\n",
    "assert(isinstance(scraper.news_title,str))\n",
    "assert(isinstance(scraper.news_text,list)) \n",
    "assert(scraper.news_title.find(\"<script>\")==-1)\n",
    "assert(scraper.news_title.find(\"</script>\")==-1)\n",
    "for text_piece in scraper.news_text:\n",
    "    assert(text_piece.find(\"<script>\")==-1)\n",
    "    assert(text_piece.find(\"</script>\")==-1)\n",
    "assert(test_news_title_has_text(scraper.news_title))\n",
    "assert(test_news_text_has_text(scraper.news_text))\n",
    "assert(test_news_title_length(scraper.news_title))\n",
    "assert(test_news_text_length(scraper.news_text))"
   ]
  },
  {
   "cell_type": "code",
   "execution_count": null,
   "metadata": {},
   "outputs": [],
   "source": []
  }
 ],
 "metadata": {
  "kernelspec": {
   "display_name": "Python 3",
   "language": "python",
   "name": "python3"
  },
  "language_info": {
   "codemirror_mode": {
    "name": "ipython",
    "version": 3
   },
   "file_extension": ".py",
   "mimetype": "text/x-python",
   "name": "python",
   "nbconvert_exporter": "python",
   "pygments_lexer": "ipython3",
   "version": "3.9.1"
  }
 },
 "nbformat": 4,
 "nbformat_minor": 4
}
